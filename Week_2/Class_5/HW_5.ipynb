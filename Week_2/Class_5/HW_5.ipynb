{
 "cells": [
  {
   "cell_type": "markdown",
   "metadata": {},
   "source": [
    "# HW 5\n",
    "This homework is far more freeform than the others in this class. The drug dataset is pretty cool so I want you guys to explore it. This will also be good practice for the project and if you enter a career as a data analyst/scientist where you have to communicate both what you are doing and why it's interesting.\n",
    "\n",
    "Note: If you would rather use the basketball dataset that is fine too. In that case, don't worry about directions about not using certain features. That is located at `data/bball_full.csv`"
   ]
  },
  {
   "cell_type": "markdown",
   "metadata": {},
   "source": [
    "## Preliminary"
   ]
  },
  {
   "cell_type": "code",
   "execution_count": null,
   "metadata": {
    "ExecuteTime": {
     "end_time": "2019-01-16T04:28:34.535636Z",
     "start_time": "2019-01-16T04:28:34.481188Z"
    }
   },
   "outputs": [],
   "source": [
    "#run this\n",
    "import pandas as pd\n",
    "data = pd.read_csv('data/drugs.tsv',delimiter='\\t',index_col='QUESTID2')\n",
    "emp_dict = {1:'Full Time',2:'Part Time',3:'Unemployed',4:'Other',99:'Child'}\n",
    "data.EMP = data.EMP.apply(lambda x: emp_dict[x])"
   ]
  },
  {
   "cell_type": "markdown",
   "metadata": {
    "ExecuteTime": {
     "end_time": "2019-01-16T04:27:47.293433Z",
     "start_time": "2019-01-16T04:27:47.217098Z"
    }
   },
   "source": []
  },
  {
   "cell_type": "markdown",
   "metadata": {},
   "source": [
    "## Special Functions"
   ]
  },
  {
   "cell_type": "code",
   "execution_count": null,
   "metadata": {
    "ExecuteTime": {
     "end_time": "2019-01-16T04:29:20.583091Z",
     "start_time": "2019-01-16T04:29:20.580600Z"
    }
   },
   "outputs": [],
   "source": [
    "## Exercise 1\n",
    "# Change the data.CIG_EVER column to have 'No' for 0 and 'Yes' for 1 using the dictionary apply approach that is used in the cell above for EMP "
   ]
  },
  {
   "cell_type": "code",
   "execution_count": null,
   "metadata": {
    "ExecuteTime": {
     "end_time": "2019-01-16T04:30:24.302199Z",
     "start_time": "2019-01-16T04:30:24.299329Z"
    }
   },
   "outputs": [],
   "source": [
    "## Exercise 2\n",
    "#Get binary values on your new data.CIG_EVER column using the function we talked about that does this in class"
   ]
  },
  {
   "cell_type": "markdown",
   "metadata": {},
   "source": [
    "## Groupby"
   ]
  },
  {
   "cell_type": "code",
   "execution_count": null,
   "metadata": {
    "ExecuteTime": {
     "end_time": "2019-01-16T04:31:50.232745Z",
     "start_time": "2019-01-16T04:31:50.223905Z"
    }
   },
   "outputs": [],
   "source": [
    "## Excerise 3\n",
    "## Use groupby on a column that isn't EMP and any aggregation function.\n",
    "## Tell me in a comment under your code what this is showing and why its interesting"
   ]
  },
  {
   "cell_type": "code",
   "execution_count": null,
   "metadata": {},
   "outputs": [],
   "source": [
    "## Exercise 4\n",
    "## Write you own aggregation function and use it after doing groupby on any column (EMP is allowed)\n",
    "## Tell me what this is doing, what the analysis means, and why its interesting"
   ]
  },
  {
   "cell_type": "markdown",
   "metadata": {},
   "source": [
    "## Pivot Tables"
   ]
  },
  {
   "cell_type": "code",
   "execution_count": null,
   "metadata": {},
   "outputs": [],
   "source": [
    "## Exercise 5\n",
    "## Create a pivot table that does not use 'EMP' or 'CIG_EVER' as index or columns and choose some aggregation function that isn't the mean.\n",
    "## Tell me what this is doing, what the analysis means, and why its interesting"
   ]
  },
  {
   "cell_type": "markdown",
   "metadata": {},
   "source": [
    "## String Functions"
   ]
  },
  {
   "cell_type": "code",
   "execution_count": null,
   "metadata": {
    "ExecuteTime": {
     "end_time": "2019-01-16T04:35:15.369411Z",
     "start_time": "2019-01-16T04:35:15.359558Z"
    }
   },
   "outputs": [],
   "source": [
    "## Exercise 6\n",
    "## Use a string function on the EMP column that we DID NOT talk about in lecture.\n",
    "## Tell me why it is useful to have this functionality in this specific case and in general."
   ]
  }
 ],
 "metadata": {
  "kernelspec": {
   "display_name": "Python 3",
   "language": "python",
   "name": "python3"
  },
  "language_info": {
   "codemirror_mode": {
    "name": "ipython",
    "version": 3
   },
   "file_extension": ".py",
   "mimetype": "text/x-python",
   "name": "python",
   "nbconvert_exporter": "python",
   "pygments_lexer": "ipython3",
   "version": "3.7.1"
  },
  "varInspector": {
   "cols": {
    "lenName": 16,
    "lenType": 16,
    "lenVar": 40
   },
   "kernels_config": {
    "python": {
     "delete_cmd_postfix": "",
     "delete_cmd_prefix": "del ",
     "library": "var_list.py",
     "varRefreshCmd": "print(var_dic_list())"
    },
    "r": {
     "delete_cmd_postfix": ") ",
     "delete_cmd_prefix": "rm(",
     "library": "var_list.r",
     "varRefreshCmd": "cat(var_dic_list()) "
    }
   },
   "types_to_exclude": [
    "module",
    "function",
    "builtin_function_or_method",
    "instance",
    "_Feature"
   ],
   "window_display": false
  }
 },
 "nbformat": 4,
 "nbformat_minor": 2
}
