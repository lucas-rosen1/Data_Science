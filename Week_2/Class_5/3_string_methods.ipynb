{
 "cells": [
  {
   "cell_type": "markdown",
   "metadata": {},
   "source": [
    "# Vectorized String Methods\n",
    "Just like NumPy \"Vectorized\" some math functions, Pandas vectorizes some string functions.\n",
    "\n",
    "Data Source: https://www.icpsr.umich.edu/icpsrweb/NACJD/studies/35509"
   ]
  },
  {
   "cell_type": "code",
   "execution_count": null,
   "metadata": {
    "ExecuteTime": {
     "end_time": "2019-01-16T02:10:20.157132Z",
     "start_time": "2019-01-16T02:10:20.143658Z"
    }
   },
   "outputs": [],
   "source": [
    "#An example of vectorization\n",
    "import numpy as np\n",
    "ones = np.ones(10)\n",
    "ones"
   ]
  },
  {
   "cell_type": "code",
   "execution_count": null,
   "metadata": {
    "ExecuteTime": {
     "end_time": "2019-01-16T02:10:22.391059Z",
     "start_time": "2019-01-16T02:10:22.385086Z"
    }
   },
   "outputs": [],
   "source": [
    "ones + 1"
   ]
  },
  {
   "cell_type": "markdown",
   "metadata": {},
   "source": [
    "What if we have a series of strings?"
   ]
  },
  {
   "cell_type": "code",
   "execution_count": null,
   "metadata": {
    "ExecuteTime": {
     "end_time": "2019-01-16T04:04:24.385367Z",
     "start_time": "2019-01-16T04:04:24.379359Z"
    }
   },
   "outputs": [],
   "source": [
    "import pandas as pd\n",
    "friends_ser = pd.Series(['Jason','Alex','Fayzan','Ethan'])\n",
    "friends_ser"
   ]
  },
  {
   "cell_type": "markdown",
   "metadata": {},
   "source": [
    "Lets look at the `lower` method on a string."
   ]
  },
  {
   "cell_type": "code",
   "execution_count": null,
   "metadata": {
    "ExecuteTime": {
     "end_time": "2019-01-16T04:03:36.202689Z",
     "start_time": "2019-01-16T04:03:36.189426Z"
    }
   },
   "outputs": [],
   "source": [
    "name = 'Lucas'\n",
    "name"
   ]
  },
  {
   "cell_type": "code",
   "execution_count": null,
   "metadata": {
    "ExecuteTime": {
     "end_time": "2019-01-16T04:03:39.383001Z",
     "start_time": "2019-01-16T04:03:39.368043Z"
    }
   },
   "outputs": [],
   "source": [
    "name.lower()"
   ]
  },
  {
   "cell_type": "markdown",
   "metadata": {},
   "source": [
    "It puts everything to lowercase. Similar to how we couldn't just multiply a list by 2 and needed to use numpy we cannot just apply lower to a list. We need to use Pandas. Is there a `pd.lower()` like there was an `np.exp` for example?"
   ]
  },
  {
   "cell_type": "code",
   "execution_count": null,
   "metadata": {
    "ExecuteTime": {
     "end_time": "2019-01-16T04:05:21.473096Z",
     "start_time": "2019-01-16T04:05:21.464804Z"
    }
   },
   "outputs": [],
   "source": [
    "pd.lower(friends_ser)"
   ]
  },
  {
   "cell_type": "markdown",
   "metadata": {},
   "source": [
    "Unfortunately not, however there is something you can do."
   ]
  },
  {
   "cell_type": "markdown",
   "metadata": {},
   "source": [
    "## Introducting `<SERIES>.str`"
   ]
  },
  {
   "cell_type": "code",
   "execution_count": null,
   "metadata": {
    "ExecuteTime": {
     "end_time": "2019-01-16T04:06:03.957081Z",
     "start_time": "2019-01-16T04:06:03.947255Z"
    }
   },
   "outputs": [],
   "source": [
    "friends_ser"
   ]
  },
  {
   "cell_type": "code",
   "execution_count": null,
   "metadata": {
    "ExecuteTime": {
     "end_time": "2019-01-16T04:06:27.191996Z",
     "start_time": "2019-01-16T04:06:27.188707Z"
    }
   },
   "outputs": [],
   "source": [
    "#Calling <SERIES>.str lets us access all of the string methods\n",
    "friends_ser.str"
   ]
  },
  {
   "cell_type": "code",
   "execution_count": null,
   "metadata": {
    "ExecuteTime": {
     "end_time": "2019-01-16T04:06:32.930309Z",
     "start_time": "2019-01-16T04:06:32.916422Z"
    }
   },
   "outputs": [],
   "source": [
    "friends_ser.str.lower()"
   ]
  },
  {
   "cell_type": "markdown",
   "metadata": {},
   "source": [
    "Most string methods that you can think of can be accessed by calling `<SERIES>.str.<METHOD>`\n",
    "\n",
    "A full list is here: https://pandas.pydata.org/pandas-docs/stable/text.html"
   ]
  },
  {
   "cell_type": "markdown",
   "metadata": {},
   "source": [
    "## Return types"
   ]
  },
  {
   "cell_type": "markdown",
   "metadata": {},
   "source": [
    "Certain string methods return series' of strings like `lower`"
   ]
  },
  {
   "cell_type": "code",
   "execution_count": null,
   "metadata": {
    "ExecuteTime": {
     "end_time": "2019-01-16T04:08:40.588205Z",
     "start_time": "2019-01-16T04:08:40.577819Z"
    }
   },
   "outputs": [],
   "source": [
    "friends_ser.str.lower()"
   ]
  },
  {
   "cell_type": "code",
   "execution_count": null,
   "metadata": {
    "ExecuteTime": {
     "end_time": "2019-01-16T04:13:04.607474Z",
     "start_time": "2019-01-16T04:13:04.589223Z"
    }
   },
   "outputs": [],
   "source": [
    "#Another example which isn't equalty a method but is something you can do. Indexing!\n",
    "friends_ser.str[1:3]"
   ]
  },
  {
   "cell_type": "markdown",
   "metadata": {},
   "source": [
    "Certain string methods may return integers"
   ]
  },
  {
   "cell_type": "code",
   "execution_count": null,
   "metadata": {
    "ExecuteTime": {
     "end_time": "2019-01-16T04:08:52.665225Z",
     "start_time": "2019-01-16T04:08:52.660628Z"
    }
   },
   "outputs": [],
   "source": [
    "friends_ser.str.len()"
   ]
  },
  {
   "cell_type": "markdown",
   "metadata": {},
   "source": [
    "Perhaps most interstingly (for now) are the ones that return booleans. \n",
    "\n",
    "(We will soon talk about ones that return lists which may be even more interesting)"
   ]
  },
  {
   "cell_type": "code",
   "execution_count": null,
   "metadata": {
    "ExecuteTime": {
     "end_time": "2019-01-16T04:09:13.966260Z",
     "start_time": "2019-01-16T04:09:13.961406Z"
    }
   },
   "outputs": [],
   "source": [
    "friends_ser.str.contains('a')"
   ]
  },
  {
   "cell_type": "markdown",
   "metadata": {},
   "source": [
    "Why is this the most interesting? Because we can use this for logical indexers. Lets see an example."
   ]
  },
  {
   "cell_type": "code",
   "execution_count": null,
   "metadata": {
    "ExecuteTime": {
     "end_time": "2019-01-16T04:13:07.649193Z",
     "start_time": "2019-01-16T04:13:07.591952Z"
    }
   },
   "outputs": [],
   "source": [
    "#Load in the data same way as in lecture 1 and 2\n",
    "data = pd.read_csv('data/drugs.tsv',delimiter='\\t',index_col='QUESTID2')"
   ]
  },
  {
   "cell_type": "markdown",
   "metadata": {
    "ExecuteTime": {
     "end_time": "2019-01-16T04:10:54.809772Z",
     "start_time": "2019-01-16T04:10:54.744381Z"
    }
   },
   "source": [
    "Lets say we only wanted to select the columns that tell us how many days this perhaps has done this drug. How can we do that using vectorized string operations?"
   ]
  },
  {
   "cell_type": "code",
   "execution_count": null,
   "metadata": {
    "ExecuteTime": {
     "end_time": "2019-01-16T04:13:16.502249Z",
     "start_time": "2019-01-16T04:13:16.497613Z"
    }
   },
   "outputs": [],
   "source": [
    "#get the series of columns\n",
    "data.columns"
   ]
  },
  {
   "cell_type": "markdown",
   "metadata": {},
   "source": [
    "Note: A pandas index is very similar to a series.\n",
    "\n",
    "Now, we can use the `endswith` string method and see if the given column name ends with `DAYS`."
   ]
  },
  {
   "cell_type": "code",
   "execution_count": null,
   "metadata": {
    "ExecuteTime": {
     "end_time": "2019-01-16T04:14:14.989734Z",
     "start_time": "2019-01-16T04:14:14.985727Z"
    }
   },
   "outputs": [],
   "source": [
    "\n",
    "data.columns.str.endswith('DAYS')"
   ]
  },
  {
   "cell_type": "markdown",
   "metadata": {},
   "source": [
    "Now we can index using this."
   ]
  },
  {
   "cell_type": "code",
   "execution_count": null,
   "metadata": {
    "ExecuteTime": {
     "end_time": "2019-01-16T04:14:29.605813Z",
     "start_time": "2019-01-16T04:14:29.568830Z"
    }
   },
   "outputs": [],
   "source": [
    "data.loc[:,data.columns.str.endswith('DAYS')]"
   ]
  },
  {
   "cell_type": "markdown",
   "metadata": {},
   "source": [
    "## Methods that return lists\n",
    "\n",
    "There are multiple methods that do this, but we'll discuss the `split` method."
   ]
  },
  {
   "cell_type": "code",
   "execution_count": null,
   "metadata": {
    "ExecuteTime": {
     "end_time": "2019-01-16T04:17:19.532728Z",
     "start_time": "2019-01-16T04:17:19.495451Z"
    }
   },
   "outputs": [],
   "source": [
    "#Lets apply the transformation to EMP that we used in lectures 1 and 2\n",
    "emp_dict = {1:'Full Time',2:'Part Time',3:'Unemployed',4:'Other',99:'Child'}\n",
    "data.EMP = data.EMP.apply(lambda x: emp_dict[x])"
   ]
  },
  {
   "cell_type": "markdown",
   "metadata": {
    "ExecuteTime": {
     "end_time": "2019-01-16T04:17:19.532728Z",
     "start_time": "2019-01-16T04:17:19.495451Z"
    }
   },
   "source": [
    "Lets look at the split method on the EMP column."
   ]
  },
  {
   "cell_type": "code",
   "execution_count": null,
   "metadata": {
    "ExecuteTime": {
     "end_time": "2019-01-16T04:17:56.101218Z",
     "start_time": "2019-01-16T04:17:56.024063Z"
    }
   },
   "outputs": [],
   "source": [
    "data.EMP.str.split()\n",
    "#returns a series of lists"
   ]
  },
  {
   "cell_type": "markdown",
   "metadata": {
    "ExecuteTime": {
     "end_time": "2019-01-16T04:17:56.101218Z",
     "start_time": "2019-01-16T04:17:56.024063Z"
    }
   },
   "source": [
    "By default we split on white space. We could also split on something else, like commas by using the `pat` argument. It would look like this."
   ]
  },
  {
   "cell_type": "code",
   "execution_count": null,
   "metadata": {
    "ExecuteTime": {
     "end_time": "2019-01-16T04:18:56.067635Z",
     "start_time": "2019-01-16T04:18:55.974534Z"
    }
   },
   "outputs": [],
   "source": [
    "data.EMP.str.split(pat=',')\n",
    "#There are no commas so nothing happens."
   ]
  },
  {
   "cell_type": "markdown",
   "metadata": {
    "ExecuteTime": {
     "end_time": "2019-01-16T04:18:56.067635Z",
     "start_time": "2019-01-16T04:18:55.974534Z"
    }
   },
   "source": [
    "Its unclear how we would work this series of lists. But we can do something else. We can turn this into a dataframe by using the `expand` argument."
   ]
  },
  {
   "cell_type": "code",
   "execution_count": null,
   "metadata": {
    "ExecuteTime": {
     "end_time": "2019-01-16T04:19:53.633829Z",
     "start_time": "2019-01-16T04:19:53.583148Z"
    }
   },
   "outputs": [],
   "source": [
    "#no longer split by comma\n",
    "data.EMP.str.split()"
   ]
  },
  {
   "cell_type": "code",
   "execution_count": null,
   "metadata": {
    "ExecuteTime": {
     "end_time": "2019-01-16T04:20:22.101950Z",
     "start_time": "2019-01-16T04:20:21.903010Z"
    }
   },
   "outputs": [],
   "source": [
    "data.EMP.str.split(expand=True)\n",
    "#What is going on with the NaNs?"
   ]
  },
  {
   "cell_type": "markdown",
   "metadata": {
    "ExecuteTime": {
     "end_time": "2019-01-16T04:20:03.113207Z",
     "start_time": "2019-01-16T04:20:02.931084Z"
    }
   },
   "source": [
    "Here would be a use of this. You have the basketball dataset and a list of player names which are full names. You split on space and expand and now you have a column of first names and a column of last names. You can then append this to your dataset and drop the names column."
   ]
  },
  {
   "cell_type": "markdown",
   "metadata": {},
   "source": [
    "## Methods that use regular expressions\n",
    "\n",
    "I don't want to cover regexp notation but just know that there are many methods that utilize regular expressions."
   ]
  },
  {
   "cell_type": "markdown",
   "metadata": {},
   "source": [
    "## More reference:\n",
    "https://jakevdp.github.io/PythonDataScienceHandbook/03.10-working-with-strings.html"
   ]
  },
  {
   "cell_type": "code",
   "execution_count": null,
   "metadata": {},
   "outputs": [],
   "source": []
  }
 ],
 "metadata": {
  "kernelspec": {
   "display_name": "Python 3",
   "language": "python",
   "name": "python3"
  },
  "language_info": {
   "codemirror_mode": {
    "name": "ipython",
    "version": 3
   },
   "file_extension": ".py",
   "mimetype": "text/x-python",
   "name": "python",
   "nbconvert_exporter": "python",
   "pygments_lexer": "ipython3",
   "version": "3.7.1"
  },
  "varInspector": {
   "cols": {
    "lenName": 16,
    "lenType": 16,
    "lenVar": 40
   },
   "kernels_config": {
    "python": {
     "delete_cmd_postfix": "",
     "delete_cmd_prefix": "del ",
     "library": "var_list.py",
     "varRefreshCmd": "print(var_dic_list())"
    },
    "r": {
     "delete_cmd_postfix": ") ",
     "delete_cmd_prefix": "rm(",
     "library": "var_list.r",
     "varRefreshCmd": "cat(var_dic_list()) "
    }
   },
   "types_to_exclude": [
    "module",
    "function",
    "builtin_function_or_method",
    "instance",
    "_Feature"
   ],
   "window_display": false
  }
 },
 "nbformat": 4,
 "nbformat_minor": 2
}
