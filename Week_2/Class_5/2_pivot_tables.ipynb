{
 "cells": [
  {
   "cell_type": "markdown",
   "metadata": {},
   "source": [
    "# Pivot Tables\n",
    "In this lecture we'll talk about the pivot table. If you are knowledge in excel, this should be familiar. \n",
    "\n",
    "Pivot tables come up somewhat often. If you didn't know about this specific functionality you still could create them yourself but it would very annoying. Pandas makes it easy.\n",
    "\n",
    "We can think of a Pivot_Table as a groupby in 2-d. This probably isn't clear yet.\n",
    "\n",
    "Lets look at an example.\n",
    "\n",
    "Data Source: https://www.icpsr.umich.edu/icpsrweb/NACJD/studies/35509"
   ]
  },
  {
   "cell_type": "code",
   "execution_count": null,
   "metadata": {
    "ExecuteTime": {
     "end_time": "2019-01-16T03:47:52.585006Z",
     "start_time": "2019-01-16T03:47:52.536887Z"
    }
   },
   "outputs": [],
   "source": [
    "import pandas as pd\n",
    "#Load in same as in lecture 1\n",
    "data = pd.read_csv('data/drugs.tsv',delimiter='\\t',index_col='QUESTID2')"
   ]
  },
  {
   "cell_type": "code",
   "execution_count": null,
   "metadata": {
    "ExecuteTime": {
     "end_time": "2019-01-16T03:47:53.204296Z",
     "start_time": "2019-01-16T03:47:53.178861Z"
    }
   },
   "outputs": [],
   "source": [
    "#Again apply transofmration to EMP\n",
    "emp_dict = {1:'Full Time',2:'Part Time',3:'Unemployed',4:'Other',99:'Child'}\n",
    "data.EMP = data.EMP.apply(lambda x: emp_dict[x])"
   ]
  },
  {
   "cell_type": "markdown",
   "metadata": {
    "ExecuteTime": {
     "end_time": "2019-01-16T03:49:17.057566Z",
     "start_time": "2019-01-16T03:49:17.019139Z"
    }
   },
   "source": [
    "Lets say we wanted to know the average age of first alcohol drink based on employment type. We could do this based on groupby."
   ]
  },
  {
   "cell_type": "code",
   "execution_count": null,
   "metadata": {
    "ExecuteTime": {
     "end_time": "2019-01-16T03:51:35.463967Z",
     "start_time": "2019-01-16T03:51:35.447299Z"
    }
   },
   "outputs": [],
   "source": [
    "data.groupby('EMP').mean().ALC_AGE"
   ]
  },
  {
   "cell_type": "code",
   "execution_count": null,
   "metadata": {
    "ExecuteTime": {
     "end_time": "2019-01-16T03:51:39.908868Z",
     "start_time": "2019-01-16T03:51:39.901783Z"
    }
   },
   "outputs": [],
   "source": [
    "#Just as an asside, we can select the column we want before doing the aggregation\n",
    "data.groupby('EMP').ALC_AGE.mean()"
   ]
  },
  {
   "cell_type": "code",
   "execution_count": null,
   "metadata": {
    "ExecuteTime": {
     "end_time": "2019-01-16T03:52:34.546550Z",
     "start_time": "2019-01-16T03:52:34.520510Z"
    }
   },
   "outputs": [],
   "source": [
    "#We also can do this\n",
    "data.pivot_table(values='ALC_AGE',aggfunc=np.mean,index='EMP')"
   ]
  },
  {
   "cell_type": "markdown",
   "metadata": {
    "ExecuteTime": {
     "end_time": "2019-01-16T03:52:34.546550Z",
     "start_time": "2019-01-16T03:52:34.520510Z"
    }
   },
   "source": [
    "Here, `values` tells us which feature to get information based on. \n",
    "\n",
    "`Agg_func` tells us how to aggregate, we chose the mean. We could do like the last lecture and define our own. For example, we could use entropy.\n",
    "\n",
    "`Index` tells us which feature to groupby, which is also which feature to make the index."
   ]
  },
  {
   "cell_type": "code",
   "execution_count": null,
   "metadata": {
    "ExecuteTime": {
     "end_time": "2019-01-16T03:55:09.982812Z",
     "start_time": "2019-01-16T03:55:09.967151Z"
    }
   },
   "outputs": [],
   "source": [
    "#We can get multiple columns\n",
    "data.pivot_table(values=['ALC_AGE','COC_AGE'],aggfunc=np.mean,index='EMP')"
   ]
  },
  {
   "cell_type": "markdown",
   "metadata": {
    "ExecuteTime": {
     "end_time": "2019-01-16T03:55:09.982812Z",
     "start_time": "2019-01-16T03:55:09.967151Z"
    }
   },
   "source": [
    "If we don't give a `values` argument, it will just get information on every feature by default."
   ]
  },
  {
   "cell_type": "code",
   "execution_count": null,
   "metadata": {
    "ExecuteTime": {
     "end_time": "2019-01-16T03:55:53.481993Z",
     "start_time": "2019-01-16T03:55:53.451044Z"
    }
   },
   "outputs": [],
   "source": [
    "data.pivot_table(aggfunc=np.mean,index='EMP')"
   ]
  },
  {
   "cell_type": "markdown",
   "metadata": {
    "ExecuteTime": {
     "end_time": "2019-01-16T03:55:53.481993Z",
     "start_time": "2019-01-16T03:55:53.451044Z"
    }
   },
   "source": [
    "If we don't give an `aggfunc` we will do the mean by default."
   ]
  },
  {
   "cell_type": "code",
   "execution_count": null,
   "metadata": {
    "ExecuteTime": {
     "end_time": "2019-01-16T03:56:23.489578Z",
     "start_time": "2019-01-16T03:56:23.461894Z"
    }
   },
   "outputs": [],
   "source": [
    "data.pivot_table(index='EMP')"
   ]
  },
  {
   "cell_type": "markdown",
   "metadata": {},
   "source": [
    "Nothing special so far. But what if we also wanted to classify based on whether a person had smoked a cigarrette or not. May be interesting to know if among those who are employed, whether those that smoked cigarettes drank alcohol at a younger age. How can we do that?\n",
    "\n",
    "With the `columns` argument! This tells us the second feature to groupby."
   ]
  },
  {
   "cell_type": "code",
   "execution_count": null,
   "metadata": {
    "ExecuteTime": {
     "end_time": "2019-01-16T03:57:02.123611Z",
     "start_time": "2019-01-16T03:57:02.082257Z"
    }
   },
   "outputs": [],
   "source": [
    "#Lets check it out\n",
    "data.pivot_table(values='ALC_AGE',aggfunc=np.mean,index='EMP',columns='CIG_EVER')"
   ]
  },
  {
   "cell_type": "markdown",
   "metadata": {},
   "source": [
    "It turns out my intution was true.\n",
    "\n",
    "The things we just talked about with `values` and `aggfunc` still apply here."
   ]
  },
  {
   "cell_type": "code",
   "execution_count": null,
   "metadata": {
    "ExecuteTime": {
     "end_time": "2019-01-16T04:00:14.161756Z",
     "start_time": "2019-01-16T04:00:14.135010Z"
    }
   },
   "outputs": [],
   "source": [
    "#This just returns the transpose by switching the index and columns. Use whichever seems more useful.\n",
    "data.pivot_table(values='ALC_AGE',aggfunc=np.mean,index='CIG_EVER',columns='EMP')"
   ]
  },
  {
   "cell_type": "markdown",
   "metadata": {},
   "source": [
    "You also can give multiple aggregation functions."
   ]
  },
  {
   "cell_type": "code",
   "execution_count": null,
   "metadata": {
    "ExecuteTime": {
     "end_time": "2019-01-16T04:00:33.587263Z",
     "start_time": "2019-01-16T04:00:33.532640Z"
    }
   },
   "outputs": [],
   "source": [
    "data.pivot_table(values='ALC_AGE',aggfunc=[np.mean,np.std],index='EMP',columns='CIG_EVER')"
   ]
  }
 ],
 "metadata": {
  "kernelspec": {
   "display_name": "Python 3",
   "language": "python",
   "name": "python3"
  },
  "language_info": {
   "codemirror_mode": {
    "name": "ipython",
    "version": 3
   },
   "file_extension": ".py",
   "mimetype": "text/x-python",
   "name": "python",
   "nbconvert_exporter": "python",
   "pygments_lexer": "ipython3",
   "version": "3.7.1"
  },
  "varInspector": {
   "cols": {
    "lenName": 16,
    "lenType": 16,
    "lenVar": 40
   },
   "kernels_config": {
    "python": {
     "delete_cmd_postfix": "",
     "delete_cmd_prefix": "del ",
     "library": "var_list.py",
     "varRefreshCmd": "print(var_dic_list())"
    },
    "r": {
     "delete_cmd_postfix": ") ",
     "delete_cmd_prefix": "rm(",
     "library": "var_list.r",
     "varRefreshCmd": "cat(var_dic_list()) "
    }
   },
   "types_to_exclude": [
    "module",
    "function",
    "builtin_function_or_method",
    "instance",
    "_Feature"
   ],
   "window_display": false
  }
 },
 "nbformat": 4,
 "nbformat_minor": 2
}
