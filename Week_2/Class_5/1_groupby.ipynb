{
 "cells": [
  {
   "cell_type": "markdown",
   "metadata": {},
   "source": [
    "# Groupby\n",
    "In this lecture, we'll be talking about one of the most powerful tools in Pandas, the 'groupby' feature.\n",
    "\n",
    "Before that, let's discuss some special methods in pandas that will also be useful in the groupby.\n",
    "\n",
    "Data Source: https://www.icpsr.umich.edu/icpsrweb/NACJD/studies/35509"
   ]
  },
  {
   "cell_type": "markdown",
   "metadata": {},
   "source": [
    "## The delimiter in read_csv\n",
    "\n",
    "What is a csv file? In its most basic essence, it is data separated by commas. csv even stands for \"comma separated values.\" Pandas assumes this is what separates our data when we call `pd.read_csv()`. But what if our data wasn't separated by commas? \n",
    "\n",
    "Notation-wise, we call this separator the delimiter. This most common delimieter is a comma. You may also see data delimited by a tab. How can we tell Pandas that this separates our data. Do we even have to?\n",
    "\n",
    "Take a look at `data/drugs.tsv`"
   ]
  },
  {
   "cell_type": "code",
   "execution_count": null,
   "metadata": {
    "ExecuteTime": {
     "end_time": "2019-01-16T03:38:56.615689Z",
     "start_time": "2019-01-16T03:38:56.362897Z"
    }
   },
   "outputs": [],
   "source": [
    "import pandas as pd\n",
    "data = pd.read_csv('data/drugs.tsv',delimiter='\\t')"
   ]
  },
  {
   "cell_type": "code",
   "execution_count": null,
   "metadata": {
    "ExecuteTime": {
     "end_time": "2019-01-16T03:38:56.979241Z",
     "start_time": "2019-01-16T03:38:56.919191Z"
    }
   },
   "outputs": [],
   "source": [
    "data"
   ]
  },
  {
   "cell_type": "code",
   "execution_count": null,
   "metadata": {
    "ExecuteTime": {
     "end_time": "2019-01-16T03:38:57.643642Z",
     "start_time": "2019-01-16T03:38:57.574916Z"
    }
   },
   "outputs": [],
   "source": [
    "#make index_col into enc_id\n",
    "data = pd.read_csv('data/drugs.tsv',delimiter='\\t',index_col='QUESTID2')"
   ]
  },
  {
   "cell_type": "markdown",
   "metadata": {},
   "source": [
    "## use_cols\n",
    "\n",
    "What if we only wanted to load in certain columns. Perhaps because our data is very large. First, how can we even see the column names when our data is large?"
   ]
  },
  {
   "cell_type": "code",
   "execution_count": null,
   "metadata": {
    "ExecuteTime": {
     "end_time": "2019-01-16T03:38:58.497655Z",
     "start_time": "2019-01-16T03:38:58.469670Z"
    }
   },
   "outputs": [],
   "source": [
    "pd.read_csv('data/drugs.tsv',delimiter='\\t',index_col='QUESTID2',nrows=10)"
   ]
  },
  {
   "cell_type": "markdown",
   "metadata": {},
   "source": [
    "Now we can see the column names. What if we only wanted the ones on alcohol?"
   ]
  },
  {
   "cell_type": "code",
   "execution_count": null,
   "metadata": {
    "ExecuteTime": {
     "end_time": "2019-01-16T03:38:59.392223Z",
     "start_time": "2019-01-16T03:38:59.177698Z"
    }
   },
   "outputs": [],
   "source": [
    "pd.read_csv('data/drugs.tsv',delimiter='\\t',index_col='QUESTID2',usecols=['ALC_EVER','ALC_AGE','ALC_DAYS'])"
   ]
  },
  {
   "cell_type": "code",
   "execution_count": null,
   "metadata": {
    "ExecuteTime": {
     "end_time": "2019-01-16T03:38:59.774543Z",
     "start_time": "2019-01-16T03:38:59.727602Z"
    }
   },
   "outputs": [],
   "source": [
    "#Need to also load in our index column\n",
    "pd.read_csv('data/drugs.tsv',delimiter='\\t',index_col='QUESTID2',usecols=['QUESTID2','ALC_EVER','ALC_AGE','ALC_DAYS'])"
   ]
  },
  {
   "cell_type": "markdown",
   "metadata": {},
   "source": [
    "## .unique"
   ]
  },
  {
   "cell_type": "markdown",
   "metadata": {
    "ExecuteTime": {
     "end_time": "2019-01-16T03:04:50.913447Z",
     "start_time": "2019-01-16T03:04:50.863059Z"
    }
   },
   "source": [
    "What if we wanted to find the number of days that people have done cocaine in the past 30 days?\n",
    "We essentially want to find the unique different elements in `data.COC_DAYS`"
   ]
  },
  {
   "cell_type": "code",
   "execution_count": null,
   "metadata": {
    "ExecuteTime": {
     "end_time": "2019-01-16T03:39:01.144648Z",
     "start_time": "2019-01-16T03:39:01.139767Z"
    }
   },
   "outputs": [],
   "source": [
    "data.COC_DAYS.unique()"
   ]
  },
  {
   "cell_type": "markdown",
   "metadata": {},
   "source": [
    "## .value_counts\n",
    "Similar to `.unique()` what if we wanted to know how many people matched each unique value?"
   ]
  },
  {
   "cell_type": "code",
   "execution_count": null,
   "metadata": {
    "ExecuteTime": {
     "end_time": "2019-01-16T03:39:01.643418Z",
     "start_time": "2019-01-16T03:39:01.637101Z"
    }
   },
   "outputs": [],
   "source": [
    "data.COC_DAYS.value_counts()"
   ]
  },
  {
   "cell_type": "markdown",
   "metadata": {},
   "source": [
    "Note that NaN is ignored. If we wanted to know how many NaNs there are we can fill nans with some other value then call `value_counts.`\n",
    "-1 is a good choice because we know -1 doesn't make sense as an answer to \"How many days have you done cocaine in the past month?\""
   ]
  },
  {
   "cell_type": "code",
   "execution_count": null,
   "metadata": {
    "ExecuteTime": {
     "end_time": "2019-01-16T03:39:02.153013Z",
     "start_time": "2019-01-16T03:39:02.143795Z"
    }
   },
   "outputs": [],
   "source": [
    "data.COC_DAYS.fillna(-1).value_counts()"
   ]
  },
  {
   "cell_type": "markdown",
   "metadata": {},
   "source": [
    "## .describe()\n",
    "We can get all of our summary statistics for a series in one."
   ]
  },
  {
   "cell_type": "code",
   "execution_count": null,
   "metadata": {
    "ExecuteTime": {
     "end_time": "2019-01-16T03:39:02.823318Z",
     "start_time": "2019-01-16T03:39:02.814415Z"
    }
   },
   "outputs": [],
   "source": [
    "data.COC_AGE.describe()\n",
    "#Count, counts non NaNs\n",
    "#returns a series"
   ]
  },
  {
   "cell_type": "markdown",
   "metadata": {},
   "source": [
    "## Describe on a dataframe"
   ]
  },
  {
   "cell_type": "code",
   "execution_count": null,
   "metadata": {
    "ExecuteTime": {
     "end_time": "2019-01-16T03:39:03.519116Z",
     "start_time": "2019-01-16T03:39:03.422051Z"
    }
   },
   "outputs": [],
   "source": [
    "data.describe()"
   ]
  },
  {
   "cell_type": "markdown",
   "metadata": {},
   "source": [
    "## Apply"
   ]
  },
  {
   "cell_type": "markdown",
   "metadata": {},
   "source": [
    "What if we want to apply some function to each item in a series that doesn't have some easy numpy or pandas function?"
   ]
  },
  {
   "cell_type": "code",
   "execution_count": null,
   "metadata": {
    "ExecuteTime": {
     "end_time": "2019-01-16T03:39:04.288896Z",
     "start_time": "2019-01-16T03:39:04.258001Z"
    }
   },
   "outputs": [],
   "source": [
    "#Multiply every element by 2\n",
    "data.CIG_EVER.apply(lambda x: x*2)\n",
    "#What is this notation?\n",
    "#What is this doing?"
   ]
  },
  {
   "cell_type": "code",
   "execution_count": null,
   "metadata": {
    "ExecuteTime": {
     "end_time": "2019-01-16T03:39:04.550469Z",
     "start_time": "2019-01-16T03:39:04.544666Z"
    }
   },
   "outputs": [],
   "source": [
    "#Returns a copy\n",
    "data.CIG_EVER"
   ]
  },
  {
   "cell_type": "markdown",
   "metadata": {},
   "source": [
    "Heres a useful example of `apply`. It turns out that the numbers in the `EMP` column encode meaning. That can be summarized by this dictionary."
   ]
  },
  {
   "cell_type": "code",
   "execution_count": null,
   "metadata": {
    "ExecuteTime": {
     "end_time": "2019-01-16T03:39:05.199063Z",
     "start_time": "2019-01-16T03:39:05.182745Z"
    }
   },
   "outputs": [],
   "source": [
    "emp_dict = {1:'Full Time',2:'Part Time',3:'Unemployed',4:'Other',99:'Child'}\n",
    "emp_dict"
   ]
  },
  {
   "cell_type": "code",
   "execution_count": null,
   "metadata": {
    "ExecuteTime": {
     "end_time": "2019-01-16T03:39:05.493742Z",
     "start_time": "2019-01-16T03:39:05.487802Z"
    }
   },
   "outputs": [],
   "source": [
    "data.EMP"
   ]
  },
  {
   "cell_type": "code",
   "execution_count": null,
   "metadata": {
    "ExecuteTime": {
     "end_time": "2019-01-16T03:39:05.846551Z",
     "start_time": "2019-01-16T03:39:05.823687Z"
    }
   },
   "outputs": [],
   "source": [
    "#Lets change our numbers to the actual meaning using apply\n",
    "data.EMP.apply(lambda x: emp_dict[x])"
   ]
  },
  {
   "cell_type": "markdown",
   "metadata": {
    "ExecuteTime": {
     "end_time": "2019-01-16T03:24:49.905602Z",
     "start_time": "2019-01-16T03:24:49.887141Z"
    }
   },
   "source": [
    "This was shorthand. We also could write a function that takes one element and returns anther and pass that into apply."
   ]
  },
  {
   "cell_type": "code",
   "execution_count": null,
   "metadata": {
    "ExecuteTime": {
     "end_time": "2019-01-16T03:39:06.443494Z",
     "start_time": "2019-01-16T03:39:06.439094Z"
    }
   },
   "outputs": [],
   "source": [
    "#Longhand\n",
    "def dict_apply(my_int_label):\n",
    "    return emp_dict[my_int_label]"
   ]
  },
  {
   "cell_type": "code",
   "execution_count": null,
   "metadata": {
    "ExecuteTime": {
     "end_time": "2019-01-16T03:39:06.767187Z",
     "start_time": "2019-01-16T03:39:06.745008Z"
    }
   },
   "outputs": [],
   "source": [
    "data.EMP.apply(dict_apply)"
   ]
  },
  {
   "cell_type": "markdown",
   "metadata": {
    "ExecuteTime": {
     "end_time": "2019-01-16T03:38:03.306435Z",
     "start_time": "2019-01-16T03:38:03.288453Z"
    }
   },
   "source": [
    "Lets actually change the EMP column"
   ]
  },
  {
   "cell_type": "code",
   "execution_count": null,
   "metadata": {
    "ExecuteTime": {
     "end_time": "2019-01-16T03:39:07.435698Z",
     "start_time": "2019-01-16T03:39:07.402062Z"
    }
   },
   "outputs": [],
   "source": [
    "data.EMP = data.EMP.apply(dict_apply)"
   ]
  },
  {
   "cell_type": "markdown",
   "metadata": {
    "ExecuteTime": {
     "end_time": "2019-01-16T03:17:12.520097Z",
     "start_time": "2019-01-16T03:17:12.455055Z"
    }
   },
   "source": []
  },
  {
   "cell_type": "markdown",
   "metadata": {},
   "source": [
    "## Get_Dummies"
   ]
  },
  {
   "cell_type": "markdown",
   "metadata": {},
   "source": [
    "Say we want to run an ML algorithm like Logistic Regression on this dataset to predict something. For example, lets if we wanted to use all other features to predict number of days taken Cocaine."
   ]
  },
  {
   "cell_type": "code",
   "execution_count": null,
   "metadata": {
    "ExecuteTime": {
     "end_time": "2019-01-16T03:39:08.545885Z",
     "start_time": "2019-01-16T03:39:08.526778Z"
    }
   },
   "outputs": [],
   "source": [
    "#For example\n",
    "y = data.COC_DAYS\n",
    "X = data.drop('COC_DAYS',1)"
   ]
  },
  {
   "cell_type": "code",
   "execution_count": null,
   "metadata": {
    "ExecuteTime": {
     "end_time": "2019-01-16T03:39:08.948123Z",
     "start_time": "2019-01-16T03:39:08.901644Z"
    }
   },
   "outputs": [],
   "source": [
    "X"
   ]
  },
  {
   "cell_type": "code",
   "execution_count": null,
   "metadata": {
    "ExecuteTime": {
     "end_time": "2019-01-16T03:39:09.293585Z",
     "start_time": "2019-01-16T03:39:09.288005Z"
    }
   },
   "outputs": [],
   "source": [
    "y"
   ]
  },
  {
   "cell_type": "markdown",
   "metadata": {},
   "source": [
    "Ignore the obvious issues with NaNs. We may just want to fill those with 0s anyway for days. And for age we can fill with 90 to say they didn't try until \"death\" or something like that.\n",
    "We have another issue. What is our ML model going to do with our text column 'EMP'. We cannot do math on text.\n",
    "\n",
    "(In general, we can say that EMP is a cateogrical feature that describes something qualatitive, whereas the other features are numerical features, that describe something quantative.)\n",
    "(Also, its somewhat up for debate as to whether the <>_EVER features are numeric or categorical)\n",
    "\n",
    "What should we do?"
   ]
  },
  {
   "cell_type": "markdown",
   "metadata": {},
   "source": [
    "One idea may be to encode our text back into the numbers 1,2,3,4 and 99. Why is this a very bad idea? What could we do instead?"
   ]
  },
  {
   "cell_type": "code",
   "execution_count": null,
   "metadata": {
    "ExecuteTime": {
     "end_time": "2019-01-16T03:39:09.644963Z",
     "start_time": "2019-01-16T03:39:09.620481Z"
    }
   },
   "outputs": [],
   "source": [
    "#Binary encoding\n",
    "pd.get_dummies(data.EMP)"
   ]
  },
  {
   "cell_type": "code",
   "execution_count": null,
   "metadata": {
    "ExecuteTime": {
     "end_time": "2019-01-16T03:39:10.009488Z",
     "start_time": "2019-01-16T03:39:10.004460Z"
    }
   },
   "outputs": [],
   "source": [
    "#Replace data.EMP with the dummies\n",
    "temp = pd.get_dummies(data.EMP)"
   ]
  },
  {
   "cell_type": "code",
   "execution_count": null,
   "metadata": {
    "ExecuteTime": {
     "end_time": "2019-01-16T03:39:10.426564Z",
     "start_time": "2019-01-16T03:39:10.424434Z"
    }
   },
   "outputs": [],
   "source": [
    "#You could do something like this? \n",
    "#Lets not do it though\n",
    "\n",
    "#data = data.drop('EMP',1)\n",
    "#data = pd.concat([data,temp],1)"
   ]
  },
  {
   "cell_type": "code",
   "execution_count": null,
   "metadata": {
    "ExecuteTime": {
     "end_time": "2019-01-16T03:39:10.880929Z",
     "start_time": "2019-01-16T03:39:10.818294Z"
    }
   },
   "outputs": [],
   "source": [
    "data"
   ]
  },
  {
   "cell_type": "markdown",
   "metadata": {},
   "source": [
    "# Groupby\n",
    "Now, we can finally talk about groupby. What is a groupby. Lets use an example.\n",
    "What if we wanted to know some summary stats based on ones employement?"
   ]
  },
  {
   "cell_type": "code",
   "execution_count": null,
   "metadata": {
    "ExecuteTime": {
     "end_time": "2019-01-16T03:39:11.283816Z",
     "start_time": "2019-01-16T03:39:11.279809Z"
    }
   },
   "outputs": [],
   "source": [
    "data.groupby('EMP')"
   ]
  },
  {
   "cell_type": "markdown",
   "metadata": {},
   "source": [
    "What is this strange object? It is a grouped dataframe. We can only get summary statistics from it. Lets take a look."
   ]
  },
  {
   "cell_type": "code",
   "execution_count": null,
   "metadata": {
    "ExecuteTime": {
     "end_time": "2019-01-16T03:26:10.066275Z",
     "start_time": "2019-01-16T03:26:10.037278Z"
    }
   },
   "outputs": [],
   "source": [
    "#Get mean of all stats based on employment\n",
    "data.groupby('EMP').mean()"
   ]
  },
  {
   "cell_type": "code",
   "execution_count": null,
   "metadata": {
    "ExecuteTime": {
     "end_time": "2019-01-16T03:26:25.718343Z",
     "start_time": "2019-01-16T03:26:25.695917Z"
    }
   },
   "outputs": [],
   "source": [
    "#Max works too\n",
    "data.groupby('EMP').max()"
   ]
  },
  {
   "cell_type": "code",
   "execution_count": null,
   "metadata": {
    "ExecuteTime": {
     "end_time": "2019-01-16T03:26:56.664398Z",
     "start_time": "2019-01-16T03:26:56.416894Z"
    }
   },
   "outputs": [],
   "source": [
    "#We can describe\n",
    "data.groupby('EMP').describe()"
   ]
  },
  {
   "cell_type": "markdown",
   "metadata": {
    "ExecuteTime": {
     "end_time": "2019-01-16T03:26:56.664398Z",
     "start_time": "2019-01-16T03:26:56.416894Z"
    }
   },
   "source": [
    "We techincally can groupby other columns but does that really make sense? We typically only use groupby on categorical variables?"
   ]
  },
  {
   "cell_type": "markdown",
   "metadata": {},
   "source": [
    "## Apply with Groupby\n",
    "\n",
    "We can technically use any aggregation function in our groupby. An aggregation function is one that takes in a series and returns one value.\n",
    "Lets say we wanted to get the entropy of the series. \n",
    "Entropy is defined as:\n",
    "$$\\sum x*log_2(x)$$\n",
    "Where if $x=0$ then we say $x*log_2(x)=0.$"
   ]
  },
  {
   "cell_type": "markdown",
   "metadata": {
    "ExecuteTime": {
     "end_time": "2019-01-16T03:29:21.391363Z",
     "start_time": "2019-01-16T03:29:21.357398Z"
    }
   },
   "source": []
  },
  {
   "cell_type": "markdown",
   "metadata": {},
   "source": [
    "Before we write a function lets think of how we might do that."
   ]
  },
  {
   "cell_type": "code",
   "execution_count": null,
   "metadata": {
    "ExecuteTime": {
     "end_time": "2019-01-16T03:31:16.978104Z",
     "start_time": "2019-01-16T03:31:16.969424Z"
    }
   },
   "outputs": [],
   "source": [
    "#Take ALC_AGE as an example"
   ]
  },
  {
   "cell_type": "code",
   "execution_count": null,
   "metadata": {
    "ExecuteTime": {
     "end_time": "2019-01-16T03:34:10.467434Z",
     "start_time": "2019-01-16T03:34:10.441346Z"
    }
   },
   "outputs": [],
   "source": [
    "data.ALC_AGE*np.log2(data.ALC_AGE)"
   ]
  },
  {
   "cell_type": "code",
   "execution_count": null,
   "metadata": {
    "ExecuteTime": {
     "end_time": "2019-01-16T03:34:13.076308Z",
     "start_time": "2019-01-16T03:34:13.070875Z"
    }
   },
   "outputs": [],
   "source": [
    "#You may think we'd have issues with 0s because of this but they'll just be nans and won't contribue to the sum\n",
    "0*np.log2(0)"
   ]
  },
  {
   "cell_type": "code",
   "execution_count": null,
   "metadata": {
    "ExecuteTime": {
     "end_time": "2019-01-16T03:34:14.787821Z",
     "start_time": "2019-01-16T03:34:14.771518Z"
    }
   },
   "outputs": [],
   "source": [
    "#So we can do\n",
    "np.sum(data.ALC_AGE*np.log2(data.ALC_AGE))"
   ]
  },
  {
   "cell_type": "markdown",
   "metadata": {},
   "source": [
    "Now, lets write this as a function:"
   ]
  },
  {
   "cell_type": "code",
   "execution_count": null,
   "metadata": {
    "ExecuteTime": {
     "end_time": "2019-01-16T03:34:16.375730Z",
     "start_time": "2019-01-16T03:34:16.372471Z"
    }
   },
   "outputs": [],
   "source": [
    "def entropy(ser):\n",
    "    return np.sum(ser*np.log2(ser))"
   ]
  },
  {
   "cell_type": "markdown",
   "metadata": {},
   "source": [
    "Now, we can just put this function into our apply method."
   ]
  },
  {
   "cell_type": "code",
   "execution_count": null,
   "metadata": {
    "ExecuteTime": {
     "end_time": "2019-01-16T03:41:24.038807Z",
     "start_time": "2019-01-16T03:41:23.941186Z"
    }
   },
   "outputs": [],
   "source": [
    "data.groupby('EMP').apply(entropy)"
   ]
  },
  {
   "cell_type": "markdown",
   "metadata": {},
   "source": [
    "We can also use numpy functions in our `apply` but most of the time this is already built into pandas"
   ]
  },
  {
   "cell_type": "code",
   "execution_count": null,
   "metadata": {
    "ExecuteTime": {
     "end_time": "2019-01-16T03:42:15.255681Z",
     "start_time": "2019-01-16T03:42:15.241517Z"
    }
   },
   "outputs": [],
   "source": [
    "#For example, this:\n",
    "data.groupby('EMP').mean()\n",
    "#Can be done like this\n",
    "data.groupby('EMP').apply(np.mean)\n"
   ]
  },
  {
   "cell_type": "code",
   "execution_count": null,
   "metadata": {},
   "outputs": [],
   "source": []
  }
 ],
 "metadata": {
  "kernelspec": {
   "display_name": "Python 3",
   "language": "python",
   "name": "python3"
  },
  "language_info": {
   "codemirror_mode": {
    "name": "ipython",
    "version": 3
   },
   "file_extension": ".py",
   "mimetype": "text/x-python",
   "name": "python",
   "nbconvert_exporter": "python",
   "pygments_lexer": "ipython3",
   "version": "3.7.1"
  },
  "varInspector": {
   "cols": {
    "lenName": 16,
    "lenType": 16,
    "lenVar": 40
   },
   "kernels_config": {
    "python": {
     "delete_cmd_postfix": "",
     "delete_cmd_prefix": "del ",
     "library": "var_list.py",
     "varRefreshCmd": "print(var_dic_list())"
    },
    "r": {
     "delete_cmd_postfix": ") ",
     "delete_cmd_prefix": "rm(",
     "library": "var_list.r",
     "varRefreshCmd": "cat(var_dic_list()) "
    }
   },
   "types_to_exclude": [
    "module",
    "function",
    "builtin_function_or_method",
    "instance",
    "_Feature"
   ],
   "window_display": false
  }
 },
 "nbformat": 4,
 "nbformat_minor": 2
}
