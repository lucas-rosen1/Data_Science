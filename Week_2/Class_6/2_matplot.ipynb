{
 "cells": [
  {
   "cell_type": "markdown",
   "metadata": {},
   "source": [
    "# Visualizing Data"
   ]
  },
  {
   "cell_type": "code",
   "execution_count": null,
   "metadata": {
    "ExecuteTime": {
     "end_time": "2019-01-18T20:36:20.218171Z",
     "start_time": "2019-01-18T20:36:19.872720Z"
    }
   },
   "outputs": [],
   "source": [
    "#Something new\n",
    "import numpy as np\n",
    "import pandas as pd\n",
    "import matplotlib.pyplot as plt"
   ]
  },
  {
   "cell_type": "markdown",
   "metadata": {},
   "source": [
    "# The MatplotLib\n",
    "Emulates matplob esque plotting in python\n",
    "\n",
    "* Really good for simple stuff\n",
    "* Really bad for more complex stuff\n",
    "\n",
    "If you need more complex use seaborn. There is also talk of a new library being developed by spotify that is supposedly quite good."
   ]
  },
  {
   "cell_type": "code",
   "execution_count": null,
   "metadata": {
    "ExecuteTime": {
     "end_time": "2019-01-18T20:36:52.024439Z",
     "start_time": "2019-01-18T20:36:52.020354Z"
    }
   },
   "outputs": [],
   "source": [
    "#lets get some data"
   ]
  },
  {
   "cell_type": "code",
   "execution_count": null,
   "metadata": {
    "ExecuteTime": {
     "end_time": "2019-01-18T20:37:02.489686Z",
     "start_time": "2019-01-18T20:37:02.466045Z"
    }
   },
   "outputs": [],
   "source": [
    "data = pd.read_csv('lebron.csv')\n",
    "years = '20' + data.Season.str.split('-',expand=True)[1]\n",
    "years = pd.to_datetime(years)\n",
    "data = data.drop('Season',1)\n",
    "data.index=years\n",
    "data.index.name='Season'\n",
    "\n",
    "data2 = pd.read_csv('jordan.csv')\n",
    "years = '19' + data2.Season.str.split('-',expand=True)[1]\n",
    "years = pd.to_datetime(years)\n",
    "data2 = data2.drop('Season',1)\n",
    "data2.index=years\n",
    "data2.index.name='Season'"
   ]
  },
  {
   "cell_type": "code",
   "execution_count": null,
   "metadata": {
    "ExecuteTime": {
     "end_time": "2019-01-18T20:37:05.654559Z",
     "start_time": "2019-01-18T20:37:05.615608Z"
    }
   },
   "outputs": [],
   "source": [
    "data"
   ]
  },
  {
   "cell_type": "code",
   "execution_count": null,
   "metadata": {
    "ExecuteTime": {
     "end_time": "2019-01-18T20:37:12.929989Z",
     "start_time": "2019-01-18T20:37:12.893762Z"
    }
   },
   "outputs": [],
   "source": [
    "data2"
   ]
  },
  {
   "cell_type": "markdown",
   "metadata": {
    "ExecuteTime": {
     "end_time": "2019-01-18T16:33:25.510202Z",
     "start_time": "2019-01-18T16:33:25.327971Z"
    }
   },
   "source": [
    "# Our first plot"
   ]
  },
  {
   "cell_type": "code",
   "execution_count": null,
   "metadata": {
    "ExecuteTime": {
     "end_time": "2019-01-18T20:37:33.750460Z",
     "start_time": "2019-01-18T20:37:33.603710Z"
    }
   },
   "outputs": [],
   "source": [
    "plt.plot(data.PTS)"
   ]
  },
  {
   "cell_type": "code",
   "execution_count": null,
   "metadata": {
    "ExecuteTime": {
     "end_time": "2019-01-18T20:38:15.250091Z",
     "start_time": "2019-01-18T20:38:15.132805Z"
    }
   },
   "outputs": [],
   "source": [
    "#What if  we wanted to make it a scatter?\n",
    "plt.plot(data.PTS,'o')"
   ]
  },
  {
   "cell_type": "code",
   "execution_count": null,
   "metadata": {
    "ExecuteTime": {
     "end_time": "2019-01-18T20:38:35.335277Z",
     "start_time": "2019-01-18T20:38:35.216543Z"
    }
   },
   "outputs": [],
   "source": [
    "#give it a title?\n",
    "plt.title('Lebrons Points')\n",
    "#nothing shows up"
   ]
  },
  {
   "cell_type": "code",
   "execution_count": null,
   "metadata": {
    "ExecuteTime": {
     "end_time": "2019-01-18T20:38:52.714847Z",
     "start_time": "2019-01-18T20:38:52.594380Z"
    }
   },
   "outputs": [],
   "source": [
    "#Lets do it in the same cell\n",
    "plt.plot(data.PTS)\n",
    "plt.title('Lebrons Points')\n"
   ]
  },
  {
   "cell_type": "code",
   "execution_count": null,
   "metadata": {
    "ExecuteTime": {
     "end_time": "2019-01-18T20:39:27.879588Z",
     "start_time": "2019-01-18T20:39:27.757453Z"
    }
   },
   "outputs": [],
   "source": [
    "#X and y labels\n",
    "plt.plot(data.PTS)\n",
    "plt.title('Lebrons Points')\n",
    "plt.xlabel('Year')\n",
    "plt.ylabel('Points')"
   ]
  },
  {
   "cell_type": "code",
   "execution_count": null,
   "metadata": {
    "ExecuteTime": {
     "end_time": "2019-01-18T20:39:51.309296Z",
     "start_time": "2019-01-18T20:39:51.178427Z"
    }
   },
   "outputs": [],
   "source": [
    "#Plotting multiple things\n",
    "plt.plot(data.PTS)\n",
    "plt.title('Lebrons Points')\n",
    "plt.xlabel('Year')\n",
    "plt.ylabel('Points')\n",
    "plt.plot(data.FTA)\n",
    "#puts them on the same graph"
   ]
  },
  {
   "cell_type": "markdown",
   "metadata": {},
   "source": [
    "If we don't want them on the same graph we can either do these in 2 different cells or use `plt.show()`\n",
    "\n",
    "`plt.show()` outputs and resets your graph"
   ]
  },
  {
   "cell_type": "code",
   "execution_count": null,
   "metadata": {
    "ExecuteTime": {
     "end_time": "2019-01-18T20:40:40.044223Z",
     "start_time": "2019-01-18T20:40:39.831309Z"
    }
   },
   "outputs": [],
   "source": [
    "#Plotting multiple things\n",
    "plt.plot(data.PTS)\n",
    "plt.title('Lebrons Points')\n",
    "plt.xlabel('Year')\n",
    "plt.ylabel('Points')\n",
    "plt.show()\n",
    "plt.plot(data.FTA)\n",
    "#puts them on different graphs"
   ]
  },
  {
   "cell_type": "markdown",
   "metadata": {
    "ExecuteTime": {
     "end_time": "2019-01-18T16:36:59.412145Z",
     "start_time": "2019-01-18T16:36:59.197462Z"
    }
   },
   "source": [
    "# Labeling multiple lines/scatters on one plot with legend"
   ]
  },
  {
   "cell_type": "code",
   "execution_count": null,
   "metadata": {
    "ExecuteTime": {
     "end_time": "2019-01-18T20:42:07.153246Z",
     "start_time": "2019-01-18T20:42:07.012372Z"
    }
   },
   "outputs": [],
   "source": [
    "plt.plot(data.PTS,label='Points')\n",
    "plt.plot(data.FTA,label='FTA')\n",
    "plt.legend()"
   ]
  },
  {
   "cell_type": "code",
   "execution_count": null,
   "metadata": {
    "ExecuteTime": {
     "end_time": "2019-01-18T20:42:39.732882Z",
     "start_time": "2019-01-18T20:42:39.580033Z"
    }
   },
   "outputs": [],
   "source": [
    "#How to fix this?\n",
    "plt.plot(data.PTS,label='Lebron')\n",
    "plt.plot(data2.PTS,label='Jordan')\n",
    "plt.legend()"
   ]
  },
  {
   "cell_type": "code",
   "execution_count": null,
   "metadata": {
    "ExecuteTime": {
     "end_time": "2019-01-18T20:43:55.331172Z",
     "start_time": "2019-01-18T20:43:55.210310Z"
    }
   },
   "outputs": [],
   "source": [
    "#Exercise, fix the obvious issue here,\n",
    "#Hint: create a 2 temporary series and them modify both indices into time delta\n",
    "#Hint2: Your timedelta will be in days, you can round to years by dividing by 365.25\n",
    "temp1 = data.PTS.copy()\n",
    "temp2 = data2.PTS.copy()\n",
    "#I wrote this for you. Need to use .copy() to be safe. Continue from there.\n",
    "temp1.index = temp1.index - temp1.index[0]\n",
    "temp2.index = temp2.index-temp2.index[0]\n",
    "plt.plot(temp1,label='Lebron')\n",
    "plt.plot(temp2,label='Jordan')\n",
    "plt.legend()"
   ]
  },
  {
   "cell_type": "markdown",
   "metadata": {
    "ExecuteTime": {
     "end_time": "2019-01-18T16:59:05.673059Z",
     "start_time": "2019-01-18T16:59:05.667907Z"
    }
   },
   "source": [
    "# Using something other than the index for the x axis"
   ]
  },
  {
   "cell_type": "code",
   "execution_count": null,
   "metadata": {
    "ExecuteTime": {
     "end_time": "2019-01-18T20:44:22.724053Z",
     "start_time": "2019-01-18T20:44:22.606050Z"
    }
   },
   "outputs": [],
   "source": [
    "plt.plot(data.PTS)"
   ]
  },
  {
   "cell_type": "code",
   "execution_count": null,
   "metadata": {
    "ExecuteTime": {
     "end_time": "2019-01-18T20:44:37.889946Z",
     "start_time": "2019-01-18T20:44:37.884842Z"
    }
   },
   "outputs": [],
   "source": [
    "data.PTS.index"
   ]
  },
  {
   "cell_type": "code",
   "execution_count": null,
   "metadata": {
    "ExecuteTime": {
     "end_time": "2019-01-18T20:44:40.141898Z",
     "start_time": "2019-01-18T20:44:40.137778Z"
    }
   },
   "outputs": [],
   "source": [
    "data.PTS.values"
   ]
  },
  {
   "cell_type": "code",
   "execution_count": null,
   "metadata": {
    "ExecuteTime": {
     "end_time": "2019-01-18T20:44:50.126269Z",
     "start_time": "2019-01-18T20:44:49.978705Z"
    }
   },
   "outputs": [],
   "source": [
    "#This is what is really going on when we pass in a series\n",
    "plt.plot(data.PTS.index,data.PTS.values)"
   ]
  },
  {
   "cell_type": "code",
   "execution_count": null,
   "metadata": {
    "ExecuteTime": {
     "end_time": "2019-01-18T20:45:23.709536Z",
     "start_time": "2019-01-18T20:45:23.615343Z"
    }
   },
   "outputs": [],
   "source": [
    "#Plot points against 3p%\n",
    "plt.plot(data.PTS.values,data['3P%'].values)"
   ]
  },
  {
   "cell_type": "code",
   "execution_count": null,
   "metadata": {
    "ExecuteTime": {
     "end_time": "2019-01-18T20:45:35.994669Z",
     "start_time": "2019-01-18T20:45:35.896262Z"
    }
   },
   "outputs": [],
   "source": [
    "#Probably better as a scatter\n",
    "plt.plot(data.PTS.values,data['3P%'].values,'o')\n",
    "plt.xlabel('Points')\n",
    "plt.ylabel('3P%')\n",
    "#looks like a linear relation\n",
    "#we will talk about how to fit that line next week"
   ]
  },
  {
   "cell_type": "markdown",
   "metadata": {},
   "source": [
    "# Note, there are a lot of other options such as changing color of lines at \n",
    "https://matplotlib.org/api/_as_gen/matplotlib.pyplot.plot.html"
   ]
  },
  {
   "cell_type": "markdown",
   "metadata": {},
   "source": [
    "# Histograms"
   ]
  },
  {
   "cell_type": "code",
   "execution_count": null,
   "metadata": {
    "ExecuteTime": {
     "end_time": "2019-01-18T20:48:04.216511Z",
     "start_time": "2019-01-18T20:48:04.211543Z"
    }
   },
   "outputs": [],
   "source": [
    "data.PTS\n",
    "#What if we wanted the distribution of lebrons points over the years?"
   ]
  },
  {
   "cell_type": "code",
   "execution_count": null,
   "metadata": {
    "ExecuteTime": {
     "end_time": "2019-01-18T20:48:48.228358Z",
     "start_time": "2019-01-18T20:48:48.120084Z"
    }
   },
   "outputs": [],
   "source": [
    "plt.hist(data.PTS)"
   ]
  },
  {
   "cell_type": "markdown",
   "metadata": {},
   "source": [
    "# Options for histograms"
   ]
  },
  {
   "cell_type": "code",
   "execution_count": null,
   "metadata": {
    "ExecuteTime": {
     "end_time": "2019-01-18T20:49:22.566705Z",
     "start_time": "2019-01-18T20:49:22.434744Z"
    }
   },
   "outputs": [],
   "source": [
    "#Bins\n",
    "plt.hist(data.PTS,bins=20)"
   ]
  },
  {
   "cell_type": "code",
   "execution_count": null,
   "metadata": {
    "ExecuteTime": {
     "end_time": "2019-01-18T20:49:51.331395Z",
     "start_time": "2019-01-18T20:49:51.220372Z"
    }
   },
   "outputs": [],
   "source": [
    "#useful if you want 'probabilities'\n",
    "plt.hist(data.PTS,density=True)"
   ]
  },
  {
   "cell_type": "markdown",
   "metadata": {},
   "source": [
    "# Multiple data on histograms"
   ]
  },
  {
   "cell_type": "code",
   "execution_count": null,
   "metadata": {
    "ExecuteTime": {
     "end_time": "2019-01-18T20:51:00.850689Z",
     "start_time": "2019-01-18T20:51:00.729753Z"
    }
   },
   "outputs": [],
   "source": [
    "#Lebron and Jordans pts\n",
    "plt.hist(data.PTS)\n",
    "plt.hist(data2.PTS)"
   ]
  },
  {
   "cell_type": "code",
   "execution_count": null,
   "metadata": {
    "ExecuteTime": {
     "end_time": "2019-01-18T20:51:23.251232Z",
     "start_time": "2019-01-18T20:51:23.117467Z"
    }
   },
   "outputs": [],
   "source": [
    "plt.hist(data.PTS)\n",
    "plt.hist(data2.PTS.dropna())"
   ]
  },
  {
   "cell_type": "code",
   "execution_count": null,
   "metadata": {
    "ExecuteTime": {
     "end_time": "2019-01-18T20:51:46.427962Z",
     "start_time": "2019-01-18T20:51:46.287309Z"
    }
   },
   "outputs": [],
   "source": [
    "#It would make more sense to use percentage of seasons\n",
    "plt.hist(data.PTS,density=True)\n",
    "plt.hist(data2.PTS.dropna(),density=True)"
   ]
  },
  {
   "cell_type": "code",
   "execution_count": null,
   "metadata": {
    "ExecuteTime": {
     "end_time": "2019-01-18T20:51:59.852019Z",
     "start_time": "2019-01-18T20:51:59.651152Z"
    }
   },
   "outputs": [],
   "source": [
    "plt.hist(data.PTS,density=True,label='Lebron')\n",
    "plt.hist(data2.PTS.dropna(),density=True,label='Jordan')\n",
    "plt.legend()"
   ]
  },
  {
   "cell_type": "markdown",
   "metadata": {},
   "source": [
    "# Saving data"
   ]
  },
  {
   "cell_type": "code",
   "execution_count": null,
   "metadata": {
    "ExecuteTime": {
     "end_time": "2019-01-18T20:52:37.982797Z",
     "start_time": "2019-01-18T20:52:37.840808Z"
    }
   },
   "outputs": [],
   "source": [
    "plt.plot(data.PTS,label='Points')\n",
    "plt.title('Lebrons Points')\n",
    "plt.savefig('Points.png')"
   ]
  },
  {
   "cell_type": "code",
   "execution_count": null,
   "metadata": {
    "ExecuteTime": {
     "end_time": "2019-01-18T20:53:02.393816Z",
     "start_time": "2019-01-18T20:53:02.285391Z"
    }
   },
   "outputs": [],
   "source": [
    "#Be careful about this\n",
    "plt.show()\n",
    "plt.plot(data.PTS,label='Points')\n",
    "plt.title('Lebrons Points')\n",
    "plt.show()\n",
    "plt.savefig('Points2.png')"
   ]
  },
  {
   "cell_type": "markdown",
   "metadata": {},
   "source": [
    "## Always savefig before show"
   ]
  },
  {
   "cell_type": "markdown",
   "metadata": {},
   "source": [
    "### Last thing: Will be useful on hw"
   ]
  },
  {
   "cell_type": "code",
   "execution_count": null,
   "metadata": {
    "ExecuteTime": {
     "end_time": "2019-01-18T20:53:39.188216Z",
     "start_time": "2019-01-18T20:53:38.755041Z"
    }
   },
   "outputs": [],
   "source": [
    "plt.semilogy(data.PTS)\n",
    "#What does this do?\n",
    "#Each y tick is a multiple of the one before instead of the one before plu something"
   ]
  },
  {
   "cell_type": "markdown",
   "metadata": {},
   "source": [
    "# Note: If you want to do something more complicated than changing appearance, matplotlib my not be for the task"
   ]
  },
  {
   "cell_type": "code",
   "execution_count": null,
   "metadata": {},
   "outputs": [],
   "source": []
  }
 ],
 "metadata": {
  "kernelspec": {
   "display_name": "Python 3",
   "language": "python",
   "name": "python3"
  },
  "language_info": {
   "codemirror_mode": {
    "name": "ipython",
    "version": 3
   },
   "file_extension": ".py",
   "mimetype": "text/x-python",
   "name": "python",
   "nbconvert_exporter": "python",
   "pygments_lexer": "ipython3",
   "version": "3.7.1"
  },
  "varInspector": {
   "cols": {
    "lenName": 16,
    "lenType": 16,
    "lenVar": 40
   },
   "kernels_config": {
    "python": {
     "delete_cmd_postfix": "",
     "delete_cmd_prefix": "del ",
     "library": "var_list.py",
     "varRefreshCmd": "print(var_dic_list())"
    },
    "r": {
     "delete_cmd_postfix": ") ",
     "delete_cmd_prefix": "rm(",
     "library": "var_list.r",
     "varRefreshCmd": "cat(var_dic_list()) "
    }
   },
   "types_to_exclude": [
    "module",
    "function",
    "builtin_function_or_method",
    "instance",
    "_Feature"
   ],
   "window_display": false
  }
 },
 "nbformat": 4,
 "nbformat_minor": 2
}
