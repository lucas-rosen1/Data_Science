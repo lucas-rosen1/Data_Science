{
 "cells": [
  {
   "cell_type": "markdown",
   "metadata": {},
   "source": [
    "# Visualizing Data"
   ]
  },
  {
   "cell_type": "code",
   "execution_count": null,
   "metadata": {
    "ExecuteTime": {
     "end_time": "2019-01-18T17:04:32.001880Z",
     "start_time": "2019-01-18T17:04:31.657110Z"
    }
   },
   "outputs": [],
   "source": [
    "#Something new\n",
    "import numpy as np\n",
    "import pandas as pd\n",
    "import matplotlib.pyplot as plt"
   ]
  },
  {
   "cell_type": "markdown",
   "metadata": {},
   "source": [
    "# The MatplotLib\n",
    "Emulates matplob esque plotting in python\n",
    "\n",
    "* Really good for simple stuff\n",
    "* Really bad for more complex stuff\n",
    "\n",
    "If you need more complex use seaborn. There is also talk of a new library being developed by spotify that is supposedly quite good."
   ]
  },
  {
   "cell_type": "code",
   "execution_count": null,
   "metadata": {
    "ExecuteTime": {
     "end_time": "2019-01-18T17:04:32.397720Z",
     "start_time": "2019-01-18T17:04:32.394332Z"
    }
   },
   "outputs": [],
   "source": [
    "#lets get some data"
   ]
  },
  {
   "cell_type": "code",
   "execution_count": null,
   "metadata": {
    "ExecuteTime": {
     "end_time": "2019-01-18T17:04:32.689974Z",
     "start_time": "2019-01-18T17:04:32.668122Z"
    }
   },
   "outputs": [],
   "source": [
    "data = pd.read_csv('lebron.csv')\n",
    "years = '20' + data.Season.str.split('-',expand=True)[1]\n",
    "years = pd.to_datetime(years)\n",
    "data = data.drop('Season',1)\n",
    "data.index=years\n",
    "data.index.name='Season'\n",
    "\n",
    "data2 = pd.read_csv('jordan.csv')\n",
    "years = '19' + data2.Season.str.split('-',expand=True)[1]\n",
    "years = pd.to_datetime(years)\n",
    "data2 = data2.drop('Season',1)\n",
    "data2.index=years\n",
    "data2.index.name='Season'"
   ]
  },
  {
   "cell_type": "code",
   "execution_count": null,
   "metadata": {
    "ExecuteTime": {
     "end_time": "2019-01-18T17:04:33.237505Z",
     "start_time": "2019-01-18T17:04:33.201199Z"
    }
   },
   "outputs": [],
   "source": [
    "data"
   ]
  },
  {
   "cell_type": "code",
   "execution_count": null,
   "metadata": {
    "ExecuteTime": {
     "end_time": "2019-01-18T17:04:33.404972Z",
     "start_time": "2019-01-18T17:04:33.371893Z"
    }
   },
   "outputs": [],
   "source": [
    "data2"
   ]
  },
  {
   "cell_type": "markdown",
   "metadata": {
    "ExecuteTime": {
     "end_time": "2019-01-18T16:33:25.510202Z",
     "start_time": "2019-01-18T16:33:25.327971Z"
    }
   },
   "source": [
    "# Our first plot"
   ]
  },
  {
   "cell_type": "code",
   "execution_count": null,
   "metadata": {
    "ExecuteTime": {
     "end_time": "2019-01-18T17:04:34.137288Z",
     "start_time": "2019-01-18T17:04:33.994529Z"
    }
   },
   "outputs": [],
   "source": [
    "plt.plot(data.PTS)"
   ]
  },
  {
   "cell_type": "code",
   "execution_count": null,
   "metadata": {
    "ExecuteTime": {
     "end_time": "2019-01-18T17:04:34.430597Z",
     "start_time": "2019-01-18T17:04:34.293064Z"
    }
   },
   "outputs": [],
   "source": [
    "#What if  we wanted to make it a scatter?\n",
    "plt.plot(data.PTS,'o')"
   ]
  },
  {
   "cell_type": "code",
   "execution_count": null,
   "metadata": {
    "ExecuteTime": {
     "end_time": "2019-01-18T17:04:34.756801Z",
     "start_time": "2019-01-18T17:04:34.647234Z"
    }
   },
   "outputs": [],
   "source": [
    "#give it a title?\n",
    "plt.title('Lebrons Points')\n",
    "#nothing shows up"
   ]
  },
  {
   "cell_type": "code",
   "execution_count": null,
   "metadata": {
    "ExecuteTime": {
     "end_time": "2019-01-18T17:04:35.199356Z",
     "start_time": "2019-01-18T17:04:35.042533Z"
    }
   },
   "outputs": [],
   "source": [
    "#Lets do it in the same cell\n",
    "plt.plot(data.PTS)\n",
    "plt.title('Lebrons Points')\n"
   ]
  },
  {
   "cell_type": "code",
   "execution_count": null,
   "metadata": {
    "ExecuteTime": {
     "end_time": "2019-01-18T17:04:35.614366Z",
     "start_time": "2019-01-18T17:04:35.452021Z"
    }
   },
   "outputs": [],
   "source": [
    "#X and y labels\n",
    "plt.plot(data.PTS)\n",
    "plt.title('Lebrons Points')\n",
    "plt.xlabel('Year')\n",
    "plt.ylabel('Points')"
   ]
  },
  {
   "cell_type": "code",
   "execution_count": null,
   "metadata": {
    "ExecuteTime": {
     "end_time": "2019-01-18T17:04:36.044983Z",
     "start_time": "2019-01-18T17:04:35.876861Z"
    }
   },
   "outputs": [],
   "source": [
    "#Plotting multiple things\n",
    "plt.plot(data.PTS)\n",
    "plt.title('Lebrons Points')\n",
    "plt.xlabel('Year')\n",
    "plt.ylabel('Points')\n",
    "plt.plot(data.FTA)\n",
    "#puts them on the same graph"
   ]
  },
  {
   "cell_type": "markdown",
   "metadata": {},
   "source": [
    "If we don't want them on the same graph we can either do these in 2 different cells or use `plt.show()`\n",
    "\n",
    "`plt.show()` outputs and resets your graph"
   ]
  },
  {
   "cell_type": "code",
   "execution_count": null,
   "metadata": {
    "ExecuteTime": {
     "end_time": "2019-01-18T17:04:37.058113Z",
     "start_time": "2019-01-18T17:04:36.817630Z"
    }
   },
   "outputs": [],
   "source": [
    "#Plotting multiple things\n",
    "plt.plot(data.PTS)\n",
    "plt.title('Lebrons Points')\n",
    "plt.xlabel('Year')\n",
    "plt.ylabel('Points')\n",
    "plt.show()\n",
    "plt.plot(data.FTA)\n",
    "#puts them on the same graph"
   ]
  },
  {
   "cell_type": "markdown",
   "metadata": {
    "ExecuteTime": {
     "end_time": "2019-01-18T16:36:59.412145Z",
     "start_time": "2019-01-18T16:36:59.197462Z"
    }
   },
   "source": [
    "# Labeling multiple lines/scatters on one plot with legend"
   ]
  },
  {
   "cell_type": "code",
   "execution_count": null,
   "metadata": {
    "ExecuteTime": {
     "end_time": "2019-01-18T17:04:38.313080Z",
     "start_time": "2019-01-18T17:04:38.175432Z"
    }
   },
   "outputs": [],
   "source": [
    "plt.plot(data.PTS,label='Points')\n",
    "plt.plot(data.FTA,label='FTA')\n",
    "plt.legend()"
   ]
  },
  {
   "cell_type": "code",
   "execution_count": null,
   "metadata": {
    "ExecuteTime": {
     "end_time": "2019-01-18T17:04:38.887025Z",
     "start_time": "2019-01-18T17:04:38.729896Z"
    }
   },
   "outputs": [],
   "source": [
    "#How to fix this?\n",
    "plt.plot(data.PTS,label='Lebron')\n",
    "plt.plot(data2.PTS,label='Jordan')\n",
    "plt.legend()"
   ]
  },
  {
   "cell_type": "code",
   "execution_count": null,
   "metadata": {
    "ExecuteTime": {
     "end_time": "2019-01-18T17:04:39.392630Z",
     "start_time": "2019-01-18T17:04:39.237190Z"
    }
   },
   "outputs": [],
   "source": [
    "#Exercise, fix the obvious issue here,\n",
    "#Hint: create a 2 temporary series and them modify both indices into time delta\n",
    "#Hint2: Your timedelta will be in days, you can round to years by dividing by 365.25\n",
    "temp1 = data.PTS.copy()\n",
    "temp2 = data2.PTS.copy()\n",
    "#I wrote this for you. Need to use .copy() to be safe. Continue from there.\n"
   ]
  },
  {
   "cell_type": "markdown",
   "metadata": {
    "ExecuteTime": {
     "end_time": "2019-01-18T16:59:05.673059Z",
     "start_time": "2019-01-18T16:59:05.667907Z"
    }
   },
   "source": [
    "# Using something other than the index for the x axis"
   ]
  },
  {
   "cell_type": "code",
   "execution_count": null,
   "metadata": {
    "ExecuteTime": {
     "end_time": "2019-01-18T17:04:41.209042Z",
     "start_time": "2019-01-18T17:04:41.202939Z"
    }
   },
   "outputs": [],
   "source": [
    "data.PTS"
   ]
  },
  {
   "cell_type": "code",
   "execution_count": null,
   "metadata": {
    "ExecuteTime": {
     "end_time": "2019-01-18T17:04:41.570689Z",
     "start_time": "2019-01-18T17:04:41.553224Z"
    }
   },
   "outputs": [],
   "source": [
    "data.PTS.index"
   ]
  },
  {
   "cell_type": "code",
   "execution_count": null,
   "metadata": {
    "ExecuteTime": {
     "end_time": "2019-01-18T17:04:41.910076Z",
     "start_time": "2019-01-18T17:04:41.902096Z"
    }
   },
   "outputs": [],
   "source": [
    "data.PTS.values"
   ]
  },
  {
   "cell_type": "code",
   "execution_count": null,
   "metadata": {
    "ExecuteTime": {
     "end_time": "2019-01-18T17:04:42.395665Z",
     "start_time": "2019-01-18T17:04:42.238649Z"
    }
   },
   "outputs": [],
   "source": [
    "#This is what is really going on when we pass in a series\n",
    "plt.plot(data.PTS.index,data.PTS.values)"
   ]
  },
  {
   "cell_type": "code",
   "execution_count": null,
   "metadata": {
    "ExecuteTime": {
     "end_time": "2019-01-18T17:04:42.776811Z",
     "start_time": "2019-01-18T17:04:42.644006Z"
    }
   },
   "outputs": [],
   "source": [
    "#Plot points against 3p%\n",
    "plt.plot(data.PTS.values,data['3P%'].values)"
   ]
  },
  {
   "cell_type": "code",
   "execution_count": null,
   "metadata": {
    "ExecuteTime": {
     "end_time": "2019-01-18T17:04:43.941791Z",
     "start_time": "2019-01-18T17:04:43.845030Z"
    }
   },
   "outputs": [],
   "source": [
    "#Probably better as a scatter\n",
    "plt.plot(data.PTS.values,data['3P%'].values,'o')\n",
    "plt.xlabel('Points')\n",
    "plt.ylabel('3P%')\n",
    "#looks like a linear relation\n",
    "#we will talk about how to fit that line next week"
   ]
  },
  {
   "cell_type": "markdown",
   "metadata": {},
   "source": [
    "# Note, there are a lot of other options such as changing color of lines at \n",
    "https://matplotlib.org/api/_as_gen/matplotlib.pyplot.plot.html"
   ]
  },
  {
   "cell_type": "code",
   "execution_count": null,
   "metadata": {
    "ExecuteTime": {
     "end_time": "2019-01-18T17:04:45.090963Z",
     "start_time": "2019-01-18T17:04:45.085320Z"
    }
   },
   "outputs": [],
   "source": [
    "data.Tm\n",
    "#What if we wanted the distribution of lebrons points over the years?"
   ]
  },
  {
   "cell_type": "code",
   "execution_count": null,
   "metadata": {
    "ExecuteTime": {
     "end_time": "2019-01-18T17:04:46.417471Z",
     "start_time": "2019-01-18T17:04:46.311902Z"
    }
   },
   "outputs": [],
   "source": [
    "plt.hist(data.PTS)"
   ]
  },
  {
   "cell_type": "markdown",
   "metadata": {},
   "source": [
    "# Options for histograms"
   ]
  },
  {
   "cell_type": "code",
   "execution_count": null,
   "metadata": {
    "ExecuteTime": {
     "end_time": "2019-01-18T17:04:47.091554Z",
     "start_time": "2019-01-18T17:04:46.959009Z"
    }
   },
   "outputs": [],
   "source": [
    "#Bins\n",
    "plt.hist(data.PTS,bins=20)"
   ]
  },
  {
   "cell_type": "code",
   "execution_count": null,
   "metadata": {
    "ExecuteTime": {
     "end_time": "2019-01-18T17:04:48.177836Z",
     "start_time": "2019-01-18T17:04:48.065402Z"
    }
   },
   "outputs": [],
   "source": [
    "#useful if you want 'probabilities'\n",
    "plt.hist(data.PTS,density=True)"
   ]
  },
  {
   "cell_type": "markdown",
   "metadata": {},
   "source": [
    "# Multiple data on histograms"
   ]
  },
  {
   "cell_type": "code",
   "execution_count": null,
   "metadata": {
    "ExecuteTime": {
     "end_time": "2019-01-18T17:04:58.278456Z",
     "start_time": "2019-01-18T17:04:58.158236Z"
    }
   },
   "outputs": [],
   "source": [
    "#Lebron and Jordans pts\n",
    "plt.hist(data.PTS)\n",
    "plt.hist(data2.PTS)"
   ]
  },
  {
   "cell_type": "code",
   "execution_count": null,
   "metadata": {
    "ExecuteTime": {
     "end_time": "2019-01-18T17:04:58.921594Z",
     "start_time": "2019-01-18T17:04:58.788175Z"
    }
   },
   "outputs": [],
   "source": [
    "plt.hist(data.PTS)\n",
    "plt.hist(data2.PTS.dropna())"
   ]
  },
  {
   "cell_type": "code",
   "execution_count": null,
   "metadata": {
    "ExecuteTime": {
     "end_time": "2019-01-18T17:04:59.425617Z",
     "start_time": "2019-01-18T17:04:59.264133Z"
    }
   },
   "outputs": [],
   "source": [
    "#It would make more sense to use percentage of seasons\n",
    "plt.hist(data.PTS,density=True)\n",
    "plt.hist(data2.PTS.dropna(),density=True)"
   ]
  },
  {
   "cell_type": "code",
   "execution_count": null,
   "metadata": {
    "ExecuteTime": {
     "end_time": "2019-01-18T17:05:00.601772Z",
     "start_time": "2019-01-18T17:05:00.441937Z"
    }
   },
   "outputs": [],
   "source": [
    "plt.hist(data.PTS,density=True,label='Lebron')\n",
    "plt.hist(data2.PTS.dropna(),density=True,label='Jordan')\n",
    "plt.legend()"
   ]
  },
  {
   "cell_type": "markdown",
   "metadata": {},
   "source": [
    "# Saving data"
   ]
  },
  {
   "cell_type": "code",
   "execution_count": null,
   "metadata": {
    "ExecuteTime": {
     "end_time": "2019-01-18T17:05:23.259768Z",
     "start_time": "2019-01-18T17:05:23.115893Z"
    }
   },
   "outputs": [],
   "source": [
    "plt.show()\n",
    "plt.plot(data.PTS,label='Points')\n",
    "plt.title('Lebrons Points')\n",
    "plt.savefig('Points.png')"
   ]
  },
  {
   "cell_type": "code",
   "execution_count": null,
   "metadata": {
    "ExecuteTime": {
     "end_time": "2019-01-18T17:05:41.578863Z",
     "start_time": "2019-01-18T17:05:41.471550Z"
    }
   },
   "outputs": [],
   "source": [
    "#Be careful about this\n",
    "plt.show()\n",
    "plt.plot(data.PTS,label='Points')\n",
    "plt.title('Lebrons Points')\n",
    "plt.show()\n",
    "plt.savefig('Points2.png')"
   ]
  },
  {
   "cell_type": "markdown",
   "metadata": {},
   "source": [
    "## Always savefig before show"
   ]
  },
  {
   "cell_type": "markdown",
   "metadata": {},
   "source": [
    "### Last thing: Will be useful on hw"
   ]
  },
  {
   "cell_type": "code",
   "execution_count": null,
   "metadata": {
    "ExecuteTime": {
     "end_time": "2019-01-18T17:07:33.936920Z",
     "start_time": "2019-01-18T17:07:33.501137Z"
    }
   },
   "outputs": [],
   "source": [
    "plt.semilogy(data.PTS)\n",
    "#What does this do?\n",
    "#Each y tick is a multiple of the one before instead of the one before plu something"
   ]
  },
  {
   "cell_type": "markdown",
   "metadata": {},
   "source": [
    "# Note: If you want to do something more complicated than changing appearance, matplotlib my not be for the task"
   ]
  },
  {
   "cell_type": "code",
   "execution_count": null,
   "metadata": {},
   "outputs": [],
   "source": []
  }
 ],
 "metadata": {
  "kernelspec": {
   "display_name": "Python 3",
   "language": "python",
   "name": "python3"
  },
  "language_info": {
   "codemirror_mode": {
    "name": "ipython",
    "version": 3
   },
   "file_extension": ".py",
   "mimetype": "text/x-python",
   "name": "python",
   "nbconvert_exporter": "python",
   "pygments_lexer": "ipython3",
   "version": "3.7.1"
  },
  "varInspector": {
   "cols": {
    "lenName": 16,
    "lenType": 16,
    "lenVar": 40
   },
   "kernels_config": {
    "python": {
     "delete_cmd_postfix": "",
     "delete_cmd_prefix": "del ",
     "library": "var_list.py",
     "varRefreshCmd": "print(var_dic_list())"
    },
    "r": {
     "delete_cmd_postfix": ") ",
     "delete_cmd_prefix": "rm(",
     "library": "var_list.r",
     "varRefreshCmd": "cat(var_dic_list()) "
    }
   },
   "types_to_exclude": [
    "module",
    "function",
    "builtin_function_or_method",
    "instance",
    "_Feature"
   ],
   "window_display": false
  }
 },
 "nbformat": 4,
 "nbformat_minor": 2
}
