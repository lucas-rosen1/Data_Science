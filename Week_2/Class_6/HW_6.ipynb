{
 "cells": [
  {
   "cell_type": "markdown",
   "metadata": {},
   "source": [
    "## HW 6\n",
    "#### In this homework you will become the worlds most basic quantitative analysts. We will be looking at historical S&P data to gain intution on how long it takes for the stock market to hit a low after a high during a crash.\n",
    "#### The idea is to buy during the low to get the best value for investing.\n",
    "#### Note: please do not mistake this for actual investing advice, it is purely for intiution\n",
    "#### Note2: This assignment was motivated by me trying to figure out what month of 2019 I should put money into my IRA."
   ]
  },
  {
   "cell_type": "markdown",
   "metadata": {},
   "source": [
    "## Part 1: Get Data in the Proper Format"
   ]
  },
  {
   "cell_type": "code",
   "execution_count": null,
   "metadata": {},
   "outputs": [],
   "source": [
    "#a Import numpy, pandas, matplot as how it was done in class\n"
   ]
  },
  {
   "cell_type": "code",
   "execution_count": null,
   "metadata": {},
   "outputs": [],
   "source": [
    "#b Read in the data; it is the file stocks.txt. Be careful about the seperator, it isn't a comma, it is a tab\n",
    "#Call your data stocks\n"
   ]
  },
  {
   "cell_type": "code",
   "execution_count": null,
   "metadata": {},
   "outputs": [],
   "source": [
    "#c There is an issue with one of the column labels having an extra space, fix it\n"
   ]
  },
  {
   "cell_type": "code",
   "execution_count": null,
   "metadata": {},
   "outputs": [],
   "source": [
    "#d We want to get rid of the day in the 'Date' column as we are most interested in months and years\n",
    "#NO CODE SHOULD BE WRITTEN IN THIS CELL"
   ]
  },
  {
   "cell_type": "code",
   "execution_count": null,
   "metadata": {},
   "outputs": [],
   "source": [
    "#di Create a series called months that only includes months and a series called years that only includes years\n",
    "#Hint: access the string methods on stocks.dates, remember to expand\n"
   ]
  },
  {
   "cell_type": "code",
   "execution_count": null,
   "metadata": {},
   "outputs": [],
   "source": [
    "#dii Create a series called new_dates where each entry is `month` , `year`\n",
    "#ex: Jan, 2019 (this will be the first entry)\n",
    "#Hint: years may need to be converted to a str series before this is possible, perhaps by using .astype(str)\n"
   ]
  },
  {
   "cell_type": "code",
   "execution_count": null,
   "metadata": {},
   "outputs": [],
   "source": [
    "#diii Set the Date column in stocks as new_dates\n"
   ]
  },
  {
   "cell_type": "code",
   "execution_count": null,
   "metadata": {},
   "outputs": [],
   "source": [
    "#div We need python to recognizes that our datatime truly are dates\n",
    "#We can convert this series to a DateTime series\n",
    "#Note, this will append back the 'day' that we just got rid of, but it will set each date as the 1st which is what we wanted\n",
    "#Hint: look into the to_datetime function in pandas\n"
   ]
  },
  {
   "cell_type": "code",
   "execution_count": null,
   "metadata": {},
   "outputs": [],
   "source": [
    "#e set the index of stocks to be the Date column\n"
   ]
  },
  {
   "cell_type": "code",
   "execution_count": null,
   "metadata": {},
   "outputs": [],
   "source": [
    "#f get rid of the comma in stocks.Value and convert stocks.Value to a float series\n",
    "#This will make sure the python recognizes we are working with numbers\n"
   ]
  },
  {
   "cell_type": "markdown",
   "metadata": {},
   "source": [
    "## Part 2: Plot the dataset"
   ]
  },
  {
   "cell_type": "code",
   "execution_count": null,
   "metadata": {},
   "outputs": [],
   "source": [
    "#We will check out the history of the S&P and improve our plot at each iteration\n",
    "#NO CODE SHOULD BE WRITTEN IN THIS CELL"
   ]
  },
  {
   "cell_type": "code",
   "execution_count": null,
   "metadata": {},
   "outputs": [],
   "source": [
    "#a Access the numpy array under the Value column, call it prices\n"
   ]
  },
  {
   "cell_type": "code",
   "execution_count": null,
   "metadata": {},
   "outputs": [],
   "source": [
    "#b, plot prices using matplot\n"
   ]
  },
  {
   "cell_type": "code",
   "execution_count": null,
   "metadata": {},
   "outputs": [],
   "source": [
    "#c, Notice that our plot is going backwards. We do not want to look backwards, in time, we want to look forwards.\n",
    "#Reverse the order of prices, calling it prices_rev and plot that\n"
   ]
  },
  {
   "cell_type": "code",
   "execution_count": null,
   "metadata": {},
   "outputs": [],
   "source": [
    "#d, thats better but the growth of the market makes it hard to see trends before time point '1250'\n",
    "#Lets try a plot using a log scale on the y axis\n"
   ]
  },
  {
   "cell_type": "code",
   "execution_count": null,
   "metadata": {},
   "outputs": [],
   "source": [
    "#e We worked so hard to get the dates column in the proper format, now lets use it in our plot\n",
    "#NO CODE SHOULD BE WRITTEN IN THIS CELL"
   ]
  },
  {
   "cell_type": "code",
   "execution_count": null,
   "metadata": {},
   "outputs": [],
   "source": [
    "#ei reverse the order of the underling dates numpy array and call it dates_rev\n",
    "#Hint, you can access the index of stocks by using stocks.index\n"
   ]
  },
  {
   "cell_type": "code",
   "execution_count": null,
   "metadata": {},
   "outputs": [],
   "source": [
    "#eii, plot dates_rev with prices_rev\n",
    "#Remember to still use the log scale on the y axis\n"
   ]
  },
  {
   "cell_type": "code",
   "execution_count": null,
   "metadata": {},
   "outputs": [],
   "source": [
    "#f, Give the plot and x label, a y label (make sure to include the fact that the y label is logged) and a title\n",
    "#save it as plot.png\n",
    "#show it\n"
   ]
  },
  {
   "cell_type": "markdown",
   "metadata": {},
   "source": [
    "## Part 2b: Plotting the differenced series"
   ]
  },
  {
   "cell_type": "code",
   "execution_count": null,
   "metadata": {},
   "outputs": [],
   "source": [
    "#a first, lets just reverse our entire dataframe so that we will get it in chronological order instead of \n",
    "#reverse chronologic order, call it stocks_rev\n",
    "#Note: I could have had you do this earlier but thought it was more instructive to have it done here\n",
    "#Hint, use .iloc to do array operations on our pandas dataframe\n"
   ]
  },
  {
   "cell_type": "code",
   "execution_count": null,
   "metadata": {},
   "outputs": [],
   "source": [
    "#b Lets take a look at the differenced time series\n",
    "#Use a certain pandas function to look at the single differenced time series of stocks_rev and called it stocks_diff\n"
   ]
  },
  {
   "cell_type": "markdown",
   "metadata": {},
   "source": [
    "#c Which value becomes a NaN? Why?\n",
    "Explain why here: "
   ]
  },
  {
   "cell_type": "code",
   "execution_count": null,
   "metadata": {},
   "outputs": [],
   "source": [
    "#d get rid of of the NaN value in stocks.diff\n"
   ]
  },
  {
   "cell_type": "code",
   "execution_count": null,
   "metadata": {},
   "outputs": [],
   "source": [
    "#e, plot stocks_diff, we cannot use the log y as we have negative values,\n",
    "#instead use symlog, this allows to do postive and negative y\n",
    "#Note: matplot lib understands that the index is the x label and value is the y label\n",
    "\n",
    "#FREE POINTS\n",
    "plt.plot(stocks_diff)\n",
    "plt.yscale('symlog')"
   ]
  },
  {
   "cell_type": "code",
   "execution_count": null,
   "metadata": {},
   "outputs": [],
   "source": [
    "#f, this looks terrible, lets not try to connect our points and just plot as a scatter plot.\n",
    "#Have each point labeled with an 'o'\n"
   ]
  },
  {
   "cell_type": "code",
   "execution_count": null,
   "metadata": {},
   "outputs": [],
   "source": [
    "#f, Give the plot and x label, a y label (make sure to include the fact that the y label is symlogged) and a title\n",
    "#save it as diff_plot.png\n",
    "#show it\n"
   ]
  },
  {
   "cell_type": "markdown",
   "metadata": {},
   "source": [
    "# Part 3: Data Analysis\n",
    "Part 2b was not that helpful. That is part of the data analysis process. Sometimes you do things that you think may help and they really don't. We could continue down the path of 2b, perhaps looking at differences in year averages or the the second differenced time series (the differences of the differences). Feel free to at your leisure, this is not the path we'll go down. "
   ]
  },
  {
   "cell_type": "code",
   "execution_count": null,
   "metadata": {},
   "outputs": [],
   "source": [
    "#For simplicity, lets say that the modern stock market begins after WWII in 1950.\n",
    "#a Take the dates from 1950 to now in stocks_rev and call it stocks_mod\n",
    "#Hint: use stocks_rev.loc['start':] were start will be the first date in 1950\n"
   ]
  },
  {
   "cell_type": "code",
   "execution_count": null,
   "metadata": {},
   "outputs": [],
   "source": [
    "#b Lets smooth out some of the noise in our series by taking time windows 5 months at a time\n",
    "#Then taking the mean of this window and labeling by the center\n",
    "#Call it stocks_roll\n",
    "#For example, what we call May 2018 will be the the mean of March, April, May, June, July 2018\n",
    "#Hint: look here https://pandas.pydata.org/pandas-docs/stable/generated/pandas.DataFrame.rolling.html\n",
    "#Note: If you cannot get this part, you can download this dataset as stocks_rolling.csv from blackboard"
   ]
  },
  {
   "cell_type": "code",
   "execution_count": null,
   "metadata": {},
   "outputs": [],
   "source": [
    "#c drop nans from stocks_roll \n",
    "#(we cannot have windows in the beggining and end as there is not enough data to take the mean of 5 points)\n"
   ]
  },
  {
   "cell_type": "code",
   "execution_count": null,
   "metadata": {},
   "outputs": [],
   "source": [
    "#d Do a log_y plot of stocksroll\n"
   ]
  },
  {
   "cell_type": "code",
   "execution_count": null,
   "metadata": {},
   "outputs": [],
   "source": [
    "#Much smoother. \n",
    "#e Now we want to look for dips (local mins) in the market. A dip would be a month that is lower than both the month before\n",
    "#And much after\n",
    "#Get a DatetimeIndex of dips from stocks_roll and call its dips_list\n",
    "#Hint: there are a few ways to do this, you can look at the differenced series in both directions, use .diff(-1) to get forward differences\n",
    "#You can also do a rolling min in a length 3 window and see if your month is the rolling min\n"
   ]
  },
  {
   "cell_type": "code",
   "execution_count": null,
   "metadata": {},
   "outputs": [],
   "source": [
    "#f Do the semilog plot of stocks_roll again and look at dips list\n"
   ]
  },
  {
   "cell_type": "markdown",
   "metadata": {},
   "source": [
    "* Look at 1950-05-01, clearly this is not a big enough dip to call a recession.\n",
    "* We need some criterion on how much lower in price this month is compared to its neighbors\n",
    "\n",
    "* Lets look at how much lower in percentge each \"dip\" is compared to the month before and after and then we can decide on a criterion\n",
    "* Note: I say we but its really just me chooing this, however you can feel free to experiment with your own thresholds."
   ]
  },
  {
   "cell_type": "code",
   "execution_count": null,
   "metadata": {},
   "outputs": [],
   "source": [
    "#gi Create a dataframe that is the month to month percentage change in stocks_roll\n",
    "#Note: there is a pandas methods for this, google it\n",
    "#call it stocks_pct\n"
   ]
  },
  {
   "cell_type": "code",
   "execution_count": null,
   "metadata": {},
   "outputs": [],
   "source": [
    "#gii multiply everything by 100 to get actual percentages\n"
   ]
  },
  {
   "cell_type": "code",
   "execution_count": null,
   "metadata": {},
   "outputs": [],
   "source": [
    "#giii drop nans\n"
   ]
  },
  {
   "cell_type": "code",
   "execution_count": null,
   "metadata": {},
   "outputs": [],
   "source": [
    "#h Use dips_list to get pct_change only for dips\n",
    "#Call this new dataframe, stocks_pct_need\n"
   ]
  },
  {
   "cell_type": "code",
   "execution_count": null,
   "metadata": {},
   "outputs": [],
   "source": [
    "#i Look at stocks_pct_needed in numerical order\n",
    "#Note, you will need for first access the 'Value' series to use the sort_values method\n"
   ]
  },
  {
   "cell_type": "code",
   "execution_count": null,
   "metadata": {},
   "outputs": [],
   "source": [
    "#j Look at the logged y plot of stocks_roll\n"
   ]
  },
  {
   "cell_type": "code",
   "execution_count": null,
   "metadata": {},
   "outputs": [],
   "source": [
    "#k A reasonable threshold may be to only take dips that have a perctange decreae below -.7%\n",
    "#Access only these dips from #dip_list and stock_pct_need, call it dips_need\n"
   ]
  },
  {
   "cell_type": "code",
   "execution_count": null,
   "metadata": {},
   "outputs": [],
   "source": [
    "#l We could do further analysis on the peaks but lets wrap up soon.\n",
    "#Lets say assume that peaks happen (on average) exactly in the middle of dips\n",
    "#Ex: if there was a dip in Jan 2020 and Jan 2018 then there would be a peak in Jan 2019\n",
    "#Make a data_frame of dips_need and then take the differenced series and find the average time in between dips\n",
    "#Note, we can do math operations on datatime objects\n",
    "#Call this average as mean_time\n"
   ]
  },
  {
   "cell_type": "code",
   "execution_count": null,
   "metadata": {},
   "outputs": [],
   "source": [
    "#m Take 1/2 of the mean_time to represent the time until next dip from each peak\n",
    "#Call, this time_to_dip\n"
   ]
  },
  {
   "cell_type": "code",
   "execution_count": null,
   "metadata": {},
   "outputs": [],
   "source": [
    "#n If there was a peak in October 2018, when should I invest in the dip?\n",
    "#Hint: create an a datetime object using pd.datetime('08-13-2018') and then add time_to_dip\n"
   ]
  }
 ],
 "metadata": {
  "kernelspec": {
   "display_name": "Python [conda env:anaconda3]",
   "language": "python",
   "name": "conda-env-anaconda3-py"
  },
  "language_info": {
   "codemirror_mode": {
    "name": "ipython",
    "version": 3
   },
   "file_extension": ".py",
   "mimetype": "text/x-python",
   "name": "python",
   "nbconvert_exporter": "python",
   "pygments_lexer": "ipython3",
   "version": "3.7.0"
  },
  "varInspector": {
   "cols": {
    "lenName": 16,
    "lenType": 16,
    "lenVar": 40
   },
   "kernels_config": {
    "python": {
     "delete_cmd_postfix": "",
     "delete_cmd_prefix": "del ",
     "library": "var_list.py",
     "varRefreshCmd": "print(var_dic_list())"
    },
    "r": {
     "delete_cmd_postfix": ") ",
     "delete_cmd_prefix": "rm(",
     "library": "var_list.r",
     "varRefreshCmd": "cat(var_dic_list()) "
    }
   },
   "types_to_exclude": [
    "module",
    "function",
    "builtin_function_or_method",
    "instance",
    "_Feature"
   ],
   "window_display": false
  }
 },
 "nbformat": 4,
 "nbformat_minor": 2
}
