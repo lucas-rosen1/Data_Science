{
 "cells": [
  {
   "cell_type": "code",
   "execution_count": null,
   "metadata": {
    "ExecuteTime": {
     "end_time": "2019-01-18T19:25:00.982802Z",
     "start_time": "2019-01-18T19:25:00.978513Z"
    }
   },
   "outputs": [],
   "source": [
    "#import modules\n",
    "import numpy as np\n",
    "import pandas as pd"
   ]
  },
  {
   "cell_type": "markdown",
   "metadata": {},
   "source": [
    "# The Time Series\n",
    "In this lecture, we'll talk about 4 things:\n",
    "* What is a time series?\n",
    "* How does pandas deal with dates/times?\n",
    "* The Special Time Series Functions (that technically can be used elsewhere)\n",
    "* The multiindex (which is especially useful with time series)"
   ]
  },
  {
   "cell_type": "markdown",
   "metadata": {},
   "source": [
    "# What is a time series?\n"
   ]
  },
  {
   "cell_type": "code",
   "execution_count": null,
   "metadata": {
    "ExecuteTime": {
     "end_time": "2019-01-18T19:25:01.419848Z",
     "start_time": "2019-01-18T19:25:01.408713Z"
    }
   },
   "outputs": [],
   "source": [
    "#An example\n",
    "pd.read_csv('Rainfall.csv')"
   ]
  },
  {
   "cell_type": "code",
   "execution_count": null,
   "metadata": {
    "ExecuteTime": {
     "end_time": "2019-01-18T19:25:01.945724Z",
     "start_time": "2019-01-18T19:25:01.935867Z"
    }
   },
   "outputs": [],
   "source": [
    "#Exercise, make date the index col and read in as `data`\n",
    "data = pd.read_csv('Rainfall.csv',index_col='Date')\n",
    "data"
   ]
  },
  {
   "cell_type": "code",
   "execution_count": null,
   "metadata": {
    "ExecuteTime": {
     "end_time": "2019-01-18T19:25:01.956531Z",
     "start_time": "2019-01-18T19:25:01.947562Z"
    }
   },
   "outputs": [],
   "source": [
    "#Exercise, what the data type of the index column?\n",
    "#Hint, similar to numpy notation\n",
    "data.index.dtype"
   ]
  },
  {
   "cell_type": "markdown",
   "metadata": {
    "ExecuteTime": {
     "end_time": "2019-01-18T15:02:23.718681Z",
     "start_time": "2019-01-18T15:02:23.710656Z"
    }
   },
   "source": [
    "# Making pandas understand we have a date/time\n",
    "\n",
    "Our index was not of the date time type, and so we don't get access to the special date time operators.\n",
    "Here is how to conver it."
   ]
  },
  {
   "cell_type": "code",
   "execution_count": null,
   "metadata": {
    "ExecuteTime": {
     "end_time": "2019-01-18T19:25:01.963134Z",
     "start_time": "2019-01-18T19:25:01.958368Z"
    }
   },
   "outputs": [],
   "source": [
    "pd.to_datetime(data.index)"
   ]
  },
  {
   "cell_type": "code",
   "execution_count": null,
   "metadata": {
    "ExecuteTime": {
     "end_time": "2019-01-18T19:25:02.036442Z",
     "start_time": "2019-01-18T19:25:02.024321Z"
    }
   },
   "outputs": [],
   "source": [
    "#Exercise, set your index to be the datetime version of your index\n",
    "data.index = pd.to_datetime(data.index)\n",
    "data"
   ]
  },
  {
   "cell_type": "markdown",
   "metadata": {
    "ExecuteTime": {
     "end_time": "2019-01-18T15:04:34.337654Z",
     "start_time": "2019-01-18T15:04:34.330544Z"
    }
   },
   "source": [
    "## Working with date times\n",
    "Why would we care about doing this. Python/Pandas makes math operations with dates very easy. Check these out."
   ]
  },
  {
   "cell_type": "code",
   "execution_count": null,
   "metadata": {
    "ExecuteTime": {
     "end_time": "2019-01-18T19:25:02.284146Z",
     "start_time": "2019-01-18T19:25:02.278475Z"
    }
   },
   "outputs": [],
   "source": [
    "data.index"
   ]
  },
  {
   "cell_type": "code",
   "execution_count": null,
   "metadata": {
    "ExecuteTime": {
     "end_time": "2019-01-18T19:25:02.455207Z",
     "start_time": "2019-01-18T19:25:02.438590Z"
    }
   },
   "outputs": [],
   "source": [
    "data.index.min()"
   ]
  },
  {
   "cell_type": "code",
   "execution_count": null,
   "metadata": {
    "ExecuteTime": {
     "end_time": "2019-01-18T19:25:02.548396Z",
     "start_time": "2019-01-18T19:25:02.530926Z"
    }
   },
   "outputs": [],
   "source": [
    "data.index.day"
   ]
  },
  {
   "cell_type": "code",
   "execution_count": null,
   "metadata": {
    "ExecuteTime": {
     "end_time": "2019-01-18T19:25:02.683810Z",
     "start_time": "2019-01-18T19:25:02.678668Z"
    }
   },
   "outputs": [],
   "source": [
    "data.index.month"
   ]
  },
  {
   "cell_type": "code",
   "execution_count": null,
   "metadata": {
    "ExecuteTime": {
     "end_time": "2019-01-18T19:25:03.555608Z",
     "start_time": "2019-01-18T19:25:03.551653Z"
    }
   },
   "outputs": [],
   "source": [
    "data.index.strftime('%A')"
   ]
  },
  {
   "cell_type": "markdown",
   "metadata": {
    "ExecuteTime": {
     "end_time": "2019-01-18T15:09:16.680258Z",
     "start_time": "2019-01-18T15:09:16.674286Z"
    }
   },
   "source": [
    "https://docs.python.org/3/library/datetime.html#strftime-and-strptime-behavior"
   ]
  },
  {
   "cell_type": "markdown",
   "metadata": {},
   "source": [
    "## Math With Dates"
   ]
  },
  {
   "cell_type": "code",
   "execution_count": null,
   "metadata": {
    "ExecuteTime": {
     "end_time": "2019-01-18T19:25:03.566848Z",
     "start_time": "2019-01-18T19:25:03.557337Z"
    }
   },
   "outputs": [],
   "source": [
    "data.index - data.index[0]\n",
    "#yields time delta\n",
    "#This could be more useful if you have some experiment and its the number of days running that matters"
   ]
  },
  {
   "cell_type": "code",
   "execution_count": null,
   "metadata": {
    "ExecuteTime": {
     "end_time": "2019-01-18T19:25:03.573418Z",
     "start_time": "2019-01-18T19:25:03.568705Z"
    }
   },
   "outputs": [],
   "source": [
    "#can do arithmetic with this object\n",
    "(data.index - data.index[0])*2"
   ]
  },
  {
   "cell_type": "markdown",
   "metadata": {},
   "source": [
    "## Range for dates\n"
   ]
  },
  {
   "cell_type": "code",
   "execution_count": null,
   "metadata": {
    "ExecuteTime": {
     "end_time": "2019-01-18T19:25:03.900393Z",
     "start_time": "2019-01-18T19:25:03.896220Z"
    }
   },
   "outputs": [],
   "source": [
    "#Inclusive on both sides\n",
    "pd.date_range('2015-07-03', '2015-07-10')"
   ]
  },
  {
   "cell_type": "code",
   "execution_count": null,
   "metadata": {
    "ExecuteTime": {
     "end_time": "2019-01-18T19:25:03.912140Z",
     "start_time": "2019-01-18T19:25:03.902181Z"
    }
   },
   "outputs": [],
   "source": [
    "#Day by default\n",
    "pd.date_range('2015-07-03', periods=8)"
   ]
  },
  {
   "cell_type": "code",
   "execution_count": null,
   "metadata": {
    "ExecuteTime": {
     "end_time": "2019-01-18T19:25:04.225481Z",
     "start_time": "2019-01-18T19:25:04.221034Z"
    }
   },
   "outputs": [],
   "source": [
    "#What if we wanted to do every hour?\n",
    "pd.date_range('2015-07-03',periods=8,freq='H')"
   ]
  },
  {
   "cell_type": "code",
   "execution_count": null,
   "metadata": {
    "ExecuteTime": {
     "end_time": "2019-01-18T19:25:04.235986Z",
     "start_time": "2019-01-18T19:25:04.227090Z"
    }
   },
   "outputs": [],
   "source": [
    "#Exercise, get me the amount of minutes the government shutdown has been going on for\n",
    "#Hint: It started on December 22 at midnight and is going on until now\n",
    "#Hint2: You can google around how to see how to get the current time in python\n",
    "import datetime\n",
    "currentDT = datetime.datetime.now()\n",
    "len(pd.date_range('2018-12-22',pd.datetime.now(),freq='min'))"
   ]
  },
  {
   "cell_type": "markdown",
   "metadata": {
    "ExecuteTime": {
     "end_time": "2019-01-18T15:19:35.323671Z",
     "start_time": "2019-01-18T15:19:35.319303Z"
    }
   },
   "source": [
    "# Special Datetime Functions\n",
    "\n",
    "### diff"
   ]
  },
  {
   "cell_type": "markdown",
   "metadata": {
    "ExecuteTime": {
     "end_time": "2019-01-18T15:24:01.430144Z",
     "start_time": "2019-01-18T15:24:01.421854Z"
    }
   },
   "source": [
    "What if we were interested in the change in rainfall day over day?"
   ]
  },
  {
   "cell_type": "code",
   "execution_count": null,
   "metadata": {
    "ExecuteTime": {
     "end_time": "2019-01-18T19:25:05.489402Z",
     "start_time": "2019-01-18T19:25:05.478006Z"
    }
   },
   "outputs": [],
   "source": [
    "data.diff()"
   ]
  },
  {
   "cell_type": "code",
   "execution_count": null,
   "metadata": {
    "ExecuteTime": {
     "end_time": "2019-01-18T19:25:05.661684Z",
     "start_time": "2019-01-18T19:25:05.649214Z"
    }
   },
   "outputs": [],
   "source": [
    "#Exercise, look into the documentation of diff to get the difference of today and a week before today\n",
    "data.diff(7)"
   ]
  },
  {
   "cell_type": "code",
   "execution_count": null,
   "metadata": {
    "ExecuteTime": {
     "end_time": "2019-01-18T19:25:05.792737Z",
     "start_time": "2019-01-18T19:25:05.759588Z"
    }
   },
   "outputs": [],
   "source": [
    "#Exericse, use diff to get difference of today and a week after today (i.e. looking into the future)\n",
    "data.diff(-7)"
   ]
  },
  {
   "cell_type": "markdown",
   "metadata": {},
   "source": [
    "### Note: We can think of diff (with periods=1) as a discretized form of the derivative"
   ]
  },
  {
   "cell_type": "code",
   "execution_count": null,
   "metadata": {
    "ExecuteTime": {
     "end_time": "2019-01-18T19:25:06.036951Z",
     "start_time": "2019-01-18T19:25:06.028184Z"
    }
   },
   "outputs": [],
   "source": [
    "#Exercise: How could we get a discretized form of the second derivative\n",
    "data.diff().diff()"
   ]
  },
  {
   "cell_type": "markdown",
   "metadata": {},
   "source": [
    "### shift"
   ]
  },
  {
   "cell_type": "code",
   "execution_count": null,
   "metadata": {
    "ExecuteTime": {
     "end_time": "2019-01-18T19:25:06.250886Z",
     "start_time": "2019-01-18T19:25:06.218409Z"
    }
   },
   "outputs": [],
   "source": [
    "data.shift()"
   ]
  },
  {
   "cell_type": "code",
   "execution_count": null,
   "metadata": {
    "ExecuteTime": {
     "end_time": "2019-01-18T19:25:06.392024Z",
     "start_time": "2019-01-18T19:25:06.358690Z"
    }
   },
   "outputs": [],
   "source": [
    "data.shift(2)"
   ]
  },
  {
   "cell_type": "code",
   "execution_count": null,
   "metadata": {
    "ExecuteTime": {
     "end_time": "2019-01-18T19:25:06.471488Z",
     "start_time": "2019-01-18T19:25:06.447789Z"
    }
   },
   "outputs": [],
   "source": [
    "#Why might you want to use shift?\n",
    "#Exericse, find a 3 day rolling mean using shift\n",
    "#Hint: You may need to use a negative number in your shift function\n",
    "(data + data.shift() + data.shift(-1))/3"
   ]
  },
  {
   "cell_type": "markdown",
   "metadata": {},
   "source": [
    "## Cumulative Functions"
   ]
  },
  {
   "cell_type": "markdown",
   "metadata": {},
   "source": [
    "How would we get the total amount of rain so far each day?"
   ]
  },
  {
   "cell_type": "code",
   "execution_count": null,
   "metadata": {
    "ExecuteTime": {
     "end_time": "2019-01-18T19:25:06.684081Z",
     "start_time": "2019-01-18T19:25:06.648379Z"
    }
   },
   "outputs": [],
   "source": [
    "data.cumsum()"
   ]
  },
  {
   "cell_type": "markdown",
   "metadata": {},
   "source": [
    "### Other cumulative functions"
   ]
  },
  {
   "cell_type": "code",
   "execution_count": null,
   "metadata": {
    "ExecuteTime": {
     "end_time": "2019-01-18T19:25:06.845055Z",
     "start_time": "2019-01-18T19:25:06.833779Z"
    }
   },
   "outputs": [],
   "source": [
    "data.cumprod()"
   ]
  },
  {
   "cell_type": "code",
   "execution_count": null,
   "metadata": {
    "ExecuteTime": {
     "end_time": "2019-01-18T19:25:07.025206Z",
     "start_time": "2019-01-18T19:25:06.988772Z"
    }
   },
   "outputs": [],
   "source": [
    "data.cummin()"
   ]
  },
  {
   "cell_type": "code",
   "execution_count": null,
   "metadata": {
    "ExecuteTime": {
     "end_time": "2019-01-18T19:25:07.093768Z",
     "start_time": "2019-01-18T19:25:07.075350Z"
    }
   },
   "outputs": [],
   "source": [
    "data.cummax()"
   ]
  },
  {
   "cell_type": "markdown",
   "metadata": {
    "ExecuteTime": {
     "end_time": "2019-01-18T15:34:20.356647Z",
     "start_time": "2019-01-18T15:34:20.337329Z"
    }
   },
   "source": [
    "# Changing windows\n",
    "# 2 options"
   ]
  },
  {
   "cell_type": "code",
   "execution_count": null,
   "metadata": {
    "ExecuteTime": {
     "end_time": "2019-01-18T19:25:07.461599Z",
     "start_time": "2019-01-18T19:25:07.454959Z"
    }
   },
   "outputs": [],
   "source": [
    "data"
   ]
  },
  {
   "cell_type": "code",
   "execution_count": null,
   "metadata": {
    "ExecuteTime": {
     "end_time": "2019-01-18T19:25:07.586401Z",
     "start_time": "2019-01-18T19:25:07.548673Z"
    }
   },
   "outputs": [],
   "source": [
    "data.asfreq('D')\n",
    "#acts as if theres value each day"
   ]
  },
  {
   "cell_type": "code",
   "execution_count": null,
   "metadata": {
    "ExecuteTime": {
     "end_time": "2019-01-18T19:25:07.802864Z",
     "start_time": "2019-01-18T19:25:07.796082Z"
    }
   },
   "outputs": [],
   "source": [
    "data.asfreq('M')\n",
    "#takes value at end of each month"
   ]
  },
  {
   "cell_type": "markdown",
   "metadata": {
    "ExecuteTime": {
     "end_time": "2019-01-18T15:35:37.619008Z",
     "start_time": "2019-01-18T15:35:37.602057Z"
    }
   },
   "source": [
    "What did this do?"
   ]
  },
  {
   "cell_type": "code",
   "execution_count": null,
   "metadata": {
    "ExecuteTime": {
     "end_time": "2019-01-18T19:25:08.074741Z",
     "start_time": "2019-01-18T19:25:08.039651Z"
    }
   },
   "outputs": [],
   "source": [
    "data.asfreq('W')\n",
    "#takes value at end of each week"
   ]
  },
  {
   "cell_type": "markdown",
   "metadata": {
    "ExecuteTime": {
     "end_time": "2019-01-18T15:36:26.008992Z",
     "start_time": "2019-01-18T15:36:26.000660Z"
    }
   },
   "source": [
    "There are some obvious downsides to using `asfreq`\n",
    "Lets talk about something more complicated"
   ]
  },
  {
   "cell_type": "code",
   "execution_count": null,
   "metadata": {
    "ExecuteTime": {
     "end_time": "2019-01-18T19:25:08.404050Z",
     "start_time": "2019-01-18T19:25:08.398675Z"
    }
   },
   "outputs": [],
   "source": [
    "data.resample('W')"
   ]
  },
  {
   "cell_type": "code",
   "execution_count": null,
   "metadata": {
    "ExecuteTime": {
     "end_time": "2019-01-18T19:25:08.566853Z",
     "start_time": "2019-01-18T19:25:08.528384Z"
    }
   },
   "outputs": [],
   "source": [
    "data.resample('W').mean()\n",
    "#What did this do?"
   ]
  },
  {
   "cell_type": "code",
   "execution_count": null,
   "metadata": {
    "ExecuteTime": {
     "end_time": "2019-01-18T19:25:08.728245Z",
     "start_time": "2019-01-18T19:25:08.691483Z"
    }
   },
   "outputs": [],
   "source": [
    "data.resample('W').apply(np.median)\n",
    "#We can take any aggregation function"
   ]
  },
  {
   "cell_type": "markdown",
   "metadata": {},
   "source": [
    "## In essence, resample is just a groupby for dates"
   ]
  },
  {
   "cell_type": "markdown",
   "metadata": {},
   "source": [
    "What if we resampled up? I.e. did a frequency that we didn't have info on?"
   ]
  },
  {
   "cell_type": "code",
   "execution_count": null,
   "metadata": {
    "ExecuteTime": {
     "end_time": "2019-01-18T19:25:09.200027Z",
     "start_time": "2019-01-18T19:25:09.188731Z"
    }
   },
   "outputs": [],
   "source": [
    "data.resample('D').median()\n",
    "# The same as if you called asfreq"
   ]
  },
  {
   "cell_type": "markdown",
   "metadata": {},
   "source": [
    "# Lets move to a new dataset"
   ]
  },
  {
   "cell_type": "code",
   "execution_count": null,
   "metadata": {
    "ExecuteTime": {
     "end_time": "2019-01-18T19:25:09.558381Z",
     "start_time": "2019-01-18T19:25:09.508449Z"
    }
   },
   "outputs": [],
   "source": [
    "data2 = pd.read_csv('lebron.csv')\n",
    "data2"
   ]
  },
  {
   "cell_type": "code",
   "execution_count": null,
   "metadata": {
    "ExecuteTime": {
     "end_time": "2019-01-18T19:25:09.833596Z",
     "start_time": "2019-01-18T19:25:09.798901Z"
    }
   },
   "outputs": [],
   "source": [
    "pd.to_datetime(data2.Season)\n",
    "#pandas isn't sure what to do"
   ]
  },
  {
   "cell_type": "code",
   "execution_count": null,
   "metadata": {
    "ExecuteTime": {
     "end_time": "2019-01-18T19:25:10.034978Z",
     "start_time": "2019-01-18T19:25:10.008701Z"
    }
   },
   "outputs": [],
   "source": [
    "#exercise, use the str split function to only get the second year in each date, make sure you year looks like '2018'\n",
    "#then drop the old season column and make your index the years you just got (as a datetime)\n",
    "years = '20' + data2.Season.str.split('-',expand=True)[1]\n",
    "years = pd.to_datetime(years)\n",
    "data2 = data2.drop('Season',1)\n",
    "data2.index = years"
   ]
  },
  {
   "cell_type": "code",
   "execution_count": null,
   "metadata": {
    "ExecuteTime": {
     "end_time": "2019-01-18T19:25:10.477234Z",
     "start_time": "2019-01-18T19:25:10.442527Z"
    }
   },
   "outputs": [],
   "source": [
    "#We can rename an index\n",
    "data2.index.name='Season'\n",
    "data2"
   ]
  },
  {
   "cell_type": "markdown",
   "metadata": {
    "ExecuteTime": {
     "end_time": "2019-01-18T15:45:45.384376Z",
     "start_time": "2019-01-18T15:45:45.347104Z"
    }
   },
   "source": [
    "# Rolling windows"
   ]
  },
  {
   "cell_type": "code",
   "execution_count": null,
   "metadata": {
    "ExecuteTime": {
     "end_time": "2019-01-18T19:25:10.488388Z",
     "start_time": "2019-01-18T19:25:10.478939Z"
    }
   },
   "outputs": [],
   "source": [
    "data2.PTS"
   ]
  },
  {
   "cell_type": "code",
   "execution_count": null,
   "metadata": {
    "ExecuteTime": {
     "end_time": "2019-01-18T19:25:10.540324Z",
     "start_time": "2019-01-18T19:25:10.533622Z"
    }
   },
   "outputs": [],
   "source": [
    "data2.PTS.rolling(3,center=True).mean()\n",
    "#What happend here?"
   ]
  },
  {
   "cell_type": "code",
   "execution_count": null,
   "metadata": {
    "ExecuteTime": {
     "end_time": "2019-01-18T19:25:10.752479Z",
     "start_time": "2019-01-18T19:25:10.718671Z"
    }
   },
   "outputs": [],
   "source": [
    "#Again, we can apply any aggregation function\n",
    "data2.PTS.rolling(3,center=True).apply(np.median)\n",
    "#What happend here?"
   ]
  },
  {
   "cell_type": "code",
   "execution_count": null,
   "metadata": {
    "ExecuteTime": {
     "end_time": "2019-01-18T19:25:11.006581Z",
     "start_time": "2019-01-18T19:25:11.000313Z"
    }
   },
   "outputs": [],
   "source": [
    "#What about different window sizes?\n",
    "data2.PTS.rolling(5,center=True).mean()"
   ]
  },
  {
   "cell_type": "code",
   "execution_count": null,
   "metadata": {
    "ExecuteTime": {
     "end_time": "2019-01-18T19:25:11.200438Z",
     "start_time": "2019-01-18T19:25:11.189870Z"
    }
   },
   "outputs": [],
   "source": [
    "#What about an even window size?\n",
    "data2.PTS.rolling(2,center=True).mean()\n",
    "#defaults to taking value and value before"
   ]
  },
  {
   "cell_type": "code",
   "execution_count": null,
   "metadata": {
    "ExecuteTime": {
     "end_time": "2019-01-18T19:25:11.335005Z",
     "start_time": "2019-01-18T19:25:11.308743Z"
    }
   },
   "outputs": [],
   "source": [
    "#How to get rid of nans and just use what we have?\n",
    "data2.PTS.rolling(3,center=True,min_periods=0).mean()\n"
   ]
  },
  {
   "cell_type": "code",
   "execution_count": null,
   "metadata": {
    "ExecuteTime": {
     "end_time": "2019-01-18T19:25:11.525554Z",
     "start_time": "2019-01-18T19:25:11.448683Z"
    }
   },
   "outputs": [],
   "source": [
    "data2"
   ]
  },
  {
   "cell_type": "code",
   "execution_count": null,
   "metadata": {
    "ExecuteTime": {
     "end_time": "2019-01-18T19:25:11.598114Z",
     "start_time": "2019-01-18T19:25:11.572081Z"
    }
   },
   "outputs": [],
   "source": [
    "data2.rolling(3).mean()\n",
    "#won't work becuase of text features"
   ]
  },
  {
   "cell_type": "code",
   "execution_count": null,
   "metadata": {
    "ExecuteTime": {
     "end_time": "2019-01-18T19:25:11.826446Z",
     "start_time": "2019-01-18T19:25:11.729302Z"
    }
   },
   "outputs": [],
   "source": [
    "data2.groupby('Pos').rolling(3).max()"
   ]
  },
  {
   "cell_type": "code",
   "execution_count": null,
   "metadata": {
    "ExecuteTime": {
     "end_time": "2019-01-18T19:25:12.046713Z",
     "start_time": "2019-01-18T19:25:11.998835Z"
    },
    "scrolled": true
   },
   "outputs": [],
   "source": [
    "# Something fancy\n",
    "\n",
    "#What is this doing?\n",
    "data2.drop(['Lg','Pos'],1).groupby('Tm').rolling(3,center=True,min_periods=0).mean().groupby('Tm').max()"
   ]
  },
  {
   "cell_type": "markdown",
   "metadata": {},
   "source": [
    "## Missing data in a time series"
   ]
  },
  {
   "cell_type": "code",
   "execution_count": null,
   "metadata": {
    "ExecuteTime": {
     "end_time": "2019-01-18T19:25:12.368551Z",
     "start_time": "2019-01-18T19:25:12.356117Z"
    }
   },
   "outputs": [],
   "source": [
    "#lets look back at data\n",
    "data"
   ]
  },
  {
   "cell_type": "code",
   "execution_count": null,
   "metadata": {
    "ExecuteTime": {
     "end_time": "2019-01-18T19:25:12.582047Z",
     "start_time": "2019-01-18T19:25:12.569007Z"
    }
   },
   "outputs": [],
   "source": [
    "#just for fun\n",
    "data.iloc[4]=np.nan\n",
    "data"
   ]
  },
  {
   "cell_type": "code",
   "execution_count": null,
   "metadata": {
    "ExecuteTime": {
     "end_time": "2019-01-18T19:25:13.020339Z",
     "start_time": "2019-01-18T19:25:13.012400Z"
    }
   },
   "outputs": [],
   "source": [
    "data.fillna(method='bfill')\n",
    "#What does this do?"
   ]
  },
  {
   "cell_type": "code",
   "execution_count": null,
   "metadata": {
    "ExecuteTime": {
     "end_time": "2019-01-18T19:25:13.126048Z",
     "start_time": "2019-01-18T19:25:13.089215Z"
    }
   },
   "outputs": [],
   "source": [
    "data.fillna(method='ffill')\n",
    "#What does this do?"
   ]
  },
  {
   "cell_type": "code",
   "execution_count": null,
   "metadata": {
    "ExecuteTime": {
     "end_time": "2019-01-18T19:25:13.877305Z",
     "start_time": "2019-01-18T19:25:13.838645Z"
    }
   },
   "outputs": [],
   "source": [
    "(data.fillna(method='bfill')+data.fillna(method='ffill'))/2\n",
    "#Can do both"
   ]
  },
  {
   "cell_type": "markdown",
   "metadata": {},
   "source": [
    "# The multi index"
   ]
  },
  {
   "cell_type": "code",
   "execution_count": null,
   "metadata": {
    "ExecuteTime": {
     "end_time": "2019-01-18T19:25:14.220193Z",
     "start_time": "2019-01-18T19:25:14.178045Z"
    }
   },
   "outputs": [],
   "source": [
    "data_j = pd.read_csv('jordan.csv')\n",
    "data_j"
   ]
  },
  {
   "cell_type": "code",
   "execution_count": null,
   "metadata": {
    "ExecuteTime": {
     "end_time": "2019-01-18T19:25:17.518165Z",
     "start_time": "2019-01-18T19:25:17.512647Z"
    }
   },
   "outputs": [],
   "source": [
    "#Exercise, do the same exercise for seasons that we did for lebron and set it to index\n",
    "years = '19' + data_j.Season.str.split('-',expand=True)[1]\n",
    "years = pd.to_datetime(years)\n",
    "data_j = data_j.drop('Season',1)\n",
    "data_j.index=years\n",
    "#Exercise, rename your index as 'Season'\n",
    "data_j.index.name = 'Season'"
   ]
  },
  {
   "cell_type": "code",
   "execution_count": null,
   "metadata": {
    "ExecuteTime": {
     "end_time": "2019-01-18T19:19:31.086075Z",
     "start_time": "2019-01-18T19:19:31.032583Z"
    }
   },
   "outputs": [],
   "source": [
    "#exercise, add a column to the lebron data that is called 'Name' and every entry is 'Lebron'\n",
    "#exercise, add a column to the jordan data that is called 'Name' and every entry is 'Jordan'\n",
    "#exercise, concat lebron below jordan (as he should be) into one dataframe called bball\n",
    "data2['Name']='Lebron'\n",
    "data_j['Name']='Jordan'\n",
    "bball = pd.concat([data_j,data2])\n",
    "bball"
   ]
  },
  {
   "cell_type": "markdown",
   "metadata": {
    "ExecuteTime": {
     "end_time": "2019-01-18T16:11:49.529640Z",
     "start_time": "2019-01-18T16:11:49.478938Z"
    }
   },
   "source": [
    "We have a problem, the dataframe is 2 dimensional but we require 3 dimensions to analyze this dataset properly.\n",
    "Why?"
   ]
  },
  {
   "cell_type": "code",
   "execution_count": null,
   "metadata": {
    "ExecuteTime": {
     "end_time": "2019-01-18T19:21:06.817811Z",
     "start_time": "2019-01-18T19:21:06.767431Z"
    }
   },
   "outputs": [],
   "source": [
    "#How to index by both name and date (in that order)\n",
    "#first, reset the index\n",
    "bball = bball.reset_index()\n",
    "bball"
   ]
  },
  {
   "cell_type": "code",
   "execution_count": null,
   "metadata": {
    "ExecuteTime": {
     "end_time": "2019-01-18T19:26:02.643854Z",
     "start_time": "2019-01-18T19:26:02.589346Z"
    }
   },
   "outputs": [],
   "source": [
    "#bball = bball.set_index(['Name','Season']).drop(['level_0','index'],1)\n",
    "bball"
   ]
  },
  {
   "cell_type": "markdown",
   "metadata": {},
   "source": [
    "Wahlah, a fake 3-d array in Pandas"
   ]
  },
  {
   "cell_type": "code",
   "execution_count": null,
   "metadata": {
    "ExecuteTime": {
     "end_time": "2019-01-18T19:26:10.705474Z",
     "start_time": "2019-01-18T19:26:10.669224Z"
    }
   },
   "outputs": [],
   "source": [
    "#how to index\n",
    "#gets us all about jordan\n",
    "bball.loc['Jordan']"
   ]
  },
  {
   "cell_type": "code",
   "execution_count": null,
   "metadata": {
    "ExecuteTime": {
     "end_time": "2019-01-18T19:26:30.919370Z",
     "start_time": "2019-01-18T19:26:30.910670Z"
    }
   },
   "outputs": [],
   "source": [
    "#what if we just wanted lebron, 2004?\n",
    "bball.loc[('Lebron','2004-01-01')]"
   ]
  },
  {
   "cell_type": "code",
   "execution_count": null,
   "metadata": {
    "ExecuteTime": {
     "end_time": "2019-01-18T19:26:45.860242Z",
     "start_time": "2019-01-18T19:26:45.851242Z"
    }
   },
   "outputs": [],
   "source": [
    "#Exericse, just get lebron 2004, 3P% using just one call of `.loc` and a comma\n",
    "bball.loc[('Lebron','2004-01-01'),'3P%']"
   ]
  },
  {
   "cell_type": "markdown",
   "metadata": {},
   "source": [
    "### Note: We can have more than 2 things in our multiindex"
   ]
  },
  {
   "cell_type": "code",
   "execution_count": null,
   "metadata": {
    "ExecuteTime": {
     "end_time": "2019-01-18T19:27:07.410407Z",
     "start_time": "2019-01-18T19:27:07.350185Z"
    }
   },
   "outputs": [],
   "source": [
    "bball.reset_index().set_index(['Name','Season','Tm'])"
   ]
  },
  {
   "cell_type": "markdown",
   "metadata": {},
   "source": [
    "# The Power of the Multiindex"
   ]
  },
  {
   "cell_type": "code",
   "execution_count": null,
   "metadata": {
    "ExecuteTime": {
     "end_time": "2019-01-18T19:27:52.364816Z",
     "start_time": "2019-01-18T19:27:52.354903Z"
    }
   },
   "outputs": [],
   "source": [
    "#Not what we want!\n",
    "bball.mean()"
   ]
  },
  {
   "cell_type": "code",
   "execution_count": null,
   "metadata": {
    "ExecuteTime": {
     "end_time": "2019-01-18T19:28:00.415222Z",
     "start_time": "2019-01-18T19:28:00.389082Z"
    }
   },
   "outputs": [],
   "source": [
    "bball.groupby('Name').mean()"
   ]
  },
  {
   "cell_type": "code",
   "execution_count": null,
   "metadata": {
    "ExecuteTime": {
     "end_time": "2019-01-18T19:28:23.148858Z",
     "start_time": "2019-01-18T19:28:23.109079Z"
    }
   },
   "outputs": [],
   "source": [
    "bball.groupby('Age').mean()"
   ]
  },
  {
   "cell_type": "code",
   "execution_count": null,
   "metadata": {
    "ExecuteTime": {
     "end_time": "2019-01-18T19:28:46.183248Z",
     "start_time": "2019-01-18T19:28:46.129123Z"
    }
   },
   "outputs": [],
   "source": [
    "#Bad!\n",
    "bball.drop(['Tm','Pos','Lg'],1).cumsum()"
   ]
  },
  {
   "cell_type": "code",
   "execution_count": null,
   "metadata": {
    "ExecuteTime": {
     "end_time": "2019-01-18T19:29:19.047741Z",
     "start_time": "2019-01-18T19:29:18.978489Z"
    }
   },
   "outputs": [],
   "source": [
    "#Good!\n",
    "bball.drop(['Tm','Pos','Lg'],1).groupby('Name').cumsum()"
   ]
  },
  {
   "cell_type": "code",
   "execution_count": null,
   "metadata": {
    "ExecuteTime": {
     "end_time": "2019-01-18T19:29:45.074072Z",
     "start_time": "2019-01-18T19:29:45.021633Z"
    }
   },
   "outputs": [],
   "source": [
    "#rolling wont understand, #look at lebrons first age\n",
    "bball.drop(['Tm','Pos','Lg'],1).rolling(3,center=True).mean()"
   ]
  },
  {
   "cell_type": "code",
   "execution_count": null,
   "metadata": {
    "ExecuteTime": {
     "end_time": "2019-01-18T19:30:06.278745Z",
     "start_time": "2019-01-18T19:30:06.219405Z"
    }
   },
   "outputs": [],
   "source": [
    "bball.drop(['Tm','Pos','Lg'],1).groupby('Name').rolling(3,center=True).mean()\n",
    "#Weird name, name thing, but we can deal with this"
   ]
  },
  {
   "cell_type": "code",
   "execution_count": null,
   "metadata": {
    "ExecuteTime": {
     "end_time": "2019-01-18T19:30:39.458319Z",
     "start_time": "2019-01-18T19:30:39.401463Z"
    }
   },
   "outputs": [],
   "source": [
    "#Odd behavior, how to we get rid of a 'level' of our index?\n",
    "temp = bball.drop(['Tm','Pos','Lg'],1).groupby('Name').rolling(3,center=True).mean()\n",
    "temp"
   ]
  },
  {
   "cell_type": "code",
   "execution_count": null,
   "metadata": {
    "ExecuteTime": {
     "end_time": "2019-01-18T19:30:47.747132Z",
     "start_time": "2019-01-18T19:30:47.699367Z"
    }
   },
   "outputs": [],
   "source": [
    "temp.index = temp.index.droplevel()\n",
    "temp"
   ]
  },
  {
   "cell_type": "code",
   "execution_count": null,
   "metadata": {
    "ExecuteTime": {
     "end_time": "2019-01-18T19:31:13.803946Z",
     "start_time": "2019-01-18T19:31:13.799714Z"
    }
   },
   "outputs": [],
   "source": [
    "temp.index = temp.index.droplevel()"
   ]
  },
  {
   "cell_type": "code",
   "execution_count": null,
   "metadata": {
    "ExecuteTime": {
     "end_time": "2019-01-18T19:31:14.685179Z",
     "start_time": "2019-01-18T19:31:14.640266Z"
    }
   },
   "outputs": [],
   "source": [
    "temp\n",
    "#drops from left to right"
   ]
  }
 ],
 "metadata": {
  "kernelspec": {
   "display_name": "Python 3",
   "language": "python",
   "name": "python3"
  },
  "language_info": {
   "codemirror_mode": {
    "name": "ipython",
    "version": 3
   },
   "file_extension": ".py",
   "mimetype": "text/x-python",
   "name": "python",
   "nbconvert_exporter": "python",
   "pygments_lexer": "ipython3",
   "version": "3.7.1"
  },
  "varInspector": {
   "cols": {
    "lenName": 16,
    "lenType": 16,
    "lenVar": 40
   },
   "kernels_config": {
    "python": {
     "delete_cmd_postfix": "",
     "delete_cmd_prefix": "del ",
     "library": "var_list.py",
     "varRefreshCmd": "print(var_dic_list())"
    },
    "r": {
     "delete_cmd_postfix": ") ",
     "delete_cmd_prefix": "rm(",
     "library": "var_list.r",
     "varRefreshCmd": "cat(var_dic_list()) "
    }
   },
   "types_to_exclude": [
    "module",
    "function",
    "builtin_function_or_method",
    "instance",
    "_Feature"
   ],
   "window_display": false
  }
 },
 "nbformat": 4,
 "nbformat_minor": 2
}
