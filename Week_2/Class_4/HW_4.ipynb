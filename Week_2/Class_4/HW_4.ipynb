{
 "cells": [
  {
   "cell_type": "code",
   "execution_count": null,
   "metadata": {
    "ExecuteTime": {
     "end_time": "2019-01-14T03:07:51.141113Z",
     "start_time": "2019-01-14T03:07:50.917498Z"
    }
   },
   "outputs": [],
   "source": [
    "import pandas as pd"
   ]
  },
  {
   "cell_type": "markdown",
   "metadata": {
    "ExecuteTime": {
     "end_time": "2019-01-14T03:07:51.141113Z",
     "start_time": "2019-01-14T03:07:50.917498Z"
    }
   },
   "source": [
    "# HW 4\n",
    "In this homework you'll do some data manipulation on a real life dataset. Stats about the 2018-19 Brooklyn Nets.\n",
    "\n",
    "Credit: https://www.basketball-reference.com/ for the dataset."
   ]
  },
  {
   "cell_type": "code",
   "execution_count": null,
   "metadata": {
    "ExecuteTime": {
     "end_time": "2019-01-14T03:53:13.640768Z",
     "start_time": "2019-01-14T03:53:13.634136Z"
    }
   },
   "outputs": [],
   "source": [
    "#Exercise 1\n",
    "#read in bball_full.csv (from the data folder) making player names as index and store as a variable called data, only read in the first 16 rows\n",
    "#Hint: to only read in the first 16 rows use one of the arguments in the read_csv function: https://pandas.pydata.org/pandas-docs/stable/generated/pandas.read_csv.html\n"
   ]
  },
  {
   "cell_type": "markdown",
   "metadata": {
    "ExecuteTime": {
     "end_time": "2019-01-14T03:50:28.820240Z",
     "start_time": "2019-01-14T03:50:28.810226Z"
    }
   },
   "source": [
    "### Note: The ability to only load in a select number of rows is extremely important when you are deadling with big data and don't want to crash your computer."
   ]
  },
  {
   "cell_type": "code",
   "execution_count": null,
   "metadata": {
    "ExecuteTime": {
     "end_time": "2019-01-14T03:53:14.516617Z",
     "start_time": "2019-01-14T03:53:14.509296Z"
    }
   },
   "outputs": [],
   "source": [
    "#Exercise 2\n",
    "#Tell me the average (mean) and standard deviation of the Age of starters on the nets\n",
    "#Note: Consider starters players as players for which GS (games started) is greater than or equal to 50% of G (games played)\n"
   ]
  },
  {
   "cell_type": "code",
   "execution_count": null,
   "metadata": {
    "ExecuteTime": {
     "end_time": "2019-01-14T03:54:42.914630Z",
     "start_time": "2019-01-14T03:54:42.895735Z"
    }
   },
   "outputs": [],
   "source": [
    "#Exercise 3\n",
    "#Calculate True Shooting Percentage (https://en.wikipedia.org/wiki/True_shooting_percentage) and add it to the dataset as a column called TSP\n",
    "#Who has the highest TSP on the nets?\n",
    "#To see the player with the higehest TSP you may want to use those location max methods we talked about in numpy\n"
   ]
  },
  {
   "cell_type": "code",
   "execution_count": null,
   "metadata": {
    "ExecuteTime": {
     "end_time": "2019-01-14T03:55:16.444763Z",
     "start_time": "2019-01-14T03:55:16.438684Z"
    }
   },
   "outputs": [],
   "source": [
    "#Exericse 4\n",
    "#read in bball_missing.csv (from the data folder) making player names as index and store as a variable called data_missing\n"
   ]
  },
  {
   "cell_type": "code",
   "execution_count": null,
   "metadata": {
    "ExecuteTime": {
     "end_time": "2019-01-14T03:55:55.030693Z",
     "start_time": "2019-01-14T03:55:55.023558Z"
    }
   },
   "outputs": [],
   "source": [
    "#Exercise 5\n",
    "#Tell me how many values are missing per row? per column?\n"
   ]
  },
  {
   "cell_type": "code",
   "execution_count": null,
   "metadata": {
    "ExecuteTime": {
     "end_time": "2019-01-14T03:56:26.435868Z",
     "start_time": "2019-01-14T03:56:26.426430Z"
    }
   },
   "outputs": [],
   "source": [
    "#Exercise 6\n",
    "#Drop columns with nans but DO NOT actually modify data_missing\n"
   ]
  },
  {
   "cell_type": "code",
   "execution_count": null,
   "metadata": {
    "ExecuteTime": {
     "end_time": "2019-01-14T03:56:46.088046Z",
     "start_time": "2019-01-14T03:56:46.029212Z"
    }
   },
   "outputs": [],
   "source": [
    "#Exercise 7\n",
    "#Fill nans with column means\n",
    "#Here, you should actually modify data_missing\n"
   ]
  }
 ],
 "metadata": {
  "kernelspec": {
   "display_name": "Python 3",
   "language": "python",
   "name": "python3"
  },
  "language_info": {
   "codemirror_mode": {
    "name": "ipython",
    "version": 3
   },
   "file_extension": ".py",
   "mimetype": "text/x-python",
   "name": "python",
   "nbconvert_exporter": "python",
   "pygments_lexer": "ipython3",
   "version": "3.7.1"
  },
  "varInspector": {
   "cols": {
    "lenName": 16,
    "lenType": 16,
    "lenVar": 40
   },
   "kernels_config": {
    "python": {
     "delete_cmd_postfix": "",
     "delete_cmd_prefix": "del ",
     "library": "var_list.py",
     "varRefreshCmd": "print(var_dic_list())"
    },
    "r": {
     "delete_cmd_postfix": ") ",
     "delete_cmd_prefix": "rm(",
     "library": "var_list.r",
     "varRefreshCmd": "cat(var_dic_list()) "
    }
   },
   "types_to_exclude": [
    "module",
    "function",
    "builtin_function_or_method",
    "instance",
    "_Feature"
   ],
   "window_display": false
  }
 },
 "nbformat": 4,
 "nbformat_minor": 2
}
