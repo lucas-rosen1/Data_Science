{
 "cells": [
  {
   "cell_type": "markdown",
   "metadata": {},
   "source": [
    "# In this lecture we'll talk broadly about datasets.\n",
    "\n",
    "Credit: https://www.basketball-reference.com/ for the datasets."
   ]
  },
  {
   "cell_type": "markdown",
   "metadata": {},
   "source": [
    "# Importing Datafrom a file"
   ]
  },
  {
   "cell_type": "code",
   "execution_count": null,
   "metadata": {
    "ExecuteTime": {
     "end_time": "2019-01-14T03:49:16.077201Z",
     "start_time": "2019-01-14T03:49:16.047194Z"
    }
   },
   "outputs": [],
   "source": [
    "import pandas as pd\n",
    "import numpy as np\n",
    "#Take a look at bball1.csv, you can just open it in Jupyter\n",
    "#csv is \"comment separated values\", this is data separted by commas\n",
    "#Pandas knows very well how to handle this data\n",
    "pd.read_csv('data/bball1.csv')"
   ]
  },
  {
   "cell_type": "markdown",
   "metadata": {},
   "source": [
    "pandas does not know which column to make the index. We'll have to tell it."
   ]
  },
  {
   "cell_type": "code",
   "execution_count": null,
   "metadata": {
    "ExecuteTime": {
     "end_time": "2019-01-14T03:48:57.025198Z",
     "start_time": "2019-01-14T03:48:57.019903Z"
    }
   },
   "outputs": [],
   "source": [
    "data = pd.read_csv('data/bball1.csv',index_col='Name')"
   ]
  },
  {
   "cell_type": "code",
   "execution_count": null,
   "metadata": {
    "ExecuteTime": {
     "end_time": "2019-01-14T03:48:57.049328Z",
     "start_time": "2019-01-14T03:48:57.026998Z"
    }
   },
   "outputs": [],
   "source": [
    "data"
   ]
  },
  {
   "cell_type": "markdown",
   "metadata": {},
   "source": [
    "# Combining Data"
   ]
  },
  {
   "cell_type": "markdown",
   "metadata": {},
   "source": [
    "Lets say we somehow stumbled upon new rows of data"
   ]
  },
  {
   "cell_type": "code",
   "execution_count": null,
   "metadata": {
    "ExecuteTime": {
     "end_time": "2019-01-14T03:48:57.056821Z",
     "start_time": "2019-01-14T03:48:57.051265Z"
    }
   },
   "outputs": [],
   "source": [
    "data_rows = pd.read_csv('data/bball3.csv',index_col='Name')"
   ]
  },
  {
   "cell_type": "code",
   "execution_count": null,
   "metadata": {
    "ExecuteTime": {
     "end_time": "2019-01-14T03:48:57.075327Z",
     "start_time": "2019-01-14T03:48:57.058856Z"
    }
   },
   "outputs": [],
   "source": [
    "data_rows"
   ]
  },
  {
   "cell_type": "code",
   "execution_count": null,
   "metadata": {
    "ExecuteTime": {
     "end_time": "2019-01-14T03:48:57.099031Z",
     "start_time": "2019-01-14T03:48:57.077292Z"
    }
   },
   "outputs": [],
   "source": [
    "pd.concat([data,data_rows])\n",
    "#Just makes a copy"
   ]
  },
  {
   "cell_type": "code",
   "execution_count": null,
   "metadata": {
    "ExecuteTime": {
     "end_time": "2019-01-14T03:48:57.106862Z",
     "start_time": "2019-01-14T03:48:57.100942Z"
    }
   },
   "outputs": [],
   "source": [
    "#If we stumbled upon new columns\n",
    "data_cols = pd.read_csv('data/bball2.csv',index_col='Name')"
   ]
  },
  {
   "cell_type": "code",
   "execution_count": null,
   "metadata": {
    "ExecuteTime": {
     "end_time": "2019-01-14T03:48:57.145284Z",
     "start_time": "2019-01-14T03:48:57.108739Z"
    }
   },
   "outputs": [],
   "source": [
    "pd.concat([data,data_cols],axis=1)"
   ]
  },
  {
   "cell_type": "markdown",
   "metadata": {},
   "source": [
    "In general you will only use `concat when this is easy`."
   ]
  },
  {
   "cell_type": "code",
   "execution_count": null,
   "metadata": {
    "ExecuteTime": {
     "end_time": "2019-01-14T03:48:57.153624Z",
     "start_time": "2019-01-14T03:48:57.147719Z"
    }
   },
   "outputs": [],
   "source": [
    "data_new_names = pd.read_csv('data/join_data.csv',index_col='Name')"
   ]
  },
  {
   "cell_type": "code",
   "execution_count": null,
   "metadata": {
    "ExecuteTime": {
     "end_time": "2019-01-14T03:48:57.190265Z",
     "start_time": "2019-01-14T03:48:57.156230Z"
    }
   },
   "outputs": [],
   "source": [
    "data_new_names"
   ]
  },
  {
   "cell_type": "code",
   "execution_count": null,
   "metadata": {
    "ExecuteTime": {
     "end_time": "2019-01-14T03:48:57.208850Z",
     "start_time": "2019-01-14T03:48:57.192479Z"
    }
   },
   "outputs": [],
   "source": [
    "data"
   ]
  },
  {
   "cell_type": "markdown",
   "metadata": {
    "ExecuteTime": {
     "end_time": "2019-01-14T03:26:22.632556Z",
     "start_time": "2019-01-14T03:26:22.615761Z"
    }
   },
   "source": [
    "Data new names has all different columns and same of the same names and some new names.\n",
    "We may want different things to happen when we put the two frames together.\n",
    "\n",
    "\n",
    "`DF.join` allows for many options."
   ]
  },
  {
   "cell_type": "code",
   "execution_count": null,
   "metadata": {
    "ExecuteTime": {
     "end_time": "2019-01-14T03:48:57.256684Z",
     "start_time": "2019-01-14T03:48:57.211156Z"
    }
   },
   "outputs": [],
   "source": [
    "data.join(data_new_names)"
   ]
  },
  {
   "cell_type": "markdown",
   "metadata": {},
   "source": [
    "## What is this doing?\n",
    "* Finds rows by in `data_new_names` that are in `data`, drops rows that aren't\n",
    "* Tries to get information of all of the columns in both `data` and `data_new_names` for all rows\n",
    "* If there is no value, puts in a `NaN`"
   ]
  },
  {
   "cell_type": "markdown",
   "metadata": {},
   "source": [
    "What if we wanted to only select the rows with index that are in both?"
   ]
  },
  {
   "cell_type": "code",
   "execution_count": null,
   "metadata": {
    "ExecuteTime": {
     "end_time": "2019-01-14T03:48:57.290753Z",
     "start_time": "2019-01-14T03:48:57.258929Z"
    }
   },
   "outputs": [],
   "source": [
    "data.join(data_new_names,how='inner')"
   ]
  },
  {
   "cell_type": "markdown",
   "metadata": {},
   "source": [
    "Rows with index in either?"
   ]
  },
  {
   "cell_type": "code",
   "execution_count": null,
   "metadata": {
    "ExecuteTime": {
     "end_time": "2019-01-14T03:48:57.335724Z",
     "start_time": "2019-01-14T03:48:57.292653Z"
    }
   },
   "outputs": [],
   "source": [
    "data.join(data_new_names,how='outer')"
   ]
  },
  {
   "cell_type": "code",
   "execution_count": null,
   "metadata": {
    "ExecuteTime": {
     "end_time": "2019-01-14T03:48:57.371283Z",
     "start_time": "2019-01-14T03:48:57.337523Z"
    }
   },
   "outputs": [],
   "source": [
    "#Only rows that are data_new_names?\n",
    "data.join(data_new_names,how='right')"
   ]
  },
  {
   "cell_type": "markdown",
   "metadata": {},
   "source": [
    "# The `on` argument in `join`\n",
    "If for some reason we want to join two dataframes but not on their index. For example if name was not our index column. We could use the on keyword.\n",
    "There must not be duplicate entries in the column we choose (or else pandas doesn't know what to do).\n",
    "For example, if on the nets we had 3 players, one averaging 25 points, one averaging 26, and one average 27 points and on the pacers we had the same thing, we may want to merge these nets and pacers players on points. This won't come up during this class."
   ]
  },
  {
   "cell_type": "markdown",
   "metadata": {},
   "source": [
    "# You can get even fancier with `DF.merge`\n",
    "\n",
    "`Merge` can be thought of as a generalized `join`.\n",
    "For my purposes, I'm always happy to use `join`. You can read more about `merge` here if you want.\n",
    "https://jakevdp.github.io/PythonDataScienceHandbook/03.07-merge-and-join.html\n",
    "https://pandas.pydata.org/pandas-docs/stable/generated/pandas.DataFrame.merge.html"
   ]
  },
  {
   "cell_type": "markdown",
   "metadata": {},
   "source": [
    "# More on the index"
   ]
  },
  {
   "cell_type": "markdown",
   "metadata": {},
   "source": [
    "What if we decided we didn't want to index by name?"
   ]
  },
  {
   "cell_type": "code",
   "execution_count": null,
   "metadata": {
    "ExecuteTime": {
     "end_time": "2019-01-14T03:48:57.389976Z",
     "start_time": "2019-01-14T03:48:57.373002Z"
    }
   },
   "outputs": [],
   "source": [
    "data"
   ]
  },
  {
   "cell_type": "code",
   "execution_count": null,
   "metadata": {
    "ExecuteTime": {
     "end_time": "2019-01-14T03:48:57.410552Z",
     "start_time": "2019-01-14T03:48:57.391734Z"
    }
   },
   "outputs": [],
   "source": [
    "data.reset_index()\n",
    "#turns name back into a column and puts ints as index"
   ]
  },
  {
   "cell_type": "code",
   "execution_count": null,
   "metadata": {
    "ExecuteTime": {
     "end_time": "2019-01-14T03:48:57.416098Z",
     "start_time": "2019-01-14T03:48:57.412653Z"
    }
   },
   "outputs": [],
   "source": [
    "data_reset = data.reset_index()\n"
   ]
  },
  {
   "cell_type": "code",
   "execution_count": null,
   "metadata": {
    "ExecuteTime": {
     "end_time": "2019-01-14T03:48:57.435279Z",
     "start_time": "2019-01-14T03:48:57.417817Z"
    }
   },
   "outputs": [],
   "source": [
    "#set 3p% to index\n",
    "data.set_index('3P%')\n",
    "#only makes a copy"
   ]
  },
  {
   "cell_type": "code",
   "execution_count": null,
   "metadata": {
    "ExecuteTime": {
     "end_time": "2019-01-14T03:48:57.454008Z",
     "start_time": "2019-01-14T03:48:57.437364Z"
    }
   },
   "outputs": [],
   "source": [
    "#entries should be unique but you wont get error\n",
    "data.set_index('Age')"
   ]
  },
  {
   "cell_type": "code",
   "execution_count": null,
   "metadata": {
    "ExecuteTime": {
     "end_time": "2019-01-14T03:48:57.458790Z",
     "start_time": "2019-01-14T03:48:57.455994Z"
    }
   },
   "outputs": [],
   "source": [
    "data_age = data.set_index('Age')"
   ]
  },
  {
   "cell_type": "code",
   "execution_count": null,
   "metadata": {
    "ExecuteTime": {
     "end_time": "2019-01-14T03:48:57.473052Z",
     "start_time": "2019-01-14T03:48:57.460461Z"
    }
   },
   "outputs": [],
   "source": [
    "#bizarre\n",
    "data_age.loc[24]"
   ]
  },
  {
   "cell_type": "code",
   "execution_count": null,
   "metadata": {
    "ExecuteTime": {
     "end_time": "2019-01-14T03:48:57.490738Z",
     "start_time": "2019-01-14T03:48:57.474869Z"
    }
   },
   "outputs": [],
   "source": [
    "#Changing the order, add and removing values from index\n",
    "data"
   ]
  },
  {
   "cell_type": "code",
   "execution_count": null,
   "metadata": {
    "ExecuteTime": {
     "end_time": "2019-01-14T03:48:57.495319Z",
     "start_time": "2019-01-14T03:48:57.492473Z"
    }
   },
   "outputs": [],
   "source": [
    "inds_shuffled = pd.Series(data.index).sample(frac=1).values"
   ]
  },
  {
   "cell_type": "code",
   "execution_count": null,
   "metadata": {
    "ExecuteTime": {
     "end_time": "2019-01-14T03:48:57.500303Z",
     "start_time": "2019-01-14T03:48:57.497032Z"
    }
   },
   "outputs": [],
   "source": [
    "inds_shuffled"
   ]
  },
  {
   "cell_type": "code",
   "execution_count": null,
   "metadata": {
    "ExecuteTime": {
     "end_time": "2019-01-14T03:48:57.518781Z",
     "start_time": "2019-01-14T03:48:57.502004Z"
    }
   },
   "outputs": [],
   "source": [
    "data.reindex(inds_shuffled)\n",
    "#changes order"
   ]
  },
  {
   "cell_type": "code",
   "execution_count": null,
   "metadata": {
    "ExecuteTime": {
     "end_time": "2019-01-14T03:48:57.524861Z",
     "start_time": "2019-01-14T03:48:57.520980Z"
    }
   },
   "outputs": [],
   "source": [
    "inds_shuffled[:5]"
   ]
  },
  {
   "cell_type": "code",
   "execution_count": null,
   "metadata": {
    "ExecuteTime": {
     "end_time": "2019-01-14T03:48:57.543331Z",
     "start_time": "2019-01-14T03:48:57.526869Z"
    }
   },
   "outputs": [],
   "source": [
    "data.reindex(inds_shuffled[:5])\n",
    "#removes missing"
   ]
  },
  {
   "cell_type": "code",
   "execution_count": null,
   "metadata": {
    "ExecuteTime": {
     "end_time": "2019-01-14T03:48:57.709806Z",
     "start_time": "2019-01-14T03:48:57.545664Z"
    }
   },
   "outputs": [],
   "source": [
    "np.concatenate((inds_shuffled,['Lebron James']))"
   ]
  },
  {
   "cell_type": "code",
   "execution_count": null,
   "metadata": {
    "ExecuteTime": {
     "end_time": "2019-01-14T03:48:57.710942Z",
     "start_time": "2019-01-14T03:48:56.760Z"
    }
   },
   "outputs": [],
   "source": [
    "data.reindex(np.concatenate((inds_shuffled,['Lebron James'])))\n",
    "#adds new rows but all NaNs"
   ]
  },
  {
   "cell_type": "markdown",
   "metadata": {
    "ExecuteTime": {
     "end_time": "2019-01-14T03:43:35.045881Z",
     "start_time": "2019-01-14T03:43:35.026547Z"
    }
   },
   "source": [
    "# Saving to a file"
   ]
  },
  {
   "cell_type": "code",
   "execution_count": null,
   "metadata": {
    "ExecuteTime": {
     "end_time": "2019-01-14T03:49:18.507301Z",
     "start_time": "2019-01-14T03:49:18.483356Z"
    }
   },
   "outputs": [],
   "source": [
    "data.to_csv(<FILE_NAME>)"
   ]
  },
  {
   "cell_type": "code",
   "execution_count": null,
   "metadata": {},
   "outputs": [],
   "source": []
  }
 ],
 "metadata": {
  "kernelspec": {
   "display_name": "Python 3",
   "language": "python",
   "name": "python3"
  },
  "language_info": {
   "codemirror_mode": {
    "name": "ipython",
    "version": 3
   },
   "file_extension": ".py",
   "mimetype": "text/x-python",
   "name": "python",
   "nbconvert_exporter": "python",
   "pygments_lexer": "ipython3",
   "version": "3.7.1"
  },
  "varInspector": {
   "cols": {
    "lenName": 16,
    "lenType": 16,
    "lenVar": 40
   },
   "kernels_config": {
    "python": {
     "delete_cmd_postfix": "",
     "delete_cmd_prefix": "del ",
     "library": "var_list.py",
     "varRefreshCmd": "print(var_dic_list())"
    },
    "r": {
     "delete_cmd_postfix": ") ",
     "delete_cmd_prefix": "rm(",
     "library": "var_list.r",
     "varRefreshCmd": "cat(var_dic_list()) "
    }
   },
   "types_to_exclude": [
    "module",
    "function",
    "builtin_function_or_method",
    "instance",
    "_Feature"
   ],
   "window_display": false
  }
 },
 "nbformat": 4,
 "nbformat_minor": 2
}
