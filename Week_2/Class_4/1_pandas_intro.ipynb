{
 "cells": [
  {
   "cell_type": "markdown",
   "metadata": {},
   "source": [
    "# Pandas\n",
    "We will now begin our discussion of pandas."
   ]
  },
  {
   "cell_type": "markdown",
   "metadata": {},
   "source": [
    "## What is Pandas?\n",
    "We can think of Pandas as \"numpy\" with labels.\n",
    "What does this mean?\n",
    "Lets see an example."
   ]
  },
  {
   "cell_type": "markdown",
   "metadata": {},
   "source": [
    "Recall, the list of heights of my friends. "
   ]
  },
  {
   "cell_type": "code",
   "execution_count": null,
   "metadata": {
    "ExecuteTime": {
     "end_time": "2019-01-16T00:36:05.698405Z",
     "start_time": "2019-01-16T00:36:05.695686Z"
    }
   },
   "outputs": [],
   "source": [
    "heights = [73,72,69,70]\n",
    "names = ['Jason','Alex','Fayzan','Ethan']"
   ]
  },
  {
   "cell_type": "code",
   "execution_count": null,
   "metadata": {
    "ExecuteTime": {
     "end_time": "2019-01-16T00:36:06.862659Z",
     "start_time": "2019-01-16T00:36:06.843673Z"
    }
   },
   "outputs": [],
   "source": [
    "import numpy as np\n",
    "heights_arr = np.array(heights)\n",
    "heights_arr"
   ]
  },
  {
   "cell_type": "markdown",
   "metadata": {},
   "source": [
    "This is what are are used to. This is good, but what if we wanted some way to keep track of who those heights belonged to? \n",
    "\n",
    "This cannot be done in NumPy.\n",
    "\n",
    "Enter pandas"
   ]
  },
  {
   "cell_type": "code",
   "execution_count": null,
   "metadata": {
    "ExecuteTime": {
     "end_time": "2019-01-14T18:09:09.302192Z",
     "start_time": "2019-01-14T18:09:09.102938Z"
    }
   },
   "outputs": [],
   "source": [
    "#literally enter pandas\n",
    "import pandas as pd"
   ]
  },
  {
   "cell_type": "markdown",
   "metadata": {},
   "source": [
    "There is a pandas analog for both the 1-d and 2-d array. Past 2 dimensions there is not pandas analog. 2 dimensions is sufficient for many datasets.\n",
    "\n",
    "Lets look at the 1-d array analog, the `series`.\n",
    "\n",
    "# The Series"
   ]
  },
  {
   "cell_type": "code",
   "execution_count": null,
   "metadata": {
    "ExecuteTime": {
     "end_time": "2019-01-14T18:09:55.125175Z",
     "start_time": "2019-01-14T18:09:55.118893Z"
    }
   },
   "outputs": [],
   "source": [
    "#instead of calling np.array(heights) we'll call pd.Series(heights)\n",
    "heights_ser = pd.Series(heights)\n",
    "heights_ser"
   ]
  },
  {
   "cell_type": "code",
   "execution_count": null,
   "metadata": {
    "ExecuteTime": {
     "end_time": "2019-01-14T18:10:10.720556Z",
     "start_time": "2019-01-14T18:10:10.714160Z"
    }
   },
   "outputs": [],
   "source": [
    "#The same\n",
    "heights_ser = pd.Series(heights_arr)\n",
    "heights_ser"
   ]
  },
  {
   "cell_type": "markdown",
   "metadata": {},
   "source": [
    "All the rules about math and broadcasting are the same. Like the numpy array, the series must be type identical.\n",
    "\n",
    "What is different here? The column on the left. This is the index. It doesn't look like much as this exactly the same way as numpy indexes. Two ways to get elements by index."
   ]
  },
  {
   "cell_type": "code",
   "execution_count": null,
   "metadata": {
    "ExecuteTime": {
     "end_time": "2019-01-14T18:11:00.959869Z",
     "start_time": "2019-01-14T18:11:00.954957Z"
    }
   },
   "outputs": [],
   "source": [
    "heights_ser[2]"
   ]
  },
  {
   "cell_type": "code",
   "execution_count": null,
   "metadata": {
    "ExecuteTime": {
     "end_time": "2019-01-14T18:11:15.432092Z",
     "start_time": "2019-01-14T18:11:15.426748Z"
    }
   },
   "outputs": [],
   "source": [
    "heights_ser.loc[2]\n",
    "\n",
    "#These are the same"
   ]
  },
  {
   "cell_type": "code",
   "execution_count": null,
   "metadata": {
    "ExecuteTime": {
     "end_time": "2019-01-14T18:11:21.057594Z",
     "start_time": "2019-01-14T18:11:21.051145Z"
    }
   },
   "outputs": [],
   "source": [
    "heights_ser[1:3]"
   ]
  },
  {
   "cell_type": "code",
   "execution_count": null,
   "metadata": {
    "ExecuteTime": {
     "end_time": "2019-01-14T18:11:30.341043Z",
     "start_time": "2019-01-14T18:11:30.335532Z"
    }
   },
   "outputs": [],
   "source": [
    "heights_ser.loc[1:3]\n",
    "#Second element inclusive"
   ]
  },
  {
   "cell_type": "code",
   "execution_count": null,
   "metadata": {
    "ExecuteTime": {
     "end_time": "2019-01-14T18:11:55.073881Z",
     "start_time": "2019-01-14T18:11:55.067311Z"
    }
   },
   "outputs": [],
   "source": [
    "#Logical indexing\n",
    "heights_ser[heights_ser>70]\n",
    "\n",
    "heights_ser.loc[heights_ser>70]"
   ]
  },
  {
   "cell_type": "code",
   "execution_count": null,
   "metadata": {
    "ExecuteTime": {
     "end_time": "2019-01-14T18:12:03.596340Z",
     "start_time": "2019-01-14T18:12:03.590546Z"
    }
   },
   "outputs": [],
   "source": [
    "#Modification\n",
    "heights_ser[3]=2\n",
    "heights_ser"
   ]
  },
  {
   "cell_type": "markdown",
   "metadata": {},
   "source": [
    "There is a bit more convience because we don't have to manually count each time, but this isn't the power of Pandas. What if we want to label each point with a list of names?\n",
    "We must modify the 'index' which is just a list of labels. Right now our index looks like this."
   ]
  },
  {
   "cell_type": "code",
   "execution_count": null,
   "metadata": {
    "ExecuteTime": {
     "end_time": "2019-01-14T18:12:38.066345Z",
     "start_time": "2019-01-14T18:12:38.060944Z"
    }
   },
   "outputs": [],
   "source": [
    "heights_ser.index\n",
    "#Its just essentially a python \"range\""
   ]
  },
  {
   "cell_type": "markdown",
   "metadata": {
    "ExecuteTime": {
     "end_time": "2019-01-14T01:31:14.849381Z",
     "start_time": "2019-01-14T01:31:14.843758Z"
    }
   },
   "source": [
    "We can simply change our index to the list of names. First, recall names."
   ]
  },
  {
   "cell_type": "code",
   "execution_count": null,
   "metadata": {
    "ExecuteTime": {
     "end_time": "2019-01-14T18:12:52.023680Z",
     "start_time": "2019-01-14T18:12:52.019033Z"
    }
   },
   "outputs": [],
   "source": [
    "names"
   ]
  },
  {
   "cell_type": "code",
   "execution_count": null,
   "metadata": {
    "ExecuteTime": {
     "end_time": "2019-01-14T18:12:58.708881Z",
     "start_time": "2019-01-14T18:12:58.704662Z"
    }
   },
   "outputs": [],
   "source": [
    "heights_ser.index = names"
   ]
  },
  {
   "cell_type": "code",
   "execution_count": null,
   "metadata": {
    "ExecuteTime": {
     "end_time": "2019-01-14T18:13:01.552365Z",
     "start_time": "2019-01-14T18:13:01.547032Z"
    }
   },
   "outputs": [],
   "source": [
    "heights_ser"
   ]
  },
  {
   "cell_type": "markdown",
   "metadata": {},
   "source": [
    "Now the index column is the list of names. That we can use as our index. Alternatively, we could have put the index into our constructor"
   ]
  },
  {
   "cell_type": "code",
   "execution_count": null,
   "metadata": {
    "ExecuteTime": {
     "end_time": "2019-01-14T18:13:43.566256Z",
     "start_time": "2019-01-14T18:13:43.559848Z"
    }
   },
   "outputs": [],
   "source": [
    "heights_ser = pd.Series(heights,index = names)\n",
    "heights_ser"
   ]
  },
  {
   "cell_type": "code",
   "execution_count": null,
   "metadata": {
    "ExecuteTime": {
     "end_time": "2019-01-14T18:14:14.848893Z",
     "start_time": "2019-01-14T18:14:14.844197Z"
    }
   },
   "outputs": [],
   "source": [
    "heights_ser['Jason']"
   ]
  },
  {
   "cell_type": "markdown",
   "metadata": {
    "ExecuteTime": {
     "end_time": "2019-01-14T01:35:20.522803Z",
     "start_time": "2019-01-14T01:35:20.506682Z"
    }
   },
   "source": [
    "We can also slice."
   ]
  },
  {
   "cell_type": "code",
   "execution_count": null,
   "metadata": {
    "ExecuteTime": {
     "end_time": "2019-01-14T18:14:31.208951Z",
     "start_time": "2019-01-14T18:14:31.203062Z"
    }
   },
   "outputs": [],
   "source": [
    "heights_ser['Jason':'Fayzan']"
   ]
  },
  {
   "cell_type": "markdown",
   "metadata": {},
   "source": [
    "What if we wanted to index in the typical numpy way? \n",
    "The `iloc` method."
   ]
  },
  {
   "cell_type": "code",
   "execution_count": null,
   "metadata": {
    "ExecuteTime": {
     "end_time": "2019-01-14T18:14:49.398916Z",
     "start_time": "2019-01-14T18:14:49.392788Z"
    }
   },
   "outputs": [],
   "source": [
    "heights_ser.iloc[1:3]"
   ]
  },
  {
   "cell_type": "markdown",
   "metadata": {},
   "source": [
    "What if we wanted to access the numpy array hiding underneath? The `values` method."
   ]
  },
  {
   "cell_type": "code",
   "execution_count": null,
   "metadata": {
    "ExecuteTime": {
     "end_time": "2019-01-14T18:15:17.162766Z",
     "start_time": "2019-01-14T18:15:17.157637Z"
    }
   },
   "outputs": [],
   "source": [
    "heights_ser.values"
   ]
  },
  {
   "cell_type": "markdown",
   "metadata": {},
   "source": [
    "# Addendum: The Series From Dictionary"
   ]
  },
  {
   "cell_type": "markdown",
   "metadata": {},
   "source": [
    "In addition to thinking of the Series as numpy with labels we also can think of it as a dictionary with extra methods."
   ]
  },
  {
   "cell_type": "code",
   "execution_count": null,
   "metadata": {
    "ExecuteTime": {
     "end_time": "2019-01-14T18:15:55.044259Z",
     "start_time": "2019-01-14T18:15:55.039267Z"
    }
   },
   "outputs": [],
   "source": [
    "heights_dict = {'Jason':73,'Alex':72,'Fayzan':69,'Ethan':70}\n",
    "heights_dict"
   ]
  },
  {
   "cell_type": "code",
   "execution_count": null,
   "metadata": {
    "ExecuteTime": {
     "end_time": "2019-01-14T18:16:03.000123Z",
     "start_time": "2019-01-14T18:16:02.993787Z"
    }
   },
   "outputs": [],
   "source": [
    "pd.Series(heights_dict)"
   ]
  },
  {
   "cell_type": "markdown",
   "metadata": {},
   "source": [
    "Don't worry too much about this."
   ]
  },
  {
   "cell_type": "markdown",
   "metadata": {},
   "source": [
    "# The DataFrame\n",
    "\n",
    "Most, of the time we will work with data that has more than 1 feature. In the past week, I've mentioned that we'd use a 2-d array or matrix for this. In reality, we'll use a DataFrame. We can think of this a numpy matrix with labels on both axes. Lets take a look."
   ]
  },
  {
   "cell_type": "code",
   "execution_count": null,
   "metadata": {
    "ExecuteTime": {
     "end_time": "2019-01-14T18:17:04.643818Z",
     "start_time": "2019-01-14T18:17:04.639154Z"
    }
   },
   "outputs": [],
   "source": [
    "heights"
   ]
  },
  {
   "cell_type": "code",
   "execution_count": null,
   "metadata": {
    "ExecuteTime": {
     "end_time": "2019-01-14T18:17:08.366105Z",
     "start_time": "2019-01-14T18:17:08.362278Z"
    }
   },
   "outputs": [],
   "source": [
    "weights = [175,160,150,180]"
   ]
  },
  {
   "cell_type": "code",
   "execution_count": null,
   "metadata": {
    "ExecuteTime": {
     "end_time": "2019-01-14T18:17:13.599417Z",
     "start_time": "2019-01-14T18:17:13.593993Z"
    }
   },
   "outputs": [],
   "source": [
    "friends_matrix = np.array([heights,weights]).T\n",
    "friends_matrix"
   ]
  },
  {
   "cell_type": "code",
   "execution_count": null,
   "metadata": {
    "ExecuteTime": {
     "end_time": "2019-01-14T18:17:46.704802Z",
     "start_time": "2019-01-14T18:17:46.695961Z"
    }
   },
   "outputs": [],
   "source": [
    "#Make the dataframe\n",
    "friends_frame = pd.DataFrame(friends_matrix)\n",
    "friends_frame"
   ]
  },
  {
   "cell_type": "markdown",
   "metadata": {},
   "source": [
    "But we are missing our labels :("
   ]
  },
  {
   "cell_type": "markdown",
   "metadata": {},
   "source": [
    "Lets again change the index to the names"
   ]
  },
  {
   "cell_type": "code",
   "execution_count": null,
   "metadata": {
    "ExecuteTime": {
     "end_time": "2019-01-14T18:18:10.775132Z",
     "start_time": "2019-01-14T18:18:10.770346Z"
    }
   },
   "outputs": [],
   "source": [
    "friends_frame.index "
   ]
  },
  {
   "cell_type": "code",
   "execution_count": null,
   "metadata": {
    "ExecuteTime": {
     "end_time": "2019-01-14T18:18:16.326549Z",
     "start_time": "2019-01-14T18:18:16.321940Z"
    }
   },
   "outputs": [],
   "source": [
    "friends_frame.index = names"
   ]
  },
  {
   "cell_type": "code",
   "execution_count": null,
   "metadata": {
    "ExecuteTime": {
     "end_time": "2019-01-14T18:18:17.483520Z",
     "start_time": "2019-01-14T18:18:17.476129Z"
    }
   },
   "outputs": [],
   "source": [
    "friends_frame"
   ]
  },
  {
   "cell_type": "markdown",
   "metadata": {},
   "source": [
    "What about the columns names? We'd like them to read \"heights\" and \"weights\". How do we check the current column names?"
   ]
  },
  {
   "cell_type": "code",
   "execution_count": null,
   "metadata": {
    "ExecuteTime": {
     "end_time": "2019-01-14T18:18:56.434896Z",
     "start_time": "2019-01-14T18:18:56.429570Z"
    }
   },
   "outputs": [],
   "source": [
    "friends_frame.columns"
   ]
  },
  {
   "cell_type": "code",
   "execution_count": null,
   "metadata": {
    "ExecuteTime": {
     "end_time": "2019-01-14T18:19:10.242706Z",
     "start_time": "2019-01-14T18:19:10.239056Z"
    }
   },
   "outputs": [],
   "source": [
    "friends_frame.columns = ['Height','Weight']"
   ]
  },
  {
   "cell_type": "code",
   "execution_count": null,
   "metadata": {
    "ExecuteTime": {
     "end_time": "2019-01-14T18:19:12.791809Z",
     "start_time": "2019-01-14T18:19:12.784694Z"
    }
   },
   "outputs": [],
   "source": [
    "friends_frame"
   ]
  },
  {
   "cell_type": "code",
   "execution_count": null,
   "metadata": {
    "ExecuteTime": {
     "end_time": "2019-01-14T18:20:53.759732Z",
     "start_time": "2019-01-14T18:20:53.754601Z"
    }
   },
   "outputs": [],
   "source": [
    "friends_frame = pd.DataFrame(friends_matrix,index=names,columns=['Height','Weight'])"
   ]
  },
  {
   "cell_type": "code",
   "execution_count": null,
   "metadata": {
    "ExecuteTime": {
     "end_time": "2019-01-14T18:20:54.332238Z",
     "start_time": "2019-01-14T18:20:54.321728Z"
    }
   },
   "outputs": [],
   "source": [
    "friends_frame"
   ]
  },
  {
   "cell_type": "markdown",
   "metadata": {},
   "source": [
    "We also could have constructed the dataframe from a list of lists."
   ]
  },
  {
   "cell_type": "code",
   "execution_count": null,
   "metadata": {
    "ExecuteTime": {
     "end_time": "2019-01-14T02:31:23.847127Z",
     "start_time": "2019-01-14T02:31:23.838811Z"
    }
   },
   "outputs": [],
   "source": [
    "pd.DataFrame([heights,weights])"
   ]
  },
  {
   "cell_type": "code",
   "execution_count": null,
   "metadata": {
    "ExecuteTime": {
     "end_time": "2019-01-14T02:31:24.021299Z",
     "start_time": "2019-01-14T02:31:24.013155Z"
    }
   },
   "outputs": [],
   "source": [
    "pd.DataFrame([heights,weights]).T"
   ]
  },
  {
   "cell_type": "markdown",
   "metadata": {},
   "source": [
    "That's better."
   ]
  },
  {
   "cell_type": "code",
   "execution_count": null,
   "metadata": {
    "ExecuteTime": {
     "end_time": "2019-01-14T18:22:10.060559Z",
     "start_time": "2019-01-14T18:22:10.053233Z"
    }
   },
   "outputs": [],
   "source": [
    "friends_frame"
   ]
  },
  {
   "cell_type": "markdown",
   "metadata": {
    "ExecuteTime": {
     "end_time": "2019-01-14T01:58:27.692413Z",
     "start_time": "2019-01-14T01:58:27.679172Z"
    }
   },
   "source": [
    "# Note:\n",
    "The DataFrame does not need to all be of the same data type. Only each column must be of the same datatype. We'll see this soon."
   ]
  },
  {
   "cell_type": "markdown",
   "metadata": {},
   "source": [
    "# Indexing the DataFrame\n",
    "\n",
    "Indexing the dataframe is similar to indexing the Series.\n",
    "\n",
    "How would we get the information about Jason?"
   ]
  },
  {
   "cell_type": "code",
   "execution_count": null,
   "metadata": {
    "ExecuteTime": {
     "end_time": "2019-01-14T18:22:16.468807Z",
     "start_time": "2019-01-14T18:22:16.286076Z"
    }
   },
   "outputs": [],
   "source": [
    "friends_frame['Jason']\n",
    "#Doesn't work"
   ]
  },
  {
   "cell_type": "markdown",
   "metadata": {
    "ExecuteTime": {
     "end_time": "2019-01-14T01:55:15.509273Z",
     "start_time": "2019-01-14T01:55:15.504923Z"
    }
   },
   "source": [
    "We can only use this style of indexing to get use the column series's"
   ]
  },
  {
   "cell_type": "code",
   "execution_count": null,
   "metadata": {
    "ExecuteTime": {
     "end_time": "2019-01-14T18:22:28.714902Z",
     "start_time": "2019-01-14T18:22:28.709457Z"
    }
   },
   "outputs": [],
   "source": [
    "friends_frame['Height']"
   ]
  },
  {
   "cell_type": "code",
   "execution_count": null,
   "metadata": {
    "ExecuteTime": {
     "end_time": "2019-01-14T18:22:37.749084Z",
     "start_time": "2019-01-14T18:22:37.742617Z"
    }
   },
   "outputs": [],
   "source": [
    "#Another way\n",
    "friends_frame.Height"
   ]
  },
  {
   "cell_type": "markdown",
   "metadata": {},
   "source": [
    "Obviously this doesn't work if your column name has a space anywhere. Also doesn't work if column name as int/float/non string."
   ]
  },
  {
   "cell_type": "markdown",
   "metadata": {
    "ExecuteTime": {
     "end_time": "2019-01-14T01:56:47.266878Z",
     "start_time": "2019-01-14T01:56:47.262100Z"
    }
   },
   "source": [
    "How would we get information about Jason?"
   ]
  },
  {
   "cell_type": "code",
   "execution_count": null,
   "metadata": {
    "ExecuteTime": {
     "end_time": "2019-01-14T18:22:58.830249Z",
     "start_time": "2019-01-14T18:22:58.824383Z"
    }
   },
   "outputs": [],
   "source": [
    "friends_frame.loc['Jason']\n",
    "#returns a series"
   ]
  },
  {
   "cell_type": "markdown",
   "metadata": {},
   "source": [
    "How would we get Jason's height"
   ]
  },
  {
   "cell_type": "code",
   "execution_count": null,
   "metadata": {
    "ExecuteTime": {
     "end_time": "2019-01-14T18:23:47.114635Z",
     "start_time": "2019-01-14T18:23:47.106397Z"
    }
   },
   "outputs": [],
   "source": [
    "friends_frame.loc['Jason','Height']\n",
    "\n",
    "friends_frame"
   ]
  },
  {
   "cell_type": "markdown",
   "metadata": {},
   "source": [
    "Again, for numpy style indexing, use `iloc`"
   ]
  },
  {
   "cell_type": "code",
   "execution_count": null,
   "metadata": {
    "ExecuteTime": {
     "end_time": "2019-01-14T18:23:53.054107Z",
     "start_time": "2019-01-14T18:23:53.048591Z"
    }
   },
   "outputs": [],
   "source": [
    "friends_frame.iloc[0,0]"
   ]
  },
  {
   "cell_type": "markdown",
   "metadata": {},
   "source": [
    "### Mixed indexing. \n",
    "If you look up documentation you may see the use of `.ix` command for mixed style indexing (text indexing for one axis and numbered indexing for another). This will no longer be supported. Here are two ways to do mixed indexing."
   ]
  },
  {
   "cell_type": "code",
   "execution_count": null,
   "metadata": {
    "ExecuteTime": {
     "end_time": "2019-01-14T02:31:27.747446Z",
     "start_time": "2019-01-14T02:31:27.738801Z"
    }
   },
   "outputs": [],
   "source": [
    "#first select column by text then person by number\n",
    "friends_frame.Weight.iloc[3]"
   ]
  },
  {
   "cell_type": "code",
   "execution_count": null,
   "metadata": {
    "ExecuteTime": {
     "end_time": "2019-01-14T02:31:27.969406Z",
     "start_time": "2019-01-14T02:31:27.965185Z"
    }
   },
   "outputs": [],
   "source": [
    "#first select row by text then feature by number\n",
    "friends_frame.loc['Ethan'].iloc[0]"
   ]
  },
  {
   "cell_type": "markdown",
   "metadata": {},
   "source": [
    "## Exercise"
   ]
  },
  {
   "cell_type": "code",
   "execution_count": null,
   "metadata": {
    "ExecuteTime": {
     "end_time": "2019-01-14T02:31:28.442907Z",
     "start_time": "2019-01-14T02:31:28.440591Z"
    }
   },
   "outputs": [],
   "source": [
    "## Use 4 ways to select Fayzans height."
   ]
  },
  {
   "cell_type": "markdown",
   "metadata": {},
   "source": [
    "# Multiple Indexing: Slicing"
   ]
  },
  {
   "cell_type": "markdown",
   "metadata": {},
   "source": [
    "All of the indexing methods we have just talked about are compatible with slicing and logical indexing."
   ]
  },
  {
   "cell_type": "code",
   "execution_count": null,
   "metadata": {
    "ExecuteTime": {
     "end_time": "2019-01-14T18:24:32.848405Z",
     "start_time": "2019-01-14T18:24:32.840679Z"
    }
   },
   "outputs": [],
   "source": [
    "friends_frame"
   ]
  },
  {
   "cell_type": "code",
   "execution_count": null,
   "metadata": {
    "ExecuteTime": {
     "end_time": "2019-01-14T18:24:54.374970Z",
     "start_time": "2019-01-14T18:24:54.367440Z"
    }
   },
   "outputs": [],
   "source": [
    "friends_frame.iloc[0:2,0:]"
   ]
  },
  {
   "cell_type": "code",
   "execution_count": null,
   "metadata": {
    "ExecuteTime": {
     "end_time": "2019-01-14T18:25:19.994921Z",
     "start_time": "2019-01-14T18:25:19.987113Z"
    }
   },
   "outputs": [],
   "source": [
    "friends_frame.loc['Jason':'Alex','Height':'Weight']"
   ]
  },
  {
   "cell_type": "markdown",
   "metadata": {},
   "source": [
    "# Logical Indexing"
   ]
  },
  {
   "cell_type": "code",
   "execution_count": null,
   "metadata": {
    "ExecuteTime": {
     "end_time": "2019-01-14T18:26:47.674041Z",
     "start_time": "2019-01-14T18:26:47.665861Z"
    }
   },
   "outputs": [],
   "source": [
    "friends_frame.loc[friends_frame.Height>70]"
   ]
  },
  {
   "cell_type": "code",
   "execution_count": null,
   "metadata": {
    "ExecuteTime": {
     "end_time": "2019-01-14T02:31:30.087478Z",
     "start_time": "2019-01-14T02:31:30.079192Z"
    }
   },
   "outputs": [],
   "source": [
    "friends_frame[friends_frame.Height>70]"
   ]
  },
  {
   "cell_type": "code",
   "execution_count": null,
   "metadata": {
    "ExecuteTime": {
     "end_time": "2019-01-14T02:31:30.260662Z",
     "start_time": "2019-01-14T02:31:30.253899Z"
    }
   },
   "outputs": [],
   "source": [
    "friends_frame['Jason':'Fayzan']"
   ]
  },
  {
   "cell_type": "markdown",
   "metadata": {},
   "source": [
    "# An Odd Rule"
   ]
  },
  {
   "cell_type": "markdown",
   "metadata": {},
   "source": [
    "The brackets with no methods seem to have odd behavior.\n",
    "\n",
    "Here is the rule, when we are selecting one element, the brackets with no method choose columns.\n",
    "\n",
    "When we do logicial indexing or slicing, the brackets with no method select the rows.\n",
    "\n",
    "My advice, try to avoid the brackets with no method."
   ]
  },
  {
   "cell_type": "markdown",
   "metadata": {},
   "source": [
    "# A new tool for Logical Indexing"
   ]
  },
  {
   "cell_type": "markdown",
   "metadata": {
    "ExecuteTime": {
     "end_time": "2019-01-14T02:13:13.702240Z",
     "start_time": "2019-01-14T02:13:13.692021Z"
    }
   },
   "source": [
    "Up to now, we've done logical indexing based on the data. What if we want to select certain rows or columns based on the index themselves?"
   ]
  },
  {
   "cell_type": "code",
   "execution_count": null,
   "metadata": {
    "ExecuteTime": {
     "end_time": "2019-01-14T18:27:49.248672Z",
     "start_time": "2019-01-14T18:27:49.240686Z"
    }
   },
   "outputs": [],
   "source": [
    "friends_frame"
   ]
  },
  {
   "cell_type": "code",
   "execution_count": null,
   "metadata": {
    "ExecuteTime": {
     "end_time": "2019-01-14T18:28:14.863574Z",
     "start_time": "2019-01-14T18:28:14.859733Z"
    }
   },
   "outputs": [],
   "source": [
    "good_friends = ['Alex','Ethan','Fayzan']"
   ]
  },
  {
   "cell_type": "code",
   "execution_count": null,
   "metadata": {
    "ExecuteTime": {
     "end_time": "2019-01-14T18:28:19.798798Z",
     "start_time": "2019-01-14T18:28:19.793175Z"
    }
   },
   "outputs": [],
   "source": [
    "friends_frame.index"
   ]
  },
  {
   "cell_type": "markdown",
   "metadata": {},
   "source": [
    "We will talk now about the `.isin` method for indexes and series'"
   ]
  },
  {
   "cell_type": "code",
   "execution_count": null,
   "metadata": {
    "ExecuteTime": {
     "end_time": "2019-01-14T18:28:33.537845Z",
     "start_time": "2019-01-14T18:28:33.532113Z"
    }
   },
   "outputs": [],
   "source": [
    "friends_frame.index.isin(good_friends)\n",
    "#What did this do?"
   ]
  },
  {
   "cell_type": "code",
   "execution_count": null,
   "metadata": {
    "ExecuteTime": {
     "end_time": "2019-01-14T18:29:21.835878Z",
     "start_time": "2019-01-14T18:29:21.827626Z"
    }
   },
   "outputs": [],
   "source": [
    "friends_frame.loc[friends_frame.index.isin(good_friends)]"
   ]
  },
  {
   "cell_type": "code",
   "execution_count": null,
   "metadata": {
    "ExecuteTime": {
     "end_time": "2019-01-14T18:32:02.396056Z",
     "start_time": "2019-01-14T18:32:02.388632Z"
    }
   },
   "outputs": [],
   "source": [
    "#We can also this for columns\n",
    "friends_frame.loc[:,friends_frame.columns.isin(good_friends)]\n",
    "#Why was no data returned?"
   ]
  },
  {
   "cell_type": "markdown",
   "metadata": {},
   "source": [
    "The `isin` method is probably the most useful thing you can do but we'll talk about ways to do stuff like this later."
   ]
  },
  {
   "cell_type": "markdown",
   "metadata": {},
   "source": [
    "# Math in Pandas: Numpy Functions"
   ]
  },
  {
   "cell_type": "code",
   "execution_count": null,
   "metadata": {
    "ExecuteTime": {
     "end_time": "2019-01-14T18:33:12.726362Z",
     "start_time": "2019-01-14T18:33:12.717485Z"
    }
   },
   "outputs": [],
   "source": [
    "#check this out\n",
    "friends_frame\n",
    "np.sin(friends_frame)"
   ]
  },
  {
   "cell_type": "markdown",
   "metadata": {},
   "source": [
    "We can use any numpy math function and it will only work on the underlying data and preserve the indices!"
   ]
  },
  {
   "cell_type": "markdown",
   "metadata": {
    "ExecuteTime": {
     "end_time": "2019-01-14T02:19:40.676378Z",
     "start_time": "2019-01-14T02:19:40.671087Z"
    }
   },
   "source": [
    "# Summary Operators"
   ]
  },
  {
   "cell_type": "code",
   "execution_count": null,
   "metadata": {
    "ExecuteTime": {
     "end_time": "2019-01-14T18:33:55.458447Z",
     "start_time": "2019-01-14T18:33:55.452419Z"
    }
   },
   "outputs": [],
   "source": [
    "#Even without axis argument we get this\n",
    "friends_frame.mean()"
   ]
  },
  {
   "cell_type": "markdown",
   "metadata": {},
   "source": [
    "Pandas is simply doing what it thinks is the most useful for us."
   ]
  },
  {
   "cell_type": "code",
   "execution_count": null,
   "metadata": {
    "ExecuteTime": {
     "end_time": "2019-01-14T18:34:12.383260Z",
     "start_time": "2019-01-14T18:34:12.373625Z"
    }
   },
   "outputs": [],
   "source": [
    "#If we actually wanted to weight and height we could do\n",
    "friends_frame.mean(1)"
   ]
  },
  {
   "cell_type": "markdown",
   "metadata": {
    "ExecuteTime": {
     "end_time": "2019-01-14T02:22:09.254322Z",
     "start_time": "2019-01-14T02:22:09.234860Z"
    }
   },
   "source": [
    "# Adding Columns"
   ]
  },
  {
   "cell_type": "code",
   "execution_count": null,
   "metadata": {
    "ExecuteTime": {
     "end_time": "2019-01-14T18:35:10.003411Z",
     "start_time": "2019-01-14T18:35:09.981221Z"
    }
   },
   "outputs": [],
   "source": [
    "bmi = friends_frame.Weight/(friends_frame.Height**2)*703"
   ]
  },
  {
   "cell_type": "code",
   "execution_count": null,
   "metadata": {
    "ExecuteTime": {
     "end_time": "2019-01-14T18:35:14.094023Z",
     "start_time": "2019-01-14T18:35:14.089189Z"
    }
   },
   "outputs": [],
   "source": [
    "#Keeps indices\n",
    "bmi"
   ]
  },
  {
   "cell_type": "markdown",
   "metadata": {},
   "source": [
    "How would we add this to our dataframe? Easy"
   ]
  },
  {
   "cell_type": "code",
   "execution_count": null,
   "metadata": {
    "ExecuteTime": {
     "end_time": "2019-01-14T18:35:37.634546Z",
     "start_time": "2019-01-14T18:35:37.629831Z"
    }
   },
   "outputs": [],
   "source": [
    "friends_frame['BMI']=bmi"
   ]
  },
  {
   "cell_type": "code",
   "execution_count": null,
   "metadata": {
    "ExecuteTime": {
     "end_time": "2019-01-14T18:35:41.085248Z",
     "start_time": "2019-01-14T18:35:41.077215Z"
    }
   },
   "outputs": [],
   "source": [
    "friends_frame"
   ]
  },
  {
   "cell_type": "markdown",
   "metadata": {
    "ExecuteTime": {
     "end_time": "2019-01-14T02:31:48.200284Z",
     "start_time": "2019-01-14T02:31:48.193364Z"
    }
   },
   "source": [
    "# Getting rid of rows/columns"
   ]
  },
  {
   "cell_type": "code",
   "execution_count": null,
   "metadata": {
    "ExecuteTime": {
     "end_time": "2019-01-14T18:37:07.906643Z",
     "start_time": "2019-01-14T18:37:07.897747Z"
    }
   },
   "outputs": [],
   "source": [
    "#drop a row\n",
    "friends_frame.drop('Alex')"
   ]
  },
  {
   "cell_type": "code",
   "execution_count": null,
   "metadata": {
    "ExecuteTime": {
     "end_time": "2019-01-14T18:36:49.559308Z",
     "start_time": "2019-01-14T18:36:49.550866Z"
    }
   },
   "outputs": [],
   "source": [
    "#returns a copy\n",
    "friends_frame"
   ]
  },
  {
   "cell_type": "code",
   "execution_count": null,
   "metadata": {
    "ExecuteTime": {
     "end_time": "2019-01-14T02:33:22.449283Z",
     "start_time": "2019-01-14T02:33:22.440673Z"
    }
   },
   "outputs": [],
   "source": [
    "#to actually do it\n",
    "friends_frame = friends_frame.drop('Jason')"
   ]
  },
  {
   "cell_type": "code",
   "execution_count": null,
   "metadata": {
    "ExecuteTime": {
     "end_time": "2019-01-14T18:37:23.252542Z",
     "start_time": "2019-01-14T18:37:23.243147Z"
    }
   },
   "outputs": [],
   "source": [
    "#drop rows\n",
    "friends_frame.drop(['Jason','Ethan'])"
   ]
  },
  {
   "cell_type": "code",
   "execution_count": null,
   "metadata": {
    "ExecuteTime": {
     "end_time": "2019-01-14T18:37:41.248556Z",
     "start_time": "2019-01-14T18:37:41.239348Z"
    }
   },
   "outputs": [],
   "source": [
    "#drop columns, the axis argument\n",
    "friends_frame.drop('Weight',axis=1)"
   ]
  },
  {
   "cell_type": "markdown",
   "metadata": {
    "ExecuteTime": {
     "end_time": "2019-01-14T02:31:48.200284Z",
     "start_time": "2019-01-14T02:31:48.193364Z"
    }
   },
   "source": []
  },
  {
   "cell_type": "markdown",
   "metadata": {},
   "source": [
    "# Missing Data"
   ]
  },
  {
   "cell_type": "code",
   "execution_count": null,
   "metadata": {
    "ExecuteTime": {
     "end_time": "2019-01-14T18:39:52.749147Z",
     "start_time": "2019-01-14T18:39:52.741906Z"
    }
   },
   "outputs": [],
   "source": [
    "eye_color = pd.Series(['Brown','Brown','Blue'],index=['Jason','Fayzan','Ethan'])\n",
    "eye_color"
   ]
  },
  {
   "cell_type": "code",
   "execution_count": null,
   "metadata": {
    "ExecuteTime": {
     "end_time": "2019-01-14T18:40:33.916579Z",
     "start_time": "2019-01-14T18:40:33.911456Z"
    }
   },
   "outputs": [],
   "source": [
    "friends_frame['Eye_Color']=eye_color"
   ]
  },
  {
   "cell_type": "code",
   "execution_count": null,
   "metadata": {
    "ExecuteTime": {
     "end_time": "2019-01-14T18:40:36.572343Z",
     "start_time": "2019-01-14T18:40:36.559236Z"
    }
   },
   "outputs": [],
   "source": [
    "friends_frame"
   ]
  },
  {
   "cell_type": "code",
   "execution_count": null,
   "metadata": {
    "ExecuteTime": {
     "end_time": "2019-01-14T02:34:47.916990Z",
     "start_time": "2019-01-14T02:34:47.914462Z"
    }
   },
   "outputs": [],
   "source": [
    "#Notice the NaN in Alex's eye color. This is because we do not have the data there so pandas reserves a spot for it."
   ]
  },
  {
   "cell_type": "markdown",
   "metadata": {},
   "source": [
    "What do we do with missing data? If we knew his eye color we can just fill in that spot."
   ]
  },
  {
   "cell_type": "code",
   "execution_count": null,
   "metadata": {
    "ExecuteTime": {
     "end_time": "2019-01-14T18:42:21.771530Z",
     "start_time": "2019-01-14T18:42:21.761641Z"
    }
   },
   "outputs": [],
   "source": [
    "friends_frame.loc['Alex','Eye_Color']='Blue'\n",
    "friends_frame"
   ]
  },
  {
   "cell_type": "markdown",
   "metadata": {},
   "source": [
    "What if we didn't know the value? There are a few things we can do. It is very task dependent."
   ]
  },
  {
   "cell_type": "code",
   "execution_count": null,
   "metadata": {
    "ExecuteTime": {
     "end_time": "2019-01-14T18:43:05.438211Z",
     "start_time": "2019-01-14T18:43:05.422974Z"
    }
   },
   "outputs": [],
   "source": [
    "#lets say we didn't know Fayzans height for some reason\n",
    "#You will almost never do this\n",
    "friends_frame.loc['Fayzan','Height']=None\n",
    "friends_frame"
   ]
  },
  {
   "cell_type": "code",
   "execution_count": null,
   "metadata": {
    "ExecuteTime": {
     "end_time": "2019-01-14T18:45:18.609616Z",
     "start_time": "2019-01-14T18:45:18.598086Z"
    }
   },
   "outputs": [],
   "source": [
    "#Maybe we just want to get rid of the Fayzan row\n",
    "#makes a copy\n",
    "friends_frame.dropna()"
   ]
  },
  {
   "cell_type": "code",
   "execution_count": null,
   "metadata": {
    "ExecuteTime": {
     "end_time": "2019-01-14T18:45:32.375089Z",
     "start_time": "2019-01-14T18:45:32.364017Z"
    }
   },
   "outputs": [],
   "source": [
    "#Maybe we just want to drop the height column\n",
    "#makes a copy\n",
    "friends_frame.dropna(1)"
   ]
  },
  {
   "cell_type": "code",
   "execution_count": null,
   "metadata": {
    "ExecuteTime": {
     "end_time": "2019-01-14T18:46:35.434835Z",
     "start_time": "2019-01-14T18:46:35.423521Z"
    }
   },
   "outputs": [],
   "source": [
    "friends_frame.fillna(1)"
   ]
  },
  {
   "cell_type": "code",
   "execution_count": null,
   "metadata": {
    "ExecuteTime": {
     "end_time": "2019-01-14T18:47:19.038383Z",
     "start_time": "2019-01-14T18:47:19.027036Z"
    }
   },
   "outputs": [],
   "source": [
    "#You can broadcast a fillna call. This is a very common way to fill nans\n",
    "#lets say we also didnt know Jasons weight\n",
    "friends_frame.loc['Jason','Weight']=None\n",
    "friends_frame"
   ]
  },
  {
   "cell_type": "code",
   "execution_count": null,
   "metadata": {
    "ExecuteTime": {
     "end_time": "2019-01-14T18:47:51.832828Z",
     "start_time": "2019-01-14T18:47:51.817959Z"
    }
   },
   "outputs": [],
   "source": [
    "#Fill the nans with the mean of each column\n",
    "friends_frame.mean()"
   ]
  },
  {
   "cell_type": "code",
   "execution_count": null,
   "metadata": {
    "ExecuteTime": {
     "end_time": "2019-01-14T18:48:14.906938Z",
     "start_time": "2019-01-14T18:48:14.894176Z"
    }
   },
   "outputs": [],
   "source": [
    "friends_frame.fillna(friends_frame.mean())"
   ]
  },
  {
   "cell_type": "markdown",
   "metadata": {},
   "source": []
  },
  {
   "cell_type": "markdown",
   "metadata": {
    "ExecuteTime": {
     "end_time": "2019-01-14T02:41:03.926861Z",
     "start_time": "2019-01-14T02:41:03.913792Z"
    }
   },
   "source": [
    "Things ive done? \n",
    "\n",
    "Filled with 0s, filled with column means or row means. Used ML/other lin alg techniques to attempt to predict value. Dropped those rows/columns. In case of time series backed and front filled.\n"
   ]
  },
  {
   "cell_type": "markdown",
   "metadata": {},
   "source": [
    "# Detecting NaNs"
   ]
  },
  {
   "cell_type": "code",
   "execution_count": null,
   "metadata": {
    "ExecuteTime": {
     "end_time": "2019-01-14T18:50:42.803268Z",
     "start_time": "2019-01-14T18:50:42.792475Z"
    }
   },
   "outputs": [],
   "source": [
    "friends_frame.isnull()"
   ]
  },
  {
   "cell_type": "code",
   "execution_count": null,
   "metadata": {
    "ExecuteTime": {
     "end_time": "2019-01-14T18:51:26.793796Z",
     "start_time": "2019-01-14T18:51:26.787180Z"
    }
   },
   "outputs": [],
   "source": [
    "friends_frame.isnull().sum()"
   ]
  },
  {
   "cell_type": "markdown",
   "metadata": {
    "ExecuteTime": {
     "end_time": "2019-01-14T02:49:12.340958Z",
     "start_time": "2019-01-14T02:49:12.334778Z"
    }
   },
   "source": [
    "# Operations on Missing Data"
   ]
  },
  {
   "cell_type": "code",
   "execution_count": null,
   "metadata": {
    "ExecuteTime": {
     "end_time": "2019-01-14T18:51:35.341527Z",
     "start_time": "2019-01-14T18:51:35.335114Z"
    }
   },
   "outputs": [],
   "source": [
    "friends_frame.sum()\n",
    "#simply ignored"
   ]
  },
  {
   "cell_type": "code",
   "execution_count": null,
   "metadata": {
    "ExecuteTime": {
     "end_time": "2019-01-14T18:51:38.420052Z",
     "start_time": "2019-01-14T18:51:38.409252Z"
    }
   },
   "outputs": [],
   "source": [
    "friends_frame.mean()\n",
    "#ignored whens summing and dividing"
   ]
  },
  {
   "cell_type": "code",
   "execution_count": null,
   "metadata": {
    "ExecuteTime": {
     "end_time": "2019-01-14T18:51:41.740793Z",
     "start_time": "2019-01-14T18:51:41.730455Z"
    }
   },
   "outputs": [],
   "source": [
    "friends_frame"
   ]
  },
  {
   "cell_type": "code",
   "execution_count": null,
   "metadata": {},
   "outputs": [],
   "source": []
  }
 ],
 "metadata": {
  "kernelspec": {
   "display_name": "Python 3",
   "language": "python",
   "name": "python3"
  },
  "language_info": {
   "codemirror_mode": {
    "name": "ipython",
    "version": 3
   },
   "file_extension": ".py",
   "mimetype": "text/x-python",
   "name": "python",
   "nbconvert_exporter": "python",
   "pygments_lexer": "ipython3",
   "version": "3.7.1"
  },
  "varInspector": {
   "cols": {
    "lenName": 16,
    "lenType": 16,
    "lenVar": 40
   },
   "kernels_config": {
    "python": {
     "delete_cmd_postfix": "",
     "delete_cmd_prefix": "del ",
     "library": "var_list.py",
     "varRefreshCmd": "print(var_dic_list())"
    },
    "r": {
     "delete_cmd_postfix": ") ",
     "delete_cmd_prefix": "rm(",
     "library": "var_list.r",
     "varRefreshCmd": "cat(var_dic_list()) "
    }
   },
   "types_to_exclude": [
    "module",
    "function",
    "builtin_function_or_method",
    "instance",
    "_Feature"
   ],
   "window_display": false
  }
 },
 "nbformat": 4,
 "nbformat_minor": 2
}
