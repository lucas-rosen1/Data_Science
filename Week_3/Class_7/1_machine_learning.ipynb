{
 "cells": [
  {
   "cell_type": "markdown",
   "metadata": {},
   "source": [
    "# In this lecture we'll review some concepts of machine learning with examples\n",
    "# I will also give a rundown of sklearn"
   ]
  },
  {
   "cell_type": "code",
   "execution_count": null,
   "metadata": {
    "ExecuteTime": {
     "end_time": "2019-01-25T15:10:23.844386Z",
     "start_time": "2019-01-25T15:10:23.499272Z"
    }
   },
   "outputs": [],
   "source": [
    "#standard import\n",
    "import numpy as np\n",
    "import pandas as pd\n",
    "import matplotlib.pyplot as plt"
   ]
  },
  {
   "cell_type": "markdown",
   "metadata": {},
   "source": [
    "### You all should already have sklearn installed"
   ]
  },
  {
   "cell_type": "code",
   "execution_count": null,
   "metadata": {
    "ExecuteTime": {
     "end_time": "2019-01-25T15:11:21.961119Z",
     "start_time": "2019-01-25T15:11:21.905812Z"
    }
   },
   "outputs": [],
   "source": [
    "import sklearn\n",
    "#Let me know if this doesn't work"
   ]
  },
  {
   "cell_type": "markdown",
   "metadata": {},
   "source": [
    "# What is sklearn?\n",
    "\n",
    "In its most basic essence, sklearn is an over all package for machine learning."
   ]
  },
  {
   "cell_type": "markdown",
   "metadata": {},
   "source": [
    "# Features of sklearn\n",
    "* Load example datasets\n",
    "* Build, train, and test ML models\n",
    "    * Classification\n",
    "    * Regression\n",
    "    * Clustering\n",
    "* Preprocessing\n",
    "    * Could do all of this in Pandas but sklearn makes it easier\n",
    "* Dimensionality Reduction\n",
    "    * We may discuss this Friday\n",
    "* Model selection\n",
    "    * Won't have time to discuss\n",
    "    \n",
    "# When  you wouldn't use sklearn\n",
    "* Specialized ML\n",
    "    * Custom loss\n",
    "    * Active Learning\n",
    "        * Libact\n",
    "    * Semisupervised learning\n",
    "        * Other libraries\n",
    "    * Neural Networks beyond simple ones, and GPU support\n",
    "        * Tensorflow, Keras, Pytorch (my favorite)"
   ]
  },
  {
   "cell_type": "markdown",
   "metadata": {},
   "source": [
    "## Load example datasets\n",
    "Easy way to test out certain sklearn functions without having to look for a dataset yourself.\n",
    "\n",
    "In my own research in the CS department where we are build novel algorithms I use these to test.\n",
    "\n",
    "https://scikit-learn.org/stable/datasets/index.html#toy-datasets"
   ]
  },
  {
   "cell_type": "code",
   "execution_count": null,
   "metadata": {
    "ExecuteTime": {
     "end_time": "2019-01-25T15:19:01.987940Z",
     "start_time": "2019-01-25T15:19:01.814981Z"
    }
   },
   "outputs": [],
   "source": [
    "#Lets load the boston one\n",
    "from sklearn.datasets import load_boston"
   ]
  },
  {
   "cell_type": "code",
   "execution_count": null,
   "metadata": {
    "ExecuteTime": {
     "end_time": "2019-01-25T15:19:50.765524Z",
     "start_time": "2019-01-25T15:19:50.748128Z"
    }
   },
   "outputs": [],
   "source": [
    "dataset = load_boston()\n",
    "dataset"
   ]
  },
  {
   "cell_type": "code",
   "execution_count": null,
   "metadata": {
    "ExecuteTime": {
     "end_time": "2019-01-25T15:19:51.369258Z",
     "start_time": "2019-01-25T15:19:51.365468Z"
    }
   },
   "outputs": [],
   "source": [
    "X = dataset.data"
   ]
  },
  {
   "cell_type": "code",
   "execution_count": null,
   "metadata": {
    "ExecuteTime": {
     "end_time": "2019-01-25T15:19:52.406287Z",
     "start_time": "2019-01-25T15:19:52.401970Z"
    }
   },
   "outputs": [],
   "source": [
    "y = dataset.target"
   ]
  },
  {
   "cell_type": "code",
   "execution_count": null,
   "metadata": {
    "ExecuteTime": {
     "end_time": "2019-01-25T15:20:12.616853Z",
     "start_time": "2019-01-25T15:20:12.611467Z"
    }
   },
   "outputs": [],
   "source": [
    "dataset.feature_names"
   ]
  },
  {
   "cell_type": "code",
   "execution_count": null,
   "metadata": {
    "ExecuteTime": {
     "end_time": "2019-01-25T15:20:32.393412Z",
     "start_time": "2019-01-25T15:20:32.388744Z"
    }
   },
   "outputs": [],
   "source": [
    "X_frame = pd.DataFrame(X,columns=dataset.feature_names)"
   ]
  },
  {
   "cell_type": "code",
   "execution_count": null,
   "metadata": {
    "ExecuteTime": {
     "end_time": "2019-01-25T15:20:55.932309Z",
     "start_time": "2019-01-25T15:20:55.928420Z"
    }
   },
   "outputs": [],
   "source": [
    "y_ser = pd.Series(y,name='price')"
   ]
  },
  {
   "cell_type": "code",
   "execution_count": null,
   "metadata": {
    "ExecuteTime": {
     "end_time": "2019-01-25T15:23:06.443719Z",
     "start_time": "2019-01-25T15:23:06.353769Z"
    }
   },
   "outputs": [],
   "source": [
    "#Lets plot crime versus price\n",
    "plt.plot(X_frame.PTRATIO.values,y_ser.values,'o')"
   ]
  },
  {
   "cell_type": "markdown",
   "metadata": {
    "ExecuteTime": {
     "end_time": "2019-01-25T15:22:30.436839Z",
     "start_time": "2019-01-25T15:22:30.425242Z"
    }
   },
   "source": [
    "### We want to fit a line to this dataset that says if you're student teacher ratio is around here, then the house is worth around here. In practice, we will use all feature at once.\n",
    "\n",
    "### We cannot do this yet. We must talk about train/test."
   ]
  },
  {
   "cell_type": "markdown",
   "metadata": {},
   "source": [
    "# Train/Test Split.\n",
    "Who has heard of this concept in ML?\n",
    "\n",
    "How about the bias variance tradeoff?\n",
    "\n",
    "<img src=\"images/b_v.png\">"
   ]
  },
  {
   "cell_type": "markdown",
   "metadata": {},
   "source": [
    "For a very complicated model like a neural net we may fit too well to the quirks of the particular dataset but don't general well. Hence, we split our dataset into the training set that our model does see and the test set that it does not see during fitting. If performance is roughly the same then we are doing well. What do I mean by performance?"
   ]
  },
  {
   "cell_type": "markdown",
   "metadata": {
    "ExecuteTime": {
     "end_time": "2019-01-25T15:29:19.223040Z",
     "start_time": "2019-01-25T15:29:19.218733Z"
    }
   },
   "source": [
    "<img src=\"images/tt_split.png\">\n",
    "\n",
    "Its not much of a concern for linear regression but we'll do it anyway.\n",
    "\n",
    "# There is an sklearn function for it"
   ]
  },
  {
   "cell_type": "code",
   "execution_count": null,
   "metadata": {
    "ExecuteTime": {
     "end_time": "2019-01-25T15:31:07.465588Z",
     "start_time": "2019-01-25T15:31:07.461059Z"
    }
   },
   "outputs": [],
   "source": [
    "from sklearn.model_selection import train_test_split\n",
    "X_train, X_test, y_train, y_test = train_test_split(X,y)"
   ]
  },
  {
   "cell_type": "code",
   "execution_count": null,
   "metadata": {
    "ExecuteTime": {
     "end_time": "2019-01-25T15:31:16.557862Z",
     "start_time": "2019-01-25T15:31:16.553342Z"
    }
   },
   "outputs": [],
   "source": [
    "X_train.shape"
   ]
  },
  {
   "cell_type": "code",
   "execution_count": null,
   "metadata": {
    "ExecuteTime": {
     "end_time": "2019-01-25T15:31:20.959309Z",
     "start_time": "2019-01-25T15:31:20.956135Z"
    }
   },
   "outputs": [],
   "source": [
    "X_test.shape"
   ]
  },
  {
   "cell_type": "code",
   "execution_count": null,
   "metadata": {
    "ExecuteTime": {
     "end_time": "2019-01-25T15:31:23.214830Z",
     "start_time": "2019-01-25T15:31:23.206977Z"
    }
   },
   "outputs": [],
   "source": [
    "X.shape"
   ]
  },
  {
   "cell_type": "markdown",
   "metadata": {},
   "source": [
    "# Fitting our first sklearn model\n",
    "\n",
    "Find your model and import it. I know where linear regression is."
   ]
  },
  {
   "cell_type": "code",
   "execution_count": null,
   "metadata": {
    "ExecuteTime": {
     "end_time": "2019-01-25T15:32:03.240791Z",
     "start_time": "2019-01-25T15:32:03.233738Z"
    }
   },
   "outputs": [],
   "source": [
    "from sklearn.linear_model import LinearRegression"
   ]
  },
  {
   "cell_type": "code",
   "execution_count": null,
   "metadata": {
    "ExecuteTime": {
     "end_time": "2019-01-25T15:32:13.596388Z",
     "start_time": "2019-01-25T15:32:13.592183Z"
    }
   },
   "outputs": [],
   "source": [
    "#standard\n",
    "reg = LinearRegression()\n",
    "#reg for regressor"
   ]
  },
  {
   "cell_type": "code",
   "execution_count": null,
   "metadata": {
    "ExecuteTime": {
     "end_time": "2019-01-25T15:32:44.020771Z",
     "start_time": "2019-01-25T15:32:43.998653Z"
    }
   },
   "outputs": [],
   "source": [
    "# Fit the best fit line to the training data\n",
    "\n",
    "\n",
    "reg.fit(X_train,y_train)"
   ]
  },
  {
   "cell_type": "code",
   "execution_count": null,
   "metadata": {
    "ExecuteTime": {
     "end_time": "2019-01-25T15:33:27.908727Z",
     "start_time": "2019-01-25T15:33:27.902063Z"
    }
   },
   "outputs": [],
   "source": [
    "#Predict houses on test set\n",
    "preds = reg.predict(X_test)\n",
    "preds "
   ]
  },
  {
   "cell_type": "code",
   "execution_count": null,
   "metadata": {
    "ExecuteTime": {
     "end_time": "2019-01-25T15:33:16.188252Z",
     "start_time": "2019-01-25T15:33:16.182084Z"
    }
   },
   "outputs": [],
   "source": [
    "#what is the average square error?\n",
    "y_test"
   ]
  },
  {
   "cell_type": "code",
   "execution_count": null,
   "metadata": {
    "ExecuteTime": {
     "end_time": "2019-01-25T15:33:34.286069Z",
     "start_time": "2019-01-25T15:33:34.279230Z"
    }
   },
   "outputs": [],
   "source": [
    "preds - y_test"
   ]
  },
  {
   "cell_type": "code",
   "execution_count": null,
   "metadata": {
    "ExecuteTime": {
     "end_time": "2019-01-25T15:33:50.583751Z",
     "start_time": "2019-01-25T15:33:50.578309Z"
    }
   },
   "outputs": [],
   "source": [
    "((preds - y_test)**2).mean()"
   ]
  },
  {
   "cell_type": "code",
   "execution_count": null,
   "metadata": {
    "ExecuteTime": {
     "end_time": "2019-01-25T15:39:20.390875Z",
     "start_time": "2019-01-25T15:39:20.381860Z"
    }
   },
   "outputs": [],
   "source": [
    "#Another way that is more interpretable \n",
    "reg.score(X_test,y_test)\n",
    "#Returns R^2 score, closer to 1 is better fit, closer to 0 is worse fit"
   ]
  },
  {
   "cell_type": "code",
   "execution_count": null,
   "metadata": {
    "ExecuteTime": {
     "end_time": "2019-01-25T15:39:18.202750Z",
     "start_time": "2019-01-25T15:39:18.196590Z"
    }
   },
   "outputs": [],
   "source": [
    "#make sure we aren't overfitting, see if r^2 similar for train\n",
    "reg.score(X_train,y_train)\n"
   ]
  },
  {
   "cell_type": "markdown",
   "metadata": {
    "ExecuteTime": {
     "end_time": "2019-01-25T15:35:01.105913Z",
     "start_time": "2019-01-25T15:35:01.100813Z"
    }
   },
   "source": [
    "# What features were important?"
   ]
  },
  {
   "cell_type": "code",
   "execution_count": null,
   "metadata": {
    "ExecuteTime": {
     "end_time": "2019-01-25T15:36:36.292249Z",
     "start_time": "2019-01-25T15:36:36.286946Z"
    }
   },
   "outputs": [],
   "source": [
    "clf.coef_"
   ]
  },
  {
   "cell_type": "code",
   "execution_count": null,
   "metadata": {
    "ExecuteTime": {
     "end_time": "2019-01-25T15:37:53.959386Z",
     "start_time": "2019-01-25T15:37:53.952803Z"
    }
   },
   "outputs": [],
   "source": [
    "pd.Series(clf.coef_,index = dataset.feature_names)"
   ]
  },
  {
   "cell_type": "code",
   "execution_count": null,
   "metadata": {
    "ExecuteTime": {
     "end_time": "2019-01-25T15:37:43.656500Z",
     "start_time": "2019-01-25T15:37:43.650903Z"
    }
   },
   "outputs": [],
   "source": [
    "dataset.DESCR"
   ]
  },
  {
   "cell_type": "markdown",
   "metadata": {
    "ExecuteTime": {
     "end_time": "2019-01-25T15:37:43.656500Z",
     "start_time": "2019-01-25T15:37:43.650903Z"
    }
   },
   "source": [
    "### Analysis of this type can only be done on linear models\n",
    "* Linear and Logistic Regression"
   ]
  },
  {
   "cell_type": "markdown",
   "metadata": {},
   "source": [
    "# Classification with logistic regression\n",
    "\n",
    "You should all be familiar with logistic regression. We've seen it for binary classification. What does this mean?\n",
    "\n",
    "Now we will see it can generalize to more classes."
   ]
  },
  {
   "cell_type": "code",
   "execution_count": null,
   "metadata": {
    "ExecuteTime": {
     "end_time": "2019-01-25T15:46:44.303949Z",
     "start_time": "2019-01-25T15:46:44.299724Z"
    }
   },
   "outputs": [],
   "source": [
    "from sklearn.linear_model import LogisticRegression\n",
    "\n",
    "#Why is logistic regression linear?\n",
    "\n",
    "clf = LogisticRegression()\n",
    "#clf for classifier"
   ]
  },
  {
   "cell_type": "markdown",
   "metadata": {},
   "source": [
    "### A new dataset\n",
    "https://en.wikipedia.org/wiki/MNIST_database"
   ]
  },
  {
   "cell_type": "code",
   "execution_count": null,
   "metadata": {
    "ExecuteTime": {
     "end_time": "2019-01-25T15:41:46.353292Z",
     "start_time": "2019-01-25T15:41:46.349048Z"
    }
   },
   "outputs": [],
   "source": [
    "from sklearn.datasets import load_digits"
   ]
  },
  {
   "cell_type": "code",
   "execution_count": null,
   "metadata": {
    "ExecuteTime": {
     "end_time": "2019-01-25T15:41:56.456516Z",
     "start_time": "2019-01-25T15:41:56.347785Z"
    }
   },
   "outputs": [],
   "source": [
    "dataset = load_digits()"
   ]
  },
  {
   "cell_type": "code",
   "execution_count": null,
   "metadata": {
    "ExecuteTime": {
     "end_time": "2019-01-25T15:43:21.629967Z",
     "start_time": "2019-01-25T15:43:21.625894Z"
    }
   },
   "outputs": [],
   "source": [
    "X = dataset.data\n",
    "#pixels"
   ]
  },
  {
   "cell_type": "code",
   "execution_count": null,
   "metadata": {
    "ExecuteTime": {
     "end_time": "2019-01-25T15:43:41.063742Z",
     "start_time": "2019-01-25T15:43:41.060159Z"
    }
   },
   "outputs": [],
   "source": [
    "y = dataset.target\n",
    "#what the number represents, may seem quantative, but it's qualitative"
   ]
  },
  {
   "cell_type": "code",
   "execution_count": null,
   "metadata": {
    "ExecuteTime": {
     "end_time": "2019-01-25T15:44:31.643622Z",
     "start_time": "2019-01-25T15:44:31.636939Z"
    }
   },
   "outputs": [],
   "source": [
    "X_train, X_test, y_train, y_test = train_test_split(X,y,stratify=y)\n",
    "#What does stratify do?\n",
    "#makes sure roughly same proportion of each class in train and test"
   ]
  },
  {
   "cell_type": "code",
   "execution_count": null,
   "metadata": {
    "ExecuteTime": {
     "end_time": "2019-01-25T15:45:38.648907Z",
     "start_time": "2019-01-25T15:45:38.642214Z"
    }
   },
   "outputs": [],
   "source": [
    "pd.Series(y_train).value_counts(True,False)"
   ]
  },
  {
   "cell_type": "code",
   "execution_count": null,
   "metadata": {
    "ExecuteTime": {
     "end_time": "2019-01-25T15:45:42.442127Z",
     "start_time": "2019-01-25T15:45:42.435627Z"
    }
   },
   "outputs": [],
   "source": [
    "pd.Series(y_test).value_counts(True,False)"
   ]
  },
  {
   "cell_type": "code",
   "execution_count": null,
   "metadata": {
    "ExecuteTime": {
     "end_time": "2019-01-25T15:47:05.342021Z",
     "start_time": "2019-01-25T15:47:05.238440Z"
    }
   },
   "outputs": [],
   "source": [
    "#fit on training data\n",
    "clf.fit(X_train,y_train)"
   ]
  },
  {
   "cell_type": "code",
   "execution_count": null,
   "metadata": {
    "ExecuteTime": {
     "end_time": "2019-01-25T15:48:30.492422Z",
     "start_time": "2019-01-25T15:48:30.485990Z"
    }
   },
   "outputs": [],
   "source": [
    "#predict test\n",
    "preds = clf.predict(X_test)\n",
    "preds"
   ]
  },
  {
   "cell_type": "code",
   "execution_count": null,
   "metadata": {
    "ExecuteTime": {
     "end_time": "2019-01-25T15:47:55.023662Z",
     "start_time": "2019-01-25T15:47:55.016902Z"
    }
   },
   "outputs": [],
   "source": [
    "#we can also predict probabilities for each class\n",
    "probs = clf.predict_proba(X_test)\n",
    "probs"
   ]
  },
  {
   "cell_type": "code",
   "execution_count": null,
   "metadata": {
    "ExecuteTime": {
     "end_time": "2019-01-25T15:48:02.616806Z",
     "start_time": "2019-01-25T15:48:02.570425Z"
    }
   },
   "outputs": [],
   "source": [
    "pd.DataFrame(probs)\n",
    "#just chooses largest in each row as prediction"
   ]
  },
  {
   "cell_type": "code",
   "execution_count": null,
   "metadata": {
    "ExecuteTime": {
     "end_time": "2019-01-25T15:49:10.751143Z",
     "start_time": "2019-01-25T15:49:10.747199Z"
    }
   },
   "outputs": [],
   "source": [
    "#measure performance\n",
    "(preds == y_test).mean()"
   ]
  },
  {
   "cell_type": "code",
   "execution_count": null,
   "metadata": {
    "ExecuteTime": {
     "end_time": "2019-01-25T15:49:21.879542Z",
     "start_time": "2019-01-25T15:49:21.875048Z"
    }
   },
   "outputs": [],
   "source": [
    "#Exact the same thing\n",
    "clf.score(X_test,y_test)"
   ]
  },
  {
   "cell_type": "code",
   "execution_count": null,
   "metadata": {
    "ExecuteTime": {
     "end_time": "2019-01-25T15:51:09.263291Z",
     "start_time": "2019-01-25T15:51:09.257949Z"
    }
   },
   "outputs": [],
   "source": [
    "#See if overfit\n",
    "clf.score(X_train,y_train)\n",
    "\n",
    "#We are in fact overfitting a bit. How to not overfit?\n",
    "#https://scikit-learn.org/stable/modules/generated/sklearn.linear_model.LogisticRegression.html\n",
    "#look into the 'C' parameters. More regularization means less complicated fit"
   ]
  },
  {
   "cell_type": "markdown",
   "metadata": {},
   "source": [
    "# Next: Clustering and Kmeans"
   ]
  },
  {
   "cell_type": "code",
   "execution_count": null,
   "metadata": {},
   "outputs": [],
   "source": []
  }
 ],
 "metadata": {
  "kernelspec": {
   "display_name": "Python 3",
   "language": "python",
   "name": "python3"
  },
  "language_info": {
   "codemirror_mode": {
    "name": "ipython",
    "version": 3
   },
   "file_extension": ".py",
   "mimetype": "text/x-python",
   "name": "python",
   "nbconvert_exporter": "python",
   "pygments_lexer": "ipython3",
   "version": "3.7.1"
  },
  "varInspector": {
   "cols": {
    "lenName": 16,
    "lenType": 16,
    "lenVar": 40
   },
   "kernels_config": {
    "python": {
     "delete_cmd_postfix": "",
     "delete_cmd_prefix": "del ",
     "library": "var_list.py",
     "varRefreshCmd": "print(var_dic_list())"
    },
    "r": {
     "delete_cmd_postfix": ") ",
     "delete_cmd_prefix": "rm(",
     "library": "var_list.r",
     "varRefreshCmd": "cat(var_dic_list()) "
    }
   },
   "types_to_exclude": [
    "module",
    "function",
    "builtin_function_or_method",
    "instance",
    "_Feature"
   ],
   "window_display": false
  }
 },
 "nbformat": 4,
 "nbformat_minor": 2
}
