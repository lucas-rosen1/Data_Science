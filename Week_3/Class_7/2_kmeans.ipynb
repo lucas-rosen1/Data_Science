{
 "cells": [
  {
   "cell_type": "markdown",
   "metadata": {},
   "source": [
    "# In this lecture I'll show kmeans on a simple dataset"
   ]
  },
  {
   "cell_type": "code",
   "execution_count": null,
   "metadata": {
    "ExecuteTime": {
     "end_time": "2019-01-25T15:52:47.826247Z",
     "start_time": "2019-01-25T15:52:47.648326Z"
    }
   },
   "outputs": [],
   "source": [
    "import numpy as np\n",
    "import matplotlib.pyplot as plt"
   ]
  },
  {
   "cell_type": "code",
   "execution_count": null,
   "metadata": {
    "ExecuteTime": {
     "end_time": "2019-01-25T16:02:48.718814Z",
     "start_time": "2019-01-25T16:02:48.713082Z"
    }
   },
   "outputs": [],
   "source": [
    "#Make 4 clusters\n",
    "set1 = np.random.randn(100,2)\n",
    "set1 += 4\n",
    "set2 = np.random.randn(100,2)\n",
    "set2 += [4,-4]\n",
    "set3 = np.random.randn(100,2)\n",
    "set3 += [-4,-4]\n",
    "set4 = np.random.randn(100,2)\n",
    "set4 += [-4,4]\n",
    "X = np.concatenate([set1,set2,set3,set4])"
   ]
  },
  {
   "cell_type": "code",
   "execution_count": null,
   "metadata": {
    "ExecuteTime": {
     "end_time": "2019-01-25T16:03:04.972012Z",
     "start_time": "2019-01-25T16:03:04.865088Z"
    }
   },
   "outputs": [],
   "source": [
    "#Pretend we didn't know these points came from different sets\n",
    "plt.scatter(X[:,0],X[:,1])\n"
   ]
  },
  {
   "cell_type": "code",
   "execution_count": null,
   "metadata": {
    "ExecuteTime": {
     "end_time": "2019-01-25T15:59:07.122510Z",
     "start_time": "2019-01-25T15:59:07.011709Z"
    }
   },
   "outputs": [],
   "source": [
    "#We want to get this\n",
    "plt.scatter(set1[:,0],set1[:,1])\n",
    "plt.scatter(set2[:,0],set2[:,1])\n",
    "plt.scatter(set3[:,0],set3[:,1])\n",
    "plt.scatter(set4[:,0],set4[:,1])"
   ]
  },
  {
   "cell_type": "markdown",
   "metadata": {
    "ExecuteTime": {
     "end_time": "2019-01-25T15:58:48.561722Z",
     "start_time": "2019-01-25T15:58:48.451900Z"
    }
   },
   "source": [
    "# This is a clustering task. I will show the simplest clustering algorithm, kmeans."
   ]
  },
  {
   "cell_type": "markdown",
   "metadata": {},
   "source": [
    "<img src=\"images/Kmeans.gif\">"
   ]
  },
  {
   "cell_type": "markdown",
   "metadata": {},
   "source": [
    "# How to do this in sklearn?"
   ]
  },
  {
   "cell_type": "code",
   "execution_count": null,
   "metadata": {
    "ExecuteTime": {
     "end_time": "2019-01-25T16:01:20.196134Z",
     "start_time": "2019-01-25T16:01:20.191866Z"
    }
   },
   "outputs": [],
   "source": [
    "from sklearn.cluster import KMeans"
   ]
  },
  {
   "cell_type": "code",
   "execution_count": null,
   "metadata": {
    "ExecuteTime": {
     "end_time": "2019-01-25T16:03:25.082646Z",
     "start_time": "2019-01-25T16:03:25.080114Z"
    }
   },
   "outputs": [],
   "source": [
    "#Need to tell it number of clusters. Will talk about how to infer this.\n",
    "kmeans = KMeans(n_clusters=4)"
   ]
  },
  {
   "cell_type": "markdown",
   "metadata": {},
   "source": [
    "### We don't really talk about train test split for clustering as there is no right answer"
   ]
  },
  {
   "cell_type": "code",
   "execution_count": null,
   "metadata": {
    "ExecuteTime": {
     "end_time": "2019-01-25T16:03:25.744806Z",
     "start_time": "2019-01-25T16:03:25.722642Z"
    }
   },
   "outputs": [],
   "source": [
    "kmeans.fit(X)"
   ]
  },
  {
   "cell_type": "code",
   "execution_count": null,
   "metadata": {
    "ExecuteTime": {
     "end_time": "2019-01-25T16:04:15.036558Z",
     "start_time": "2019-01-25T16:04:15.031567Z"
    }
   },
   "outputs": [],
   "source": [
    "preds = kmeans.predict(X)\n",
    "preds\n",
    "#there is no logic as to why cluster 3 is called '3' instead of 2 for example"
   ]
  },
  {
   "cell_type": "code",
   "execution_count": null,
   "metadata": {
    "ExecuteTime": {
     "end_time": "2019-01-25T16:05:35.810273Z",
     "start_time": "2019-01-25T16:05:35.805863Z"
    }
   },
   "outputs": [],
   "source": [
    "#How did it do?\n",
    "pred0 = X[preds==0]\n",
    "pred1 = X[preds==1]\n",
    "pred2 = X[preds==2]\n",
    "pred3 = X[preds==3]\n"
   ]
  },
  {
   "cell_type": "code",
   "execution_count": null,
   "metadata": {
    "ExecuteTime": {
     "end_time": "2019-01-25T16:06:24.757897Z",
     "start_time": "2019-01-25T16:06:24.637798Z"
    }
   },
   "outputs": [],
   "source": [
    "plt.scatter(pred0[:,0],pred0[:,1])\n",
    "plt.scatter(pred1[:,0],pred1[:,1])\n",
    "plt.scatter(pred2[:,0],pred2[:,1])\n",
    "plt.scatter(pred3[:,0],pred3[:,1])"
   ]
  },
  {
   "cell_type": "code",
   "execution_count": null,
   "metadata": {
    "ExecuteTime": {
     "end_time": "2019-01-25T16:07:37.855002Z",
     "start_time": "2019-01-25T16:07:37.851418Z"
    }
   },
   "outputs": [],
   "source": [
    "#In real life we don't have labels for clustering so not worth it to try to measure performance\n",
    "\n"
   ]
  },
  {
   "cell_type": "markdown",
   "metadata": {},
   "source": [
    "# Kmeans, pros and cons\n",
    "<img src=\"images/pros.png\">"
   ]
  },
  {
   "cell_type": "markdown",
   "metadata": {},
   "source": [
    "# How to infer number of clusters?"
   ]
  },
  {
   "cell_type": "markdown",
   "metadata": {
    "ExecuteTime": {
     "end_time": "2019-01-25T16:08:51.382096Z",
     "start_time": "2019-01-25T16:08:51.377402Z"
    }
   },
   "source": [
    "<img src=\"images/ElbowRule.png\">"
   ]
  },
  {
   "cell_type": "markdown",
   "metadata": {},
   "source": [
    "Distortion measures how far from cluster center points are on average. We want to see where we get diminishing returns. As number clusters goes up of course distortion goes down. Why? Think of when number clusters is same as number of data points."
   ]
  },
  {
   "cell_type": "code",
   "execution_count": null,
   "metadata": {
    "ExecuteTime": {
     "end_time": "2019-01-25T16:10:28.304239Z",
     "start_time": "2019-01-25T16:10:28.107486Z"
    }
   },
   "outputs": [],
   "source": [
    "scores = []\n",
    "for i in range(1,10):\n",
    "    kmeans = KMeans(n_clusters=i)\n",
    "    kmeans.fit(X)\n",
    "    score = -kmeans.score(X)\n",
    "    scores.append(score)"
   ]
  },
  {
   "cell_type": "code",
   "execution_count": null,
   "metadata": {
    "ExecuteTime": {
     "end_time": "2019-01-25T16:10:46.185771Z",
     "start_time": "2019-01-25T16:10:46.075024Z"
    }
   },
   "outputs": [],
   "source": [
    "plt.plot(np.arange(1,10),scores)"
   ]
  },
  {
   "cell_type": "code",
   "execution_count": null,
   "metadata": {
    "ExecuteTime": {
     "end_time": "2019-01-25T16:11:01.921888Z",
     "start_time": "2019-01-25T16:11:01.919422Z"
    }
   },
   "outputs": [],
   "source": [
    "#4 clusters is best for this task\n"
   ]
  },
  {
   "cell_type": "markdown",
   "metadata": {},
   "source": [
    "If we want to automate, we can look at differences. Play around with this yourself. If you want."
   ]
  },
  {
   "cell_type": "code",
   "execution_count": null,
   "metadata": {},
   "outputs": [],
   "source": []
  }
 ],
 "metadata": {
  "kernelspec": {
   "display_name": "Python 3",
   "language": "python",
   "name": "python3"
  },
  "language_info": {
   "codemirror_mode": {
    "name": "ipython",
    "version": 3
   },
   "file_extension": ".py",
   "mimetype": "text/x-python",
   "name": "python",
   "nbconvert_exporter": "python",
   "pygments_lexer": "ipython3",
   "version": "3.7.1"
  },
  "varInspector": {
   "cols": {
    "lenName": 16,
    "lenType": 16,
    "lenVar": 40
   },
   "kernels_config": {
    "python": {
     "delete_cmd_postfix": "",
     "delete_cmd_prefix": "del ",
     "library": "var_list.py",
     "varRefreshCmd": "print(var_dic_list())"
    },
    "r": {
     "delete_cmd_postfix": ") ",
     "delete_cmd_prefix": "rm(",
     "library": "var_list.r",
     "varRefreshCmd": "cat(var_dic_list()) "
    }
   },
   "types_to_exclude": [
    "module",
    "function",
    "builtin_function_or_method",
    "instance",
    "_Feature"
   ],
   "window_display": false
  }
 },
 "nbformat": 4,
 "nbformat_minor": 2
}
