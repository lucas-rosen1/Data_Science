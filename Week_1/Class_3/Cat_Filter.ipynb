{
 "cells": [
  {
   "cell_type": "markdown",
   "metadata": {
    "ExecuteTime": {
     "end_time": "2019-01-11T19:54:04.108508Z",
     "start_time": "2019-01-11T19:54:04.093870Z"
    }
   },
   "source": [
    "# This was to demonstrate an easy to see use of broadcasting."
   ]
  },
  {
   "cell_type": "code",
   "execution_count": null,
   "metadata": {
    "ExecuteTime": {
     "end_time": "2019-01-11T19:54:04.108508Z",
     "start_time": "2019-01-11T19:54:04.093870Z"
    }
   },
   "outputs": [],
   "source": [
    "#use: conda install -c anaconda pillow \n",
    "import PIL.Image\n",
    "import numpy as np\n",
    "import matplotlib.pyplot as plt\n",
    "I = np.asarray(PIL.Image.open('cat.jpeg'))"
   ]
  },
  {
   "cell_type": "code",
   "execution_count": null,
   "metadata": {
    "ExecuteTime": {
     "end_time": "2019-01-11T19:54:05.356107Z",
     "start_time": "2019-01-11T19:54:05.257101Z"
    }
   },
   "outputs": [],
   "source": [
    "plt.imshow(I)"
   ]
  },
  {
   "cell_type": "code",
   "execution_count": null,
   "metadata": {
    "ExecuteTime": {
     "end_time": "2019-01-11T19:56:38.138045Z",
     "start_time": "2019-01-11T19:56:38.020649Z"
    }
   },
   "outputs": [],
   "source": [
    "plt.imshow(I.mean(2).astype(int),cmap='Greys')"
   ]
  },
  {
   "cell_type": "code",
   "execution_count": null,
   "metadata": {
    "ExecuteTime": {
     "end_time": "2019-01-11T19:37:30.043597Z",
     "start_time": "2019-01-11T19:37:30.036434Z"
    }
   },
   "outputs": [],
   "source": [
    "I.shape"
   ]
  },
  {
   "cell_type": "code",
   "execution_count": null,
   "metadata": {
    "ExecuteTime": {
     "end_time": "2019-01-11T19:57:14.309141Z",
     "start_time": "2019-01-11T19:57:14.304061Z"
    }
   },
   "outputs": [],
   "source": [
    "bright = np.array([.3,.59,.11])"
   ]
  },
  {
   "cell_type": "code",
   "execution_count": null,
   "metadata": {
    "ExecuteTime": {
     "end_time": "2019-01-11T19:57:14.908040Z",
     "start_time": "2019-01-11T19:57:14.900632Z"
    }
   },
   "outputs": [],
   "source": [
    "bright[None,None].shape"
   ]
  },
  {
   "cell_type": "code",
   "execution_count": null,
   "metadata": {
    "ExecuteTime": {
     "end_time": "2019-01-11T19:57:25.668986Z",
     "start_time": "2019-01-11T19:57:25.560692Z"
    }
   },
   "outputs": [],
   "source": [
    "plt.imshow((bright[None,None]*I).astype(int),cmap='Greys')"
   ]
  },
  {
   "cell_type": "code",
   "execution_count": null,
   "metadata": {},
   "outputs": [],
   "source": []
  }
 ],
 "metadata": {
  "kernelspec": {
   "display_name": "Python [conda env:trews]",
   "language": "python",
   "name": "conda-env-trews-py"
  },
  "language_info": {
   "codemirror_mode": {
    "name": "ipython",
    "version": 3
   },
   "file_extension": ".py",
   "mimetype": "text/x-python",
   "name": "python",
   "nbconvert_exporter": "python",
   "pygments_lexer": "ipython3",
   "version": "3.7.0"
  },
  "varInspector": {
   "cols": {
    "lenName": 16,
    "lenType": 16,
    "lenVar": 40
   },
   "kernels_config": {
    "python": {
     "delete_cmd_postfix": "",
     "delete_cmd_prefix": "del ",
     "library": "var_list.py",
     "varRefreshCmd": "print(var_dic_list())"
    },
    "r": {
     "delete_cmd_postfix": ") ",
     "delete_cmd_prefix": "rm(",
     "library": "var_list.r",
     "varRefreshCmd": "cat(var_dic_list()) "
    }
   },
   "types_to_exclude": [
    "module",
    "function",
    "builtin_function_or_method",
    "instance",
    "_Feature"
   ],
   "window_display": false
  }
 },
 "nbformat": 4,
 "nbformat_minor": 2
}
