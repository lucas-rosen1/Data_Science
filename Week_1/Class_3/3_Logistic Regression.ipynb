{
 "cells": [
  {
   "cell_type": "markdown",
   "metadata": {},
   "source": [
    "## Note to students: This is for future instructors of this course."
   ]
  },
  {
   "cell_type": "markdown",
   "metadata": {
    "heading_collapsed": true
   },
   "source": [
    "# Intro of ML\n",
    "* I covered slides 1-6\n",
    "    * Began with a discussion of supervised vs unsupervised learning then classification versus regression before slide 2"
   ]
  },
  {
   "cell_type": "markdown",
   "metadata": {},
   "source": [
    "# Why Logistic Regression may be useful\n",
    "* I picked back up again on slide 29-30\n",
    "    * I first discussed linear regression which all students should be familar with to motivate dot products\n",
    "    * Then discussed why it wouldn't work for classification\n",
    "    * Then talk about sigmoid function and why that makes more sense for classification\n",
    "    \n",
    "    "
   ]
  },
  {
   "cell_type": "markdown",
   "metadata": {},
   "source": [
    "* Then jump to slide 36 which shows a really good example for this\n",
    "\n",
    "\n",
    "# What is a model?\n",
    "* Then a discussion on what a model is and why using this sigmoid is an example of a model\n",
    "* The idea of using sigmoid as a model is that our assumption is that:\n",
    "    * If we knew the perfect fit then these are the exact probabilities\n",
    "    * This model may (will) be wrong but all models are wrong, and some are useful. Logistic regression is useful in many cases\n",
    "    \n",
    "* Then show slide 35 which illustrates this\n",
    "* Then show slides 33 and 34 as an example\n",
    "\n",
    "* Show slide 38 as another illustration of whats going on\n",
    "* Slide 39 interesting too"
   ]
  },
  {
   "cell_type": "markdown",
   "metadata": {},
   "source": [
    "# How do we fit our model? (How to know how well we're doing)\n",
    "\n",
    "* We start with some initial guess for theta\n",
    "* Then we need some function that tells us how well we're doing\n",
    "    * Brainstorm so functions\n",
    "        * Mean absolute error\n",
    "        * Mean square error\n",
    "* Look at slide 40\n",
    "    * Even though the slideshow says log likelihood we don't need to think of cross entropy loss this way\n",
    "    * Think of it as a really good way to tell how we're doing\n",
    "    * Mention that it is log likelihood for those who understand\n",
    "    * Give some intuition as to what cross entropy does\n",
    "* Our task is then to decrease loss (by making our fit better)"
   ]
  },
  {
   "cell_type": "markdown",
   "metadata": {},
   "source": [
    "# How to decrease loss?\n",
    "* Slides 41 - 43"
   ]
  },
  {
   "cell_type": "markdown",
   "metadata": {},
   "source": [
    "# A complete algorithm\n",
    "* Slides 44 to 48"
   ]
  },
  {
   "cell_type": "markdown",
   "metadata": {},
   "source": [
    "# Addendum on Intercept\n",
    "* Slide 49"
   ]
  },
  {
   "cell_type": "markdown",
   "metadata": {},
   "source": [
    "# Philosophy\n",
    "* Slides 60-62\n",
    "* Slides 65-66"
   ]
  }
 ],
 "metadata": {
  "kernelspec": {
   "display_name": "Python [conda env:anaconda3]",
   "language": "python",
   "name": "conda-env-anaconda3-py"
  },
  "language_info": {
   "codemirror_mode": {
    "name": "ipython",
    "version": 3
   },
   "file_extension": ".py",
   "mimetype": "text/x-python",
   "name": "python",
   "nbconvert_exporter": "python",
   "pygments_lexer": "ipython3",
   "version": "3.7.0"
  },
  "varInspector": {
   "cols": {
    "lenName": 16,
    "lenType": 16,
    "lenVar": 40
   },
   "kernels_config": {
    "python": {
     "delete_cmd_postfix": "",
     "delete_cmd_prefix": "del ",
     "library": "var_list.py",
     "varRefreshCmd": "print(var_dic_list())"
    },
    "r": {
     "delete_cmd_postfix": ") ",
     "delete_cmd_prefix": "rm(",
     "library": "var_list.r",
     "varRefreshCmd": "cat(var_dic_list()) "
    }
   },
   "types_to_exclude": [
    "module",
    "function",
    "builtin_function_or_method",
    "instance",
    "_Feature"
   ],
   "window_display": false
  }
 },
 "nbformat": 4,
 "nbformat_minor": 2
}
