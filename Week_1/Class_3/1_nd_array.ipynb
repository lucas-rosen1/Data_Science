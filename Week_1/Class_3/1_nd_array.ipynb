{
 "cells": [
  {
   "cell_type": "markdown",
   "metadata": {},
   "source": [
    "# The N-Dimensional Array\n",
    "\n",
    "What is an example of a real life 1-d, 2-d, 3-d, 4-d array?"
   ]
  },
  {
   "cell_type": "markdown",
   "metadata": {},
   "source": [
    "So far we've talked about the one dimensional array.\n",
    "Lets review quickly."
   ]
  },
  {
   "cell_type": "code",
   "execution_count": null,
   "metadata": {
    "ExecuteTime": {
     "end_time": "2019-01-11T19:40:45.826461Z",
     "start_time": "2019-01-11T19:40:45.822671Z"
    }
   },
   "outputs": [],
   "source": [
    "import numpy as np\n",
    "#Again, all examples will be on np.arange(10)\n",
    "arr = np.arange(10)"
   ]
  },
  {
   "cell_type": "code",
   "execution_count": null,
   "metadata": {
    "ExecuteTime": {
     "end_time": "2019-01-14T04:55:19.945369Z",
     "start_time": "2019-01-14T04:55:19.853474Z"
    }
   },
   "outputs": [],
   "source": [
    "arr"
   ]
  },
  {
   "cell_type": "markdown",
   "metadata": {},
   "source": [
    "# Things we can do with a 1-d array"
   ]
  },
  {
   "cell_type": "markdown",
   "metadata": {},
   "source": [
    "### 1: Operations with a scalar"
   ]
  },
  {
   "cell_type": "code",
   "execution_count": null,
   "metadata": {
    "ExecuteTime": {
     "end_time": "2019-01-11T18:18:24.366190Z",
     "start_time": "2019-01-11T18:18:24.361154Z"
    }
   },
   "outputs": [],
   "source": [
    "arr + 2"
   ]
  },
  {
   "cell_type": "markdown",
   "metadata": {},
   "source": [
    "### 2: Operations with another 1-d array"
   ]
  },
  {
   "cell_type": "code",
   "execution_count": null,
   "metadata": {
    "ExecuteTime": {
     "end_time": "2019-01-11T18:18:32.056909Z",
     "start_time": "2019-01-11T18:18:32.051454Z"
    }
   },
   "outputs": [],
   "source": [
    "arr2 = np.arange(10,20)\n",
    "arr2"
   ]
  },
  {
   "cell_type": "code",
   "execution_count": null,
   "metadata": {
    "ExecuteTime": {
     "end_time": "2019-01-11T18:18:36.329215Z",
     "start_time": "2019-01-11T18:18:36.324114Z"
    }
   },
   "outputs": [],
   "source": [
    "arr + arr2"
   ]
  },
  {
   "cell_type": "markdown",
   "metadata": {},
   "source": [
    "### 3: Certain Mathematical Operations"
   ]
  },
  {
   "cell_type": "code",
   "execution_count": null,
   "metadata": {
    "ExecuteTime": {
     "end_time": "2019-01-11T18:18:48.708905Z",
     "start_time": "2019-01-11T18:18:48.703021Z"
    }
   },
   "outputs": [],
   "source": [
    "np.sin(arr)"
   ]
  },
  {
   "cell_type": "markdown",
   "metadata": {},
   "source": [
    "### 4: Summary Operations"
   ]
  },
  {
   "cell_type": "code",
   "execution_count": null,
   "metadata": {
    "ExecuteTime": {
     "end_time": "2019-01-11T18:19:08.761790Z",
     "start_time": "2019-01-11T18:19:08.757191Z"
    }
   },
   "outputs": [],
   "source": [
    "arr.mean()"
   ]
  },
  {
   "cell_type": "code",
   "execution_count": null,
   "metadata": {
    "ExecuteTime": {
     "end_time": "2019-01-11T18:19:14.175681Z",
     "start_time": "2019-01-11T18:19:14.170542Z"
    }
   },
   "outputs": [],
   "source": [
    "arr.max()"
   ]
  },
  {
   "cell_type": "code",
   "execution_count": null,
   "metadata": {
    "ExecuteTime": {
     "end_time": "2019-01-11T18:19:21.913532Z",
     "start_time": "2019-01-11T18:19:21.907349Z"
    }
   },
   "outputs": [],
   "source": [
    "#Location analog\n",
    "\n",
    "arr.argmax()"
   ]
  },
  {
   "cell_type": "markdown",
   "metadata": {},
   "source": [
    "### 5: Information Operations"
   ]
  },
  {
   "cell_type": "code",
   "execution_count": null,
   "metadata": {
    "ExecuteTime": {
     "end_time": "2019-01-11T18:19:45.830226Z",
     "start_time": "2019-01-11T18:19:45.825924Z"
    }
   },
   "outputs": [],
   "source": [
    "len(arr)"
   ]
  },
  {
   "cell_type": "code",
   "execution_count": null,
   "metadata": {
    "ExecuteTime": {
     "end_time": "2019-01-11T18:19:59.899918Z",
     "start_time": "2019-01-11T18:19:59.895278Z"
    }
   },
   "outputs": [],
   "source": [
    "#Kind of odd\n",
    "arr.shape"
   ]
  },
  {
   "cell_type": "code",
   "execution_count": null,
   "metadata": {
    "ExecuteTime": {
     "end_time": "2019-01-11T18:20:16.348543Z",
     "start_time": "2019-01-11T18:20:16.343799Z"
    }
   },
   "outputs": [],
   "source": [
    "#Total number of elements\n",
    "arr.size"
   ]
  },
  {
   "cell_type": "code",
   "execution_count": null,
   "metadata": {
    "ExecuteTime": {
     "end_time": "2019-01-11T18:20:33.633441Z",
     "start_time": "2019-01-11T18:20:33.628762Z"
    }
   },
   "outputs": [],
   "source": [
    "arr.ndim"
   ]
  },
  {
   "cell_type": "markdown",
   "metadata": {},
   "source": [
    "### 6: Comparison Operations (With a scalar or another 1-d array)"
   ]
  },
  {
   "cell_type": "code",
   "execution_count": null,
   "metadata": {
    "ExecuteTime": {
     "end_time": "2019-01-11T18:21:09.385073Z",
     "start_time": "2019-01-11T18:21:09.379752Z"
    }
   },
   "outputs": [],
   "source": [
    "arr"
   ]
  },
  {
   "cell_type": "code",
   "execution_count": null,
   "metadata": {
    "ExecuteTime": {
     "end_time": "2019-01-11T18:21:17.564733Z",
     "start_time": "2019-01-11T18:21:17.559762Z"
    }
   },
   "outputs": [],
   "source": [
    "arr > 0"
   ]
  },
  {
   "cell_type": "code",
   "execution_count": null,
   "metadata": {
    "ExecuteTime": {
     "end_time": "2019-01-11T18:21:25.211879Z",
     "start_time": "2019-01-11T18:21:25.206930Z"
    }
   },
   "outputs": [],
   "source": [
    "arr2"
   ]
  },
  {
   "cell_type": "code",
   "execution_count": null,
   "metadata": {
    "ExecuteTime": {
     "end_time": "2019-01-11T18:21:32.205593Z",
     "start_time": "2019-01-11T18:21:32.200860Z"
    }
   },
   "outputs": [],
   "source": [
    "arr > arr2"
   ]
  },
  {
   "cell_type": "markdown",
   "metadata": {},
   "source": [
    "### 7: Special Boolean Operators"
   ]
  },
  {
   "cell_type": "code",
   "execution_count": null,
   "metadata": {
    "ExecuteTime": {
     "end_time": "2019-01-11T18:21:42.925934Z",
     "start_time": "2019-01-11T18:21:42.921342Z"
    }
   },
   "outputs": [],
   "source": [
    "bool_arr1 = np.random.randint(0,1+1,10).astype(bool)\n",
    "bool_arr2 = np.random.randint(0,1+1,10).astype(bool)"
   ]
  },
  {
   "cell_type": "code",
   "execution_count": null,
   "metadata": {
    "ExecuteTime": {
     "end_time": "2019-01-11T18:21:43.895146Z",
     "start_time": "2019-01-11T18:21:43.890897Z"
    }
   },
   "outputs": [],
   "source": [
    "bool_arr1"
   ]
  },
  {
   "cell_type": "code",
   "execution_count": null,
   "metadata": {
    "ExecuteTime": {
     "end_time": "2019-01-11T18:21:44.534245Z",
     "start_time": "2019-01-11T18:21:44.529391Z"
    }
   },
   "outputs": [],
   "source": [
    "bool_arr2"
   ]
  },
  {
   "cell_type": "code",
   "execution_count": null,
   "metadata": {
    "ExecuteTime": {
     "end_time": "2019-01-11T18:22:25.760015Z",
     "start_time": "2019-01-11T18:22:25.755257Z"
    }
   },
   "outputs": [],
   "source": [
    "#and\n",
    "bool_arr1 & bool_arr2"
   ]
  },
  {
   "cell_type": "code",
   "execution_count": null,
   "metadata": {
    "ExecuteTime": {
     "end_time": "2019-01-11T18:22:30.156716Z",
     "start_time": "2019-01-11T18:22:30.151491Z"
    }
   },
   "outputs": [],
   "source": [
    "#or\n",
    "bool_arr1 | bool_arr2"
   ]
  },
  {
   "cell_type": "code",
   "execution_count": null,
   "metadata": {
    "ExecuteTime": {
     "end_time": "2019-01-11T18:22:35.723618Z",
     "start_time": "2019-01-11T18:22:35.718572Z"
    }
   },
   "outputs": [],
   "source": [
    "bool_arr1.any()"
   ]
  },
  {
   "cell_type": "code",
   "execution_count": null,
   "metadata": {
    "ExecuteTime": {
     "end_time": "2019-01-11T18:22:38.712668Z",
     "start_time": "2019-01-11T18:22:38.708450Z"
    }
   },
   "outputs": [],
   "source": [
    "bool_arr1.all()"
   ]
  },
  {
   "cell_type": "code",
   "execution_count": null,
   "metadata": {
    "ExecuteTime": {
     "end_time": "2019-01-11T18:22:42.061660Z",
     "start_time": "2019-01-11T18:22:42.057047Z"
    }
   },
   "outputs": [],
   "source": [
    "bool_arr1.sum()"
   ]
  },
  {
   "cell_type": "code",
   "execution_count": null,
   "metadata": {
    "ExecuteTime": {
     "end_time": "2019-01-11T18:22:44.801849Z",
     "start_time": "2019-01-11T18:22:44.797077Z"
    }
   },
   "outputs": [],
   "source": [
    "bool_arr1.mean()"
   ]
  },
  {
   "cell_type": "markdown",
   "metadata": {},
   "source": [
    "# Indexing A 1-d Array"
   ]
  },
  {
   "cell_type": "markdown",
   "metadata": {},
   "source": [
    "### 1: Slicing"
   ]
  },
  {
   "cell_type": "code",
   "execution_count": null,
   "metadata": {
    "ExecuteTime": {
     "end_time": "2019-01-11T18:22:56.766532Z",
     "start_time": "2019-01-11T18:22:56.761410Z"
    }
   },
   "outputs": [],
   "source": [
    "arr"
   ]
  },
  {
   "cell_type": "code",
   "execution_count": null,
   "metadata": {
    "ExecuteTime": {
     "end_time": "2019-01-11T18:23:06.021465Z",
     "start_time": "2019-01-11T18:23:06.016668Z"
    }
   },
   "outputs": [],
   "source": [
    "arr[1:-1:3]"
   ]
  },
  {
   "cell_type": "markdown",
   "metadata": {},
   "source": [
    "### What if you use a negative number as a step size?"
   ]
  },
  {
   "cell_type": "code",
   "execution_count": null,
   "metadata": {
    "ExecuteTime": {
     "end_time": "2019-01-11T18:23:56.144799Z",
     "start_time": "2019-01-11T18:23:56.140044Z"
    }
   },
   "outputs": [],
   "source": [
    "arr[::-1]"
   ]
  },
  {
   "cell_type": "code",
   "execution_count": null,
   "metadata": {},
   "outputs": [],
   "source": [
    "#reverses it"
   ]
  },
  {
   "cell_type": "markdown",
   "metadata": {},
   "source": [
    "### 2: Logical Indexing"
   ]
  },
  {
   "cell_type": "code",
   "execution_count": null,
   "metadata": {
    "ExecuteTime": {
     "end_time": "2019-01-11T18:24:16.010640Z",
     "start_time": "2019-01-11T18:24:16.006336Z"
    }
   },
   "outputs": [],
   "source": [
    "arr[arr < 3]"
   ]
  },
  {
   "cell_type": "markdown",
   "metadata": {},
   "source": [
    "### 3: Fancy Indexing"
   ]
  },
  {
   "cell_type": "code",
   "execution_count": null,
   "metadata": {
    "ExecuteTime": {
     "end_time": "2019-01-11T18:24:22.954509Z",
     "start_time": "2019-01-11T18:24:22.950110Z"
    }
   },
   "outputs": [],
   "source": [
    "arr2"
   ]
  },
  {
   "cell_type": "code",
   "execution_count": null,
   "metadata": {
    "ExecuteTime": {
     "end_time": "2019-01-11T18:24:24.266700Z",
     "start_time": "2019-01-11T18:24:24.261803Z"
    }
   },
   "outputs": [],
   "source": [
    "arr2[[1,5,3]]"
   ]
  },
  {
   "cell_type": "markdown",
   "metadata": {},
   "source": [
    "# Adding Elements to a 1-d Array"
   ]
  },
  {
   "cell_type": "markdown",
   "metadata": {},
   "source": [
    "For python lists with size flexibility this is easy"
   ]
  },
  {
   "cell_type": "code",
   "execution_count": null,
   "metadata": {
    "ExecuteTime": {
     "end_time": "2019-01-11T18:24:58.132634Z",
     "start_time": "2019-01-11T18:24:58.127628Z"
    }
   },
   "outputs": [],
   "source": [
    "lst = [1,2,3]\n",
    "lst.append(7)\n",
    "lst"
   ]
  },
  {
   "cell_type": "code",
   "execution_count": null,
   "metadata": {
    "ExecuteTime": {
     "end_time": "2019-01-11T18:25:13.321101Z",
     "start_time": "2019-01-11T18:25:13.241331Z"
    }
   },
   "outputs": [],
   "source": [
    "arr = np.arange(1,4)\n",
    "arr.append(7)"
   ]
  },
  {
   "cell_type": "markdown",
   "metadata": {},
   "source": [
    "### There are two ways to do this\n",
    "\n",
    "### 1: Cast to list, append/extend, and then cast back to array"
   ]
  },
  {
   "cell_type": "code",
   "execution_count": null,
   "metadata": {
    "ExecuteTime": {
     "end_time": "2019-01-11T18:25:46.639555Z",
     "start_time": "2019-01-11T18:25:46.634640Z"
    }
   },
   "outputs": [],
   "source": [
    "#convert to list\n",
    "list(arr)"
   ]
  },
  {
   "cell_type": "code",
   "execution_count": null,
   "metadata": {
    "ExecuteTime": {
     "end_time": "2019-01-11T18:26:07.960220Z",
     "start_time": "2019-01-11T18:26:07.955370Z"
    }
   },
   "outputs": [],
   "source": [
    "#add 7\n",
    "list(arr) + [7]"
   ]
  },
  {
   "cell_type": "code",
   "execution_count": null,
   "metadata": {
    "ExecuteTime": {
     "end_time": "2019-01-11T18:26:34.275612Z",
     "start_time": "2019-01-11T18:26:34.260442Z"
    }
   },
   "outputs": [],
   "source": [
    "#convert back to numpy array\n",
    "np.array(list(arr) + [7])"
   ]
  },
  {
   "cell_type": "code",
   "execution_count": null,
   "metadata": {
    "ExecuteTime": {
     "end_time": "2019-01-11T18:27:58.940708Z",
     "start_time": "2019-01-11T18:27:58.938400Z"
    }
   },
   "outputs": [],
   "source": [
    "arr = np.array(list(arr) + [7])\n",
    "\n"
   ]
  },
  {
   "cell_type": "markdown",
   "metadata": {},
   "source": [
    "### 2: `np.concatenate`"
   ]
  },
  {
   "cell_type": "code",
   "execution_count": null,
   "metadata": {
    "ExecuteTime": {
     "end_time": "2019-01-11T18:28:36.628684Z",
     "start_time": "2019-01-11T18:28:36.623254Z"
    }
   },
   "outputs": [],
   "source": [
    "arr = np.arange(1,4)\n",
    "arr"
   ]
  },
  {
   "cell_type": "code",
   "execution_count": null,
   "metadata": {
    "ExecuteTime": {
     "end_time": "2019-01-11T18:29:30.541206Z",
     "start_time": "2019-01-11T18:29:30.535596Z"
    }
   },
   "outputs": [],
   "source": [
    "#Need to give command a tuple of arrays/lists\n",
    "np.concatenate((arr,[7],[34,90]))"
   ]
  },
  {
   "cell_type": "code",
   "execution_count": null,
   "metadata": {
    "ExecuteTime": {
     "end_time": "2019-01-11T18:29:51.471528Z",
     "start_time": "2019-01-11T18:29:51.467635Z"
    }
   },
   "outputs": [],
   "source": [
    "arr = np.concatenate((arr,[7]))"
   ]
  },
  {
   "cell_type": "markdown",
   "metadata": {},
   "source": [
    "### Speed test"
   ]
  },
  {
   "cell_type": "code",
   "execution_count": null,
   "metadata": {
    "ExecuteTime": {
     "end_time": "2019-01-11T18:30:04.373494Z",
     "start_time": "2019-01-11T18:30:02.278237Z"
    }
   },
   "outputs": [],
   "source": [
    "%%timeit\n",
    "arr2 = np.array(list(arr) + [7])"
   ]
  },
  {
   "cell_type": "code",
   "execution_count": null,
   "metadata": {
    "ExecuteTime": {
     "end_time": "2019-01-11T18:30:22.724339Z",
     "start_time": "2019-01-11T18:30:10.050189Z"
    }
   },
   "outputs": [],
   "source": [
    "%%timeit\n",
    "arr2 = np.concatenate((arr,[7]))"
   ]
  },
  {
   "cell_type": "markdown",
   "metadata": {},
   "source": [
    "## `np.concatenate` is faster. In general, if you need a lot of size flexibility, numpy may not be right for the task."
   ]
  },
  {
   "cell_type": "markdown",
   "metadata": {},
   "source": [
    "# The n-d array\n",
    "\n",
    "Lets first look at a 2 dimensional array"
   ]
  },
  {
   "cell_type": "code",
   "execution_count": null,
   "metadata": {
    "ExecuteTime": {
     "end_time": "2019-01-11T18:31:23.924574Z",
     "start_time": "2019-01-11T18:31:23.921885Z"
    }
   },
   "outputs": [],
   "source": [
    "#Here is H_sym from HW_2 but much smaller\n",
    "H = np.random.randint(-2000,2000,size=(5,5))\n",
    "H_sym = (H + H.T)/2"
   ]
  },
  {
   "cell_type": "code",
   "execution_count": null,
   "metadata": {
    "ExecuteTime": {
     "end_time": "2019-01-11T18:31:27.111492Z",
     "start_time": "2019-01-11T18:31:27.106202Z"
    }
   },
   "outputs": [],
   "source": [
    "H_sym"
   ]
  },
  {
   "cell_type": "markdown",
   "metadata": {},
   "source": [
    "A 2-d array is a matrix.\n",
    "\n",
    "What might a 3-d array look like?\n",
    "\n",
    "https://alexisalulemacom.files.wordpress.com/2017/10/order-3-tensor.png"
   ]
  },
  {
   "cell_type": "markdown",
   "metadata": {},
   "source": [
    "As we cannot visualize past 3 dimensions lets not worry about a 4-d array"
   ]
  },
  {
   "cell_type": "markdown",
   "metadata": {},
   "source": [
    "# How to create an N-d array?"
   ]
  },
  {
   "cell_type": "code",
   "execution_count": null,
   "metadata": {
    "ExecuteTime": {
     "end_time": "2019-01-11T18:35:42.891010Z",
     "start_time": "2019-01-11T18:35:42.885509Z"
    }
   },
   "outputs": [],
   "source": [
    "#A tuple is a list that cannot be modified\n",
    "size_tup = (3,3)\n",
    "size_tup"
   ]
  },
  {
   "cell_type": "code",
   "execution_count": null,
   "metadata": {
    "ExecuteTime": {
     "end_time": "2019-01-11T18:36:51.660785Z",
     "start_time": "2019-01-11T18:36:51.654447Z"
    }
   },
   "outputs": [],
   "source": [
    "np.empty((3,4,5))"
   ]
  },
  {
   "cell_type": "markdown",
   "metadata": {},
   "source": [
    "# What did this do?"
   ]
  },
  {
   "cell_type": "code",
   "execution_count": null,
   "metadata": {},
   "outputs": [],
   "source": [
    "#How to create a 3-d array with sizes 2,5,9?"
   ]
  },
  {
   "cell_type": "code",
   "execution_count": null,
   "metadata": {
    "ExecuteTime": {
     "end_time": "2019-01-11T18:37:36.470298Z",
     "start_time": "2019-01-11T18:37:36.464480Z"
    }
   },
   "outputs": [],
   "source": [
    "#How to create a 2-by-7 matrix full of ones?\n",
    "np.ones((2,7))"
   ]
  },
  {
   "cell_type": "code",
   "execution_count": null,
   "metadata": {
    "ExecuteTime": {
     "end_time": "2019-01-11T18:37:51.153716Z",
     "start_time": "2019-01-11T18:37:51.148480Z"
    }
   },
   "outputs": [],
   "source": [
    "#With zeros?\n",
    "np.zeros((2,7))"
   ]
  },
  {
   "cell_type": "markdown",
   "metadata": {},
   "source": [
    "We cannot use the `arange` command for n-d arrays."
   ]
  },
  {
   "cell_type": "markdown",
   "metadata": {},
   "source": [
    "## From a nested list (i.e. list of list or list of lists of lists, etc)"
   ]
  },
  {
   "cell_type": "code",
   "execution_count": null,
   "metadata": {
    "ExecuteTime": {
     "end_time": "2019-01-11T18:39:07.292870Z",
     "start_time": "2019-01-11T18:39:07.286826Z"
    }
   },
   "outputs": [],
   "source": [
    "LoL = [[1,2,3],\n",
    "       [4,5,6],\n",
    "       [7,8,9]]\n",
    "\n",
    "LoL"
   ]
  },
  {
   "cell_type": "code",
   "execution_count": null,
   "metadata": {
    "ExecuteTime": {
     "end_time": "2019-01-11T18:39:11.907018Z",
     "start_time": "2019-01-11T18:39:11.902288Z"
    }
   },
   "outputs": [],
   "source": [
    "np.array(LoL)"
   ]
  },
  {
   "cell_type": "markdown",
   "metadata": {},
   "source": [
    "# Information Operators on n-d arrays"
   ]
  },
  {
   "cell_type": "code",
   "execution_count": null,
   "metadata": {
    "ExecuteTime": {
     "end_time": "2019-01-11T18:39:49.558769Z",
     "start_time": "2019-01-11T18:39:49.553073Z"
    }
   },
   "outputs": [],
   "source": [
    "mat = np.ones((2,7))\n",
    "mat"
   ]
  },
  {
   "cell_type": "code",
   "execution_count": null,
   "metadata": {
    "ExecuteTime": {
     "end_time": "2019-01-11T18:39:56.990137Z",
     "start_time": "2019-01-11T18:39:56.985508Z"
    }
   },
   "outputs": [],
   "source": [
    "mat.shape"
   ]
  },
  {
   "cell_type": "code",
   "execution_count": null,
   "metadata": {
    "ExecuteTime": {
     "end_time": "2019-01-11T18:40:16.971579Z",
     "start_time": "2019-01-11T18:40:16.967367Z"
    }
   },
   "outputs": [],
   "source": [
    "mat.size"
   ]
  },
  {
   "cell_type": "code",
   "execution_count": null,
   "metadata": {},
   "outputs": [],
   "source": [
    "#Same as\n",
    "np.array(mat.shape)"
   ]
  },
  {
   "cell_type": "code",
   "execution_count": null,
   "metadata": {
    "ExecuteTime": {
     "end_time": "2019-01-11T18:40:31.525925Z",
     "start_time": "2019-01-11T18:40:31.520662Z"
    }
   },
   "outputs": [],
   "source": [
    "np.array(mat.shape).prod()"
   ]
  },
  {
   "cell_type": "code",
   "execution_count": null,
   "metadata": {
    "ExecuteTime": {
     "end_time": "2019-01-11T18:40:43.670315Z",
     "start_time": "2019-01-11T18:40:43.665730Z"
    }
   },
   "outputs": [],
   "source": [
    "mat.ndim"
   ]
  },
  {
   "cell_type": "code",
   "execution_count": null,
   "metadata": {
    "ExecuteTime": {
     "end_time": "2019-01-11T18:40:52.110272Z",
     "start_time": "2019-01-11T18:40:52.105710Z"
    }
   },
   "outputs": [],
   "source": [
    "#same as\n",
    "len(mat.shape)"
   ]
  },
  {
   "cell_type": "code",
   "execution_count": null,
   "metadata": {
    "ExecuteTime": {
     "end_time": "2019-01-11T18:41:04.921180Z",
     "start_time": "2019-01-11T18:41:04.916715Z"
    }
   },
   "outputs": [],
   "source": [
    "len(mat)"
   ]
  },
  {
   "cell_type": "code",
   "execution_count": null,
   "metadata": {
    "ExecuteTime": {
     "end_time": "2019-01-11T18:41:13.262869Z",
     "start_time": "2019-01-11T18:41:13.258181Z"
    }
   },
   "outputs": [],
   "source": [
    "#Same as\n",
    "mat.shape[0]"
   ]
  },
  {
   "cell_type": "markdown",
   "metadata": {},
   "source": [
    "# Things that are the same as for 1-d arrays"
   ]
  },
  {
   "cell_type": "markdown",
   "metadata": {},
   "source": [
    "### Operations with a scalar"
   ]
  },
  {
   "cell_type": "code",
   "execution_count": null,
   "metadata": {
    "ExecuteTime": {
     "end_time": "2019-01-11T18:42:28.905176Z",
     "start_time": "2019-01-11T18:42:28.899841Z"
    }
   },
   "outputs": [],
   "source": [
    "mat = np.eye(5)\n",
    "mat"
   ]
  },
  {
   "cell_type": "code",
   "execution_count": null,
   "metadata": {},
   "outputs": [],
   "source": [
    "#What did the eye command do?"
   ]
  },
  {
   "cell_type": "code",
   "execution_count": null,
   "metadata": {
    "ExecuteTime": {
     "end_time": "2019-01-11T18:42:53.763775Z",
     "start_time": "2019-01-11T18:42:53.758663Z"
    }
   },
   "outputs": [],
   "source": [
    "mat + 1"
   ]
  },
  {
   "cell_type": "code",
   "execution_count": null,
   "metadata": {
    "ExecuteTime": {
     "end_time": "2019-01-11T18:43:15.323293Z",
     "start_time": "2019-01-11T18:43:15.318651Z"
    }
   },
   "outputs": [],
   "source": [
    "2**mat"
   ]
  },
  {
   "cell_type": "markdown",
   "metadata": {},
   "source": [
    "### Operations with an n-d array of the same dimension sizes"
   ]
  },
  {
   "cell_type": "code",
   "execution_count": null,
   "metadata": {
    "ExecuteTime": {
     "end_time": "2019-01-11T18:43:52.900794Z",
     "start_time": "2019-01-11T18:43:52.895172Z"
    }
   },
   "outputs": [],
   "source": [
    "mat"
   ]
  },
  {
   "cell_type": "code",
   "execution_count": null,
   "metadata": {
    "ExecuteTime": {
     "end_time": "2019-01-11T18:43:55.585869Z",
     "start_time": "2019-01-11T18:43:55.580751Z"
    }
   },
   "outputs": [],
   "source": [
    "np.ones((5,5))"
   ]
  },
  {
   "cell_type": "code",
   "execution_count": null,
   "metadata": {
    "ExecuteTime": {
     "end_time": "2019-01-11T18:44:01.358881Z",
     "start_time": "2019-01-11T18:44:01.353397Z"
    }
   },
   "outputs": [],
   "source": [
    "mat + np.ones((5,5))"
   ]
  },
  {
   "cell_type": "code",
   "execution_count": null,
   "metadata": {},
   "outputs": [],
   "source": [
    "#Adds elementwise"
   ]
  },
  {
   "cell_type": "markdown",
   "metadata": {},
   "source": [
    "### Mathematical Operations"
   ]
  },
  {
   "cell_type": "code",
   "execution_count": null,
   "metadata": {
    "ExecuteTime": {
     "end_time": "2019-01-11T18:44:17.345480Z",
     "start_time": "2019-01-11T18:44:17.340634Z"
    }
   },
   "outputs": [],
   "source": [
    "np.sin(mat)"
   ]
  },
  {
   "cell_type": "markdown",
   "metadata": {},
   "source": [
    "### Summary Operations (With a twist)"
   ]
  },
  {
   "cell_type": "code",
   "execution_count": null,
   "metadata": {
    "ExecuteTime": {
     "end_time": "2019-01-11T18:44:39.006622Z",
     "start_time": "2019-01-11T18:44:39.002882Z"
    }
   },
   "outputs": [],
   "source": [
    "heights = [72,73,69,76]"
   ]
  },
  {
   "cell_type": "code",
   "execution_count": null,
   "metadata": {
    "ExecuteTime": {
     "end_time": "2019-01-11T18:44:39.792590Z",
     "start_time": "2019-01-11T18:44:39.788996Z"
    }
   },
   "outputs": [],
   "source": [
    "weights = [170,200,158,180]"
   ]
  },
  {
   "cell_type": "code",
   "execution_count": null,
   "metadata": {
    "ExecuteTime": {
     "end_time": "2019-01-11T18:45:48.872459Z",
     "start_time": "2019-01-11T18:45:48.867698Z"
    }
   },
   "outputs": [],
   "source": [
    "#How to make a matrix of heights and weights?\n",
    "M = np.array([heights,weights])"
   ]
  },
  {
   "cell_type": "code",
   "execution_count": null,
   "metadata": {
    "ExecuteTime": {
     "end_time": "2019-01-11T18:45:51.551739Z",
     "start_time": "2019-01-11T18:45:51.546507Z"
    }
   },
   "outputs": [],
   "source": [
    "np.array([heights,weights])"
   ]
  },
  {
   "cell_type": "code",
   "execution_count": null,
   "metadata": {
    "ExecuteTime": {
     "end_time": "2019-01-11T18:47:09.604945Z",
     "start_time": "2019-01-11T18:47:09.599450Z"
    }
   },
   "outputs": [],
   "source": [
    "friend_matrix = np.array([heights,weights]).T\n",
    "friend_matrix"
   ]
  },
  {
   "cell_type": "code",
   "execution_count": null,
   "metadata": {
    "ExecuteTime": {
     "end_time": "2019-01-11T18:47:46.706387Z",
     "start_time": "2019-01-11T18:47:46.701321Z"
    }
   },
   "outputs": [],
   "source": [
    "#The mean\n",
    "friend_matrix.mean()\n",
    "\n"
   ]
  },
  {
   "cell_type": "markdown",
   "metadata": {},
   "source": [
    "### This isn't what I want\n",
    "### How do I just take the mean going through a given dimension?\n",
    "\n",
    "### This `axis = ` argument"
   ]
  },
  {
   "cell_type": "code",
   "execution_count": null,
   "metadata": {
    "ExecuteTime": {
     "end_time": "2019-01-11T18:48:28.447560Z",
     "start_time": "2019-01-11T18:48:28.442575Z"
    }
   },
   "outputs": [],
   "source": [
    "friend_matrix"
   ]
  },
  {
   "cell_type": "code",
   "execution_count": null,
   "metadata": {
    "ExecuteTime": {
     "end_time": "2019-01-11T18:49:06.984351Z",
     "start_time": "2019-01-11T18:49:06.979218Z"
    }
   },
   "outputs": [],
   "source": [
    "friend_matrix.mean(axis=0)"
   ]
  },
  {
   "cell_type": "code",
   "execution_count": null,
   "metadata": {
    "ExecuteTime": {
     "end_time": "2019-01-11T18:49:30.025122Z",
     "start_time": "2019-01-11T18:49:30.020045Z"
    }
   },
   "outputs": [],
   "source": [
    "friend_matrix.mean(axis=1)"
   ]
  },
  {
   "cell_type": "code",
   "execution_count": null,
   "metadata": {
    "ExecuteTime": {
     "end_time": "2019-01-11T18:49:38.120891Z",
     "start_time": "2019-01-11T18:49:38.103974Z"
    }
   },
   "outputs": [],
   "source": [
    "friend_matrix.mean(axis=2)"
   ]
  },
  {
   "cell_type": "code",
   "execution_count": null,
   "metadata": {},
   "outputs": [],
   "source": [
    "#Which did I want"
   ]
  },
  {
   "cell_type": "code",
   "execution_count": null,
   "metadata": {
    "ExecuteTime": {
     "end_time": "2019-01-11T18:51:02.825856Z",
     "start_time": "2019-01-11T18:51:02.820934Z"
    }
   },
   "outputs": [],
   "source": [
    "friend_matrix.mean(axis=-2)\n",
    "#Go along last axis"
   ]
  },
  {
   "cell_type": "markdown",
   "metadata": {},
   "source": [
    "### The same for other summary operations"
   ]
  },
  {
   "cell_type": "code",
   "execution_count": null,
   "metadata": {
    "ExecuteTime": {
     "end_time": "2019-01-11T18:51:17.741298Z",
     "start_time": "2019-01-11T18:51:17.735789Z"
    }
   },
   "outputs": [],
   "source": [
    "friend_matrix.max()"
   ]
  },
  {
   "cell_type": "code",
   "execution_count": null,
   "metadata": {
    "ExecuteTime": {
     "end_time": "2019-01-11T18:51:36.684565Z",
     "start_time": "2019-01-11T18:51:36.679373Z"
    }
   },
   "outputs": [],
   "source": [
    "friend_matrix.max(0)"
   ]
  },
  {
   "cell_type": "markdown",
   "metadata": {},
   "source": [
    "### Because of the way python works, in these summary operations work you don't need the `axis=` keyword\n",
    "### Beware: In other places you may."
   ]
  },
  {
   "cell_type": "code",
   "execution_count": null,
   "metadata": {
    "ExecuteTime": {
     "end_time": "2019-01-11T18:52:47.747621Z",
     "start_time": "2019-01-11T18:52:47.742301Z"
    }
   },
   "outputs": [],
   "source": [
    "friend_matrix"
   ]
  },
  {
   "cell_type": "code",
   "execution_count": null,
   "metadata": {
    "ExecuteTime": {
     "end_time": "2019-01-11T18:52:50.865278Z",
     "start_time": "2019-01-11T18:52:50.860057Z"
    }
   },
   "outputs": [],
   "source": [
    "friend_matrix.argmax()"
   ]
  },
  {
   "cell_type": "code",
   "execution_count": null,
   "metadata": {
    "ExecuteTime": {
     "end_time": "2019-01-11T18:53:17.456020Z",
     "start_time": "2019-01-11T18:53:17.451116Z"
    }
   },
   "outputs": [],
   "source": [
    "friend_matrix.argmax(0)"
   ]
  },
  {
   "cell_type": "code",
   "execution_count": null,
   "metadata": {},
   "outputs": [],
   "source": [
    "friend_matrix"
   ]
  },
  {
   "cell_type": "markdown",
   "metadata": {},
   "source": [
    "# A taste of whats to come\n",
    "### Why do we use pandas?\n",
    "\n",
    "Don't worry about taking notes on this"
   ]
  },
  {
   "cell_type": "code",
   "execution_count": null,
   "metadata": {
    "ExecuteTime": {
     "end_time": "2019-01-11T18:54:15.473484Z",
     "start_time": "2019-01-11T18:54:15.100213Z"
    }
   },
   "outputs": [],
   "source": [
    "import pandas as pd\n",
    "\n",
    "friend_frame = pd.DataFrame(friend_matrix,index=['Ian','Fayzan','Alex','Zach'],columns=['Height','Weight'])"
   ]
  },
  {
   "cell_type": "code",
   "execution_count": null,
   "metadata": {
    "ExecuteTime": {
     "end_time": "2019-01-11T18:54:20.338086Z",
     "start_time": "2019-01-11T18:54:20.324149Z"
    }
   },
   "outputs": [],
   "source": [
    "friend_frame"
   ]
  },
  {
   "cell_type": "code",
   "execution_count": null,
   "metadata": {
    "ExecuteTime": {
     "end_time": "2019-01-11T18:55:36.039100Z",
     "start_time": "2019-01-11T18:55:36.035201Z"
    }
   },
   "outputs": [],
   "source": [
    "friend_frame.Weight.mean()"
   ]
  },
  {
   "cell_type": "markdown",
   "metadata": {},
   "source": [
    "### Comparison Operators"
   ]
  },
  {
   "cell_type": "code",
   "execution_count": null,
   "metadata": {
    "ExecuteTime": {
     "end_time": "2019-01-11T18:55:56.486939Z",
     "start_time": "2019-01-11T18:55:56.482966Z"
    }
   },
   "outputs": [],
   "source": [
    "friend_matrix"
   ]
  },
  {
   "cell_type": "code",
   "execution_count": null,
   "metadata": {
    "ExecuteTime": {
     "end_time": "2019-01-11T18:56:01.313977Z",
     "start_time": "2019-01-11T18:56:01.310659Z"
    }
   },
   "outputs": [],
   "source": [
    "friend_matrix > 3"
   ]
  },
  {
   "cell_type": "markdown",
   "metadata": {},
   "source": [
    "### You can do this with another matrix of the same size"
   ]
  },
  {
   "cell_type": "markdown",
   "metadata": {},
   "source": [
    "### Special Boolean Operators"
   ]
  },
  {
   "cell_type": "code",
   "execution_count": null,
   "metadata": {
    "ExecuteTime": {
     "end_time": "2019-01-11T18:56:26.197979Z",
     "start_time": "2019-01-11T18:56:26.180312Z"
    }
   },
   "outputs": [],
   "source": [
    "(friend_matrix > 200) | (friend_matrix < 100)"
   ]
  },
  {
   "cell_type": "code",
   "execution_count": null,
   "metadata": {
    "ExecuteTime": {
     "end_time": "2019-01-11T18:56:46.892196Z",
     "start_time": "2019-01-11T18:56:46.888236Z"
    }
   },
   "outputs": [],
   "source": [
    "friend_matrix%2 == 0"
   ]
  },
  {
   "cell_type": "code",
   "execution_count": null,
   "metadata": {
    "ExecuteTime": {
     "end_time": "2019-01-11T18:56:51.176130Z",
     "start_time": "2019-01-11T18:56:51.172272Z"
    }
   },
   "outputs": [],
   "source": [
    "(friend_matrix%2 == 0).any()"
   ]
  },
  {
   "cell_type": "code",
   "execution_count": null,
   "metadata": {
    "ExecuteTime": {
     "end_time": "2019-01-11T18:57:22.420543Z",
     "start_time": "2019-01-11T18:57:22.416885Z"
    }
   },
   "outputs": [],
   "source": [
    "(friend_matrix%2 == 0).any(0)"
   ]
  },
  {
   "cell_type": "markdown",
   "metadata": {},
   "source": [
    "#### Similar for `.all`"
   ]
  },
  {
   "cell_type": "markdown",
   "metadata": {},
   "source": [
    "# Broadcasting\n",
    "\n",
    "We have seen that mathematical operations work with scalars or arrays of the exact same shape.\n",
    "\n",
    "Lets consider this example."
   ]
  },
  {
   "cell_type": "code",
   "execution_count": null,
   "metadata": {
    "ExecuteTime": {
     "end_time": "2019-01-11T18:57:52.495971Z",
     "start_time": "2019-01-11T18:57:52.491415Z"
    }
   },
   "outputs": [],
   "source": [
    "friend_matrix"
   ]
  },
  {
   "cell_type": "markdown",
   "metadata": {},
   "source": [
    "Lets say I want to convert everything in column 1 to cms and column 2 to kgs\n",
    "\n",
    "To get inches to cm I should multiply all the heights by `2.54`\n",
    "To get pounds to kg I should multiply all the weights by `0.45`"
   ]
  },
  {
   "cell_type": "code",
   "execution_count": null,
   "metadata": {
    "ExecuteTime": {
     "end_time": "2019-01-11T18:59:01.399035Z",
     "start_time": "2019-01-11T18:59:01.395321Z"
    }
   },
   "outputs": [],
   "source": [
    "conversion_array = np.array([2.54,0.45])\n",
    "conversion_array"
   ]
  },
  {
   "cell_type": "code",
   "execution_count": null,
   "metadata": {
    "ExecuteTime": {
     "end_time": "2019-01-11T18:59:07.518714Z",
     "start_time": "2019-01-11T18:59:07.514549Z"
    }
   },
   "outputs": [],
   "source": [
    "friend_matrix * conversion_array"
   ]
  },
  {
   "cell_type": "markdown",
   "metadata": {},
   "source": [
    "# What just happend?\n",
    "# Broadcasting"
   ]
  },
  {
   "cell_type": "code",
   "execution_count": null,
   "metadata": {
    "ExecuteTime": {
     "end_time": "2019-01-11T19:00:24.367493Z",
     "start_time": "2019-01-11T19:00:24.363591Z"
    }
   },
   "outputs": [],
   "source": [
    "conversion_array.shape"
   ]
  },
  {
   "cell_type": "code",
   "execution_count": null,
   "metadata": {
    "ExecuteTime": {
     "end_time": "2019-01-11T19:00:36.233910Z",
     "start_time": "2019-01-11T19:00:36.230310Z"
    }
   },
   "outputs": [],
   "source": [
    "friend_matrix.shape"
   ]
  },
  {
   "cell_type": "markdown",
   "metadata": {},
   "source": [
    "### Numpy checks to see if the size of any of the dimensions of `conversion_array` match those of `friend_matrix`"
   ]
  },
  {
   "cell_type": "code",
   "execution_count": null,
   "metadata": {
    "ExecuteTime": {
     "end_time": "2019-01-11T19:01:01.699787Z",
     "start_time": "2019-01-11T19:01:01.696178Z"
    }
   },
   "outputs": [],
   "source": [
    "friend_matrix.shape[1]==conversion_array.shape[0]"
   ]
  },
  {
   "cell_type": "markdown",
   "metadata": {},
   "source": [
    "### Numpy then copies `conversion_array` in the other dimension(s) until it matches the other dimension(s) of `friend_matrix`"
   ]
  },
  {
   "cell_type": "code",
   "execution_count": null,
   "metadata": {
    "ExecuteTime": {
     "end_time": "2019-01-11T19:01:20.108448Z",
     "start_time": "2019-01-11T19:01:20.105898Z"
    }
   },
   "outputs": [],
   "source": [
    "#Don't worry about this notation\n",
    "temp = np.array([conversion_array for i in range(4)])"
   ]
  },
  {
   "cell_type": "code",
   "execution_count": null,
   "metadata": {
    "ExecuteTime": {
     "end_time": "2019-01-11T19:01:22.438616Z",
     "start_time": "2019-01-11T19:01:22.434845Z"
    }
   },
   "outputs": [],
   "source": [
    "temp"
   ]
  },
  {
   "cell_type": "code",
   "execution_count": null,
   "metadata": {
    "ExecuteTime": {
     "end_time": "2019-01-11T19:03:02.474968Z",
     "start_time": "2019-01-11T19:03:02.470687Z"
    }
   },
   "outputs": [],
   "source": [
    "friend_matrix"
   ]
  },
  {
   "cell_type": "markdown",
   "metadata": {},
   "source": [
    "### Note: This is also whats going on when you do operations with a scalar\n",
    "\n",
    "### Lets do another quick example"
   ]
  },
  {
   "cell_type": "code",
   "execution_count": null,
   "metadata": {
    "ExecuteTime": {
     "end_time": "2019-01-11T19:03:22.625724Z",
     "start_time": "2019-01-11T19:03:22.526376Z"
    }
   },
   "outputs": [],
   "source": [
    "friend_matrix + np.array([1,2,3,4])\n",
    "\n",
    "#What will happen?"
   ]
  },
  {
   "cell_type": "markdown",
   "metadata": {},
   "source": [
    "### For whatever reason, this does not work\n",
    "\n",
    "### We must talk about adding dimensions\n",
    "### This is one of the most unintuitive things about numpy"
   ]
  },
  {
   "cell_type": "code",
   "execution_count": null,
   "metadata": {
    "ExecuteTime": {
     "end_time": "2019-01-11T19:04:15.216298Z",
     "start_time": "2019-01-11T19:04:15.211848Z"
    }
   },
   "outputs": [],
   "source": [
    "friend_matrix.shape"
   ]
  },
  {
   "cell_type": "code",
   "execution_count": null,
   "metadata": {
    "ExecuteTime": {
     "end_time": "2019-01-11T19:04:18.286799Z",
     "start_time": "2019-01-11T19:04:18.282655Z"
    }
   },
   "outputs": [],
   "source": [
    "arr = np.array([1,2,3,4])\n",
    "arr.shape"
   ]
  },
  {
   "cell_type": "code",
   "execution_count": null,
   "metadata": {
    "ExecuteTime": {
     "end_time": "2019-01-11T19:04:41.821281Z",
     "start_time": "2019-01-11T19:04:41.817461Z"
    }
   },
   "outputs": [],
   "source": [
    "arr[None].shape"
   ]
  },
  {
   "cell_type": "code",
   "execution_count": null,
   "metadata": {
    "ExecuteTime": {
     "end_time": "2019-01-11T19:11:50.492386Z",
     "start_time": "2019-01-11T19:11:50.488436Z"
    }
   },
   "outputs": [],
   "source": [
    "example_matrix = friend_matrix[:2]\n",
    "add_vec = np.array([3,4])\n",
    "example_matrix"
   ]
  },
  {
   "cell_type": "code",
   "execution_count": null,
   "metadata": {
    "ExecuteTime": {
     "end_time": "2019-01-11T19:12:19.109645Z",
     "start_time": "2019-01-11T19:12:19.105976Z"
    }
   },
   "outputs": [],
   "source": [
    "#arr[None,:,None].shape\n",
    "example_matrix.shape\n",
    "add_vec[:,None] + example_matrix"
   ]
  },
  {
   "cell_type": "code",
   "execution_count": null,
   "metadata": {
    "ExecuteTime": {
     "end_time": "2019-01-11T19:14:14.863267Z",
     "start_time": "2019-01-11T19:14:14.859392Z"
    }
   },
   "outputs": [],
   "source": [
    "arr[None,:,None,None].shape"
   ]
  },
  {
   "cell_type": "markdown",
   "metadata": {},
   "source": [
    "### Why did the previous one work without padding dimensions?\n",
    "\n",
    "I believe numpy allows broadcasting without matching dimensions if you're going to broadcast with the last dimension matching.\n",
    "\n",
    "If we wanted to be safe we could have done:"
   ]
  },
  {
   "cell_type": "code",
   "execution_count": null,
   "metadata": {},
   "outputs": [],
   "source": [
    "friend_matrix.shape"
   ]
  },
  {
   "cell_type": "code",
   "execution_count": null,
   "metadata": {},
   "outputs": [],
   "source": [
    "conversion_array.shape"
   ]
  },
  {
   "cell_type": "code",
   "execution_count": null,
   "metadata": {},
   "outputs": [],
   "source": [
    "conversion_array[None].shape"
   ]
  },
  {
   "cell_type": "code",
   "execution_count": null,
   "metadata": {},
   "outputs": [],
   "source": [
    "friend_matrix*conversion_array[None]"
   ]
  },
  {
   "cell_type": "markdown",
   "metadata": {},
   "source": [
    "### This can extend past 1 and 2 dimensional arrays"
   ]
  },
  {
   "cell_type": "code",
   "execution_count": null,
   "metadata": {
    "ExecuteTime": {
     "end_time": "2019-01-11T19:14:59.295161Z",
     "start_time": "2019-01-11T19:14:59.290914Z"
    }
   },
   "outputs": [],
   "source": [
    "mat = np.ones((3,4,5))\n",
    "mat\n",
    "mat.shape"
   ]
  },
  {
   "cell_type": "code",
   "execution_count": null,
   "metadata": {
    "ExecuteTime": {
     "end_time": "2019-01-11T19:15:16.978438Z",
     "start_time": "2019-01-11T19:15:16.974489Z"
    }
   },
   "outputs": [],
   "source": [
    "np.arange(1,4)\n",
    "arr = np.arange(1,4)\n",
    "arr.shape"
   ]
  },
  {
   "cell_type": "code",
   "execution_count": null,
   "metadata": {
    "ExecuteTime": {
     "end_time": "2019-01-11T19:16:13.201527Z",
     "start_time": "2019-01-11T19:16:13.196691Z"
    }
   },
   "outputs": [],
   "source": [
    "mat + np.arange(1,4)[:,None,None]"
   ]
  },
  {
   "cell_type": "code",
   "execution_count": null,
   "metadata": {
    "ExecuteTime": {
     "end_time": "2019-01-11T19:15:31.873054Z",
     "start_time": "2019-01-11T19:15:31.869506Z"
    }
   },
   "outputs": [],
   "source": [
    "mat.shape"
   ]
  },
  {
   "cell_type": "code",
   "execution_count": null,
   "metadata": {
    "ExecuteTime": {
     "end_time": "2019-01-11T19:15:36.407971Z",
     "start_time": "2019-01-11T19:15:36.404377Z"
    }
   },
   "outputs": [],
   "source": [
    "arr.shape"
   ]
  },
  {
   "cell_type": "code",
   "execution_count": null,
   "metadata": {
    "ExecuteTime": {
     "end_time": "2019-01-11T19:16:34.656583Z",
     "start_time": "2019-01-11T19:16:34.652584Z"
    }
   },
   "outputs": [],
   "source": [
    "mat2 = np.ones((3,5))\n",
    "mat2.shape"
   ]
  },
  {
   "cell_type": "code",
   "execution_count": null,
   "metadata": {
    "ExecuteTime": {
     "end_time": "2019-01-11T19:16:47.473006Z",
     "start_time": "2019-01-11T19:16:47.469243Z"
    }
   },
   "outputs": [],
   "source": [
    "#mat + mat2\n",
    "mat.shape"
   ]
  },
  {
   "cell_type": "code",
   "execution_count": null,
   "metadata": {
    "ExecuteTime": {
     "end_time": "2019-01-11T19:17:23.970053Z",
     "start_time": "2019-01-11T19:17:23.965896Z"
    }
   },
   "outputs": [],
   "source": [
    "mat2[:,None,:].shape"
   ]
  },
  {
   "cell_type": "code",
   "execution_count": null,
   "metadata": {
    "ExecuteTime": {
     "end_time": "2019-01-11T19:17:41.898714Z",
     "start_time": "2019-01-11T19:17:41.893690Z"
    }
   },
   "outputs": [],
   "source": [
    "mat + mat2[:,None,:]"
   ]
  },
  {
   "cell_type": "markdown",
   "metadata": {},
   "source": [
    "### Note: You can skip any trailing colons"
   ]
  },
  {
   "cell_type": "code",
   "execution_count": null,
   "metadata": {
    "ExecuteTime": {
     "end_time": "2019-01-11T19:18:11.851244Z",
     "start_time": "2019-01-11T19:18:11.847207Z"
    }
   },
   "outputs": [],
   "source": [
    "mat2[:,None,:]"
   ]
  },
  {
   "cell_type": "code",
   "execution_count": null,
   "metadata": {
    "ExecuteTime": {
     "end_time": "2019-01-11T19:18:14.496136Z",
     "start_time": "2019-01-11T19:18:14.492294Z"
    }
   },
   "outputs": [],
   "source": [
    "mat2[:, None]"
   ]
  },
  {
   "cell_type": "code",
   "execution_count": null,
   "metadata": {
    "ExecuteTime": {
     "end_time": "2019-01-11T19:18:18.788015Z",
     "start_time": "2019-01-11T19:18:18.783156Z"
    }
   },
   "outputs": [],
   "source": [
    "mat + mat2[:,None]"
   ]
  },
  {
   "cell_type": "markdown",
   "metadata": {},
   "source": [
    "### Final Note About Broadcasting"
   ]
  },
  {
   "cell_type": "code",
   "execution_count": null,
   "metadata": {
    "ExecuteTime": {
     "end_time": "2019-01-11T19:18:52.965227Z",
     "start_time": "2019-01-11T19:18:52.962774Z"
    }
   },
   "outputs": [],
   "source": [
    "mat = np.eye(4)"
   ]
  },
  {
   "cell_type": "code",
   "execution_count": null,
   "metadata": {
    "ExecuteTime": {
     "end_time": "2019-01-11T19:18:53.703273Z",
     "start_time": "2019-01-11T19:18:53.699492Z"
    }
   },
   "outputs": [],
   "source": [
    "mat.shape\n",
    "#We have two dimensions both of size 4"
   ]
  },
  {
   "cell_type": "code",
   "execution_count": null,
   "metadata": {
    "ExecuteTime": {
     "end_time": "2019-01-11T19:18:58.499248Z",
     "start_time": "2019-01-11T19:18:58.496636Z"
    }
   },
   "outputs": [],
   "source": [
    "add_arr = np.array([1,2,3,4])"
   ]
  },
  {
   "cell_type": "code",
   "execution_count": null,
   "metadata": {
    "ExecuteTime": {
     "end_time": "2019-01-11T19:18:59.124803Z",
     "start_time": "2019-01-11T19:18:59.120421Z"
    }
   },
   "outputs": [],
   "source": [
    "mat + add_arr[None]"
   ]
  },
  {
   "cell_type": "code",
   "execution_count": null,
   "metadata": {
    "ExecuteTime": {
     "end_time": "2019-01-11T19:19:01.213981Z",
     "start_time": "2019-01-11T19:19:01.209638Z"
    }
   },
   "outputs": [],
   "source": [
    "mat + add_arr[:,None]"
   ]
  },
  {
   "cell_type": "code",
   "execution_count": null,
   "metadata": {},
   "outputs": [],
   "source": [
    "#These two are different. Ponder that a bit."
   ]
  },
  {
   "cell_type": "code",
   "execution_count": null,
   "metadata": {
    "ExecuteTime": {
     "end_time": "2019-01-11T19:19:15.941907Z",
     "start_time": "2019-01-11T19:19:15.938364Z"
    }
   },
   "outputs": [],
   "source": [
    "add_arr[None].shape"
   ]
  },
  {
   "cell_type": "code",
   "execution_count": null,
   "metadata": {
    "ExecuteTime": {
     "end_time": "2019-01-11T19:19:16.657055Z",
     "start_time": "2019-01-11T19:19:16.653352Z"
    }
   },
   "outputs": [],
   "source": [
    "add_arr[:,None].shape"
   ]
  },
  {
   "cell_type": "markdown",
   "metadata": {},
   "source": [
    "### Adendum\n",
    "\n",
    "You may see `np.newaxis` in place of `None` in documentation. Both do the same thing. I like `None` because it is faster to write"
   ]
  },
  {
   "cell_type": "code",
   "execution_count": null,
   "metadata": {
    "ExecuteTime": {
     "end_time": "2019-01-11T19:19:47.674682Z",
     "start_time": "2019-01-11T19:19:47.671032Z"
    }
   },
   "outputs": [],
   "source": [
    "add_arr[np.newaxis]"
   ]
  },
  {
   "cell_type": "code",
   "execution_count": null,
   "metadata": {
    "ExecuteTime": {
     "end_time": "2019-01-11T19:19:48.828545Z",
     "start_time": "2019-01-11T19:19:48.824885Z"
    }
   },
   "outputs": [],
   "source": [
    "add_arr[None]"
   ]
  },
  {
   "cell_type": "code",
   "execution_count": null,
   "metadata": {
    "ExecuteTime": {
     "end_time": "2019-01-11T19:40:31.846692Z",
     "start_time": "2019-01-11T19:40:31.773147Z"
    }
   },
   "outputs": [],
   "source": [
    "add_arr"
   ]
  }
 ],
 "metadata": {
  "kernelspec": {
   "display_name": "Python 3",
   "language": "python",
   "name": "python3"
  },
  "language_info": {
   "codemirror_mode": {
    "name": "ipython",
    "version": 3
   },
   "file_extension": ".py",
   "mimetype": "text/x-python",
   "name": "python",
   "nbconvert_exporter": "python",
   "pygments_lexer": "ipython3",
   "version": "3.7.1"
  },
  "varInspector": {
   "cols": {
    "lenName": 16,
    "lenType": 16,
    "lenVar": 40
   },
   "kernels_config": {
    "python": {
     "delete_cmd_postfix": "",
     "delete_cmd_prefix": "del ",
     "library": "var_list.py",
     "varRefreshCmd": "print(var_dic_list())"
    },
    "r": {
     "delete_cmd_postfix": ") ",
     "delete_cmd_prefix": "rm(",
     "library": "var_list.r",
     "varRefreshCmd": "cat(var_dic_list()) "
    }
   },
   "types_to_exclude": [
    "module",
    "function",
    "builtin_function_or_method",
    "instance",
    "_Feature"
   ],
   "window_display": false
  }
 },
 "nbformat": 4,
 "nbformat_minor": 2
}
