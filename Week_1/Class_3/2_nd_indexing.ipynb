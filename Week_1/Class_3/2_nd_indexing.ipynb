{
 "cells": [
  {
   "cell_type": "markdown",
   "metadata": {},
   "source": [
    "# Indexing the N-d Array"
   ]
  },
  {
   "cell_type": "code",
   "execution_count": 1,
   "metadata": {
    "ExecuteTime": {
     "end_time": "2019-01-11T19:48:09.142315Z",
     "start_time": "2019-01-11T19:48:09.139463Z"
    }
   },
   "outputs": [],
   "source": [
    "import numpy as np"
   ]
  },
  {
   "cell_type": "code",
   "execution_count": 2,
   "metadata": {
    "ExecuteTime": {
     "end_time": "2019-01-11T19:48:09.729368Z",
     "start_time": "2019-01-11T19:48:09.724862Z"
    }
   },
   "outputs": [],
   "source": [
    "heights = [72,73,69,76]\n",
    "weights = [170,200,158,180]\n",
    "friend_matrix = np.array([heights,weights]).T"
   ]
  },
  {
   "cell_type": "code",
   "execution_count": 3,
   "metadata": {
    "ExecuteTime": {
     "end_time": "2019-01-11T19:48:10.350258Z",
     "start_time": "2019-01-11T19:48:10.338141Z"
    }
   },
   "outputs": [
    {
     "data": {
      "text/plain": [
       "array([[ 72, 170],\n",
       "       [ 73, 200],\n",
       "       [ 69, 158],\n",
       "       [ 76, 180]])"
      ]
     },
     "execution_count": 3,
     "metadata": {},
     "output_type": "execute_result"
    }
   ],
   "source": [
    "friend_matrix"
   ]
  },
  {
   "cell_type": "markdown",
   "metadata": {},
   "source": [
    "### Single Element Selection"
   ]
  },
  {
   "cell_type": "code",
   "execution_count": 4,
   "metadata": {
    "ExecuteTime": {
     "end_time": "2019-01-11T19:48:55.836288Z",
     "start_time": "2019-01-11T19:48:55.830955Z"
    }
   },
   "outputs": [
    {
     "data": {
      "text/plain": [
       "170"
      ]
     },
     "execution_count": 4,
     "metadata": {},
     "output_type": "execute_result"
    }
   ],
   "source": [
    "#How to select 170?\n",
    "friend_matrix[0,1]\n",
    "\n",
    "#Row 0, element 1"
   ]
  },
  {
   "cell_type": "code",
   "execution_count": 5,
   "metadata": {
    "ExecuteTime": {
     "end_time": "2019-01-11T19:49:13.129561Z",
     "start_time": "2019-01-11T19:49:13.124488Z"
    }
   },
   "outputs": [
    {
     "data": {
      "text/plain": [
       "76"
      ]
     },
     "execution_count": 5,
     "metadata": {},
     "output_type": "execute_result"
    }
   ],
   "source": [
    "#How do we select 76?\n",
    "friend_matrix[3,0]"
   ]
  },
  {
   "cell_type": "markdown",
   "metadata": {},
   "source": [
    "### You can imagine how this would extend past 2 dimensions"
   ]
  },
  {
   "cell_type": "markdown",
   "metadata": {},
   "source": [
    "# Lets talk about our 2 ways of indexing"
   ]
  },
  {
   "cell_type": "markdown",
   "metadata": {},
   "source": [
    "# 1: Slicing"
   ]
  },
  {
   "cell_type": "code",
   "execution_count": 6,
   "metadata": {
    "ExecuteTime": {
     "end_time": "2019-01-11T19:49:46.846253Z",
     "start_time": "2019-01-11T19:49:46.841024Z"
    }
   },
   "outputs": [
    {
     "data": {
      "text/plain": [
       "array([[ 72, 170],\n",
       "       [ 73, 200],\n",
       "       [ 69, 158],\n",
       "       [ 76, 180]])"
      ]
     },
     "execution_count": 6,
     "metadata": {},
     "output_type": "execute_result"
    }
   ],
   "source": [
    "friend_matrix"
   ]
  },
  {
   "cell_type": "code",
   "execution_count": 7,
   "metadata": {
    "ExecuteTime": {
     "end_time": "2019-01-11T19:50:22.924417Z",
     "start_time": "2019-01-11T19:50:22.918450Z"
    }
   },
   "outputs": [
    {
     "data": {
      "text/plain": [
       "array([ 72, 170])"
      ]
     },
     "execution_count": 7,
     "metadata": {},
     "output_type": "execute_result"
    }
   ],
   "source": [
    "#How would we select only the 1st row? (As in row 0)\n",
    "friend_matrix[0,:]\n",
    "\n",
    "#What do I put where the question mark is?"
   ]
  },
  {
   "cell_type": "code",
   "execution_count": 8,
   "metadata": {
    "ExecuteTime": {
     "end_time": "2019-01-11T19:50:42.022548Z",
     "start_time": "2019-01-11T19:50:42.017726Z"
    }
   },
   "outputs": [
    {
     "data": {
      "text/plain": [
       "array([72, 73, 69, 76])"
      ]
     },
     "execution_count": 8,
     "metadata": {},
     "output_type": "execute_result"
    }
   ],
   "source": [
    "#How about the first column?\n",
    "friend_matrix[:,0]"
   ]
  },
  {
   "cell_type": "markdown",
   "metadata": {},
   "source": [
    "### Note: Trailing colons can be left out"
   ]
  },
  {
   "cell_type": "code",
   "execution_count": 9,
   "metadata": {
    "ExecuteTime": {
     "end_time": "2019-01-11T19:50:50.347685Z",
     "start_time": "2019-01-11T19:50:50.342093Z"
    }
   },
   "outputs": [
    {
     "data": {
      "text/plain": [
       "array([ 72, 170])"
      ]
     },
     "execution_count": 9,
     "metadata": {},
     "output_type": "execute_result"
    }
   ],
   "source": [
    "friend_matrix[0,:]"
   ]
  },
  {
   "cell_type": "code",
   "execution_count": 10,
   "metadata": {
    "ExecuteTime": {
     "end_time": "2019-01-11T19:50:54.009648Z",
     "start_time": "2019-01-11T19:50:54.004074Z"
    }
   },
   "outputs": [
    {
     "data": {
      "text/plain": [
       "array([ 72, 170])"
      ]
     },
     "execution_count": 10,
     "metadata": {},
     "output_type": "execute_result"
    }
   ],
   "source": [
    "friend_matrix[0]"
   ]
  },
  {
   "cell_type": "code",
   "execution_count": 12,
   "metadata": {
    "ExecuteTime": {
     "end_time": "2019-01-11T19:51:27.401487Z",
     "start_time": "2019-01-11T19:51:27.397449Z"
    }
   },
   "outputs": [
    {
     "data": {
      "text/plain": [
       "array([170, 200, 158])"
      ]
     },
     "execution_count": 12,
     "metadata": {},
     "output_type": "execute_result"
    }
   ],
   "source": [
    "#How would we select 0 to 2 from the second column?\n",
    "friend_matrix[0:3,1]"
   ]
  },
  {
   "cell_type": "markdown",
   "metadata": {},
   "source": [
    "### Operations via slicing"
   ]
  },
  {
   "cell_type": "code",
   "execution_count": 17,
   "metadata": {
    "ExecuteTime": {
     "end_time": "2019-01-11T19:52:57.045532Z",
     "start_time": "2019-01-11T19:52:57.039668Z"
    }
   },
   "outputs": [
    {
     "data": {
      "text/plain": [
       "array([[ 72, 170],\n",
       "       [ 73, 200],\n",
       "       [276, 632],\n",
       "       [ 76, 180]])"
      ]
     },
     "execution_count": 17,
     "metadata": {},
     "output_type": "execute_result"
    }
   ],
   "source": [
    "#Double the 3rd row?\n",
    "friend_matrix\n",
    "friend_matrix[2,:]*=2\n",
    "friend_matrix"
   ]
  },
  {
   "cell_type": "code",
   "execution_count": 18,
   "metadata": {
    "ExecuteTime": {
     "end_time": "2019-01-11T19:53:27.259951Z",
     "start_time": "2019-01-11T19:53:27.254447Z"
    }
   },
   "outputs": [
    {
     "data": {
      "text/plain": [
       "295.5"
      ]
     },
     "execution_count": 18,
     "metadata": {},
     "output_type": "execute_result"
    }
   ],
   "source": [
    "#Take the mean of the 2nd column?\n",
    "friend_matrix[:,1].mean()"
   ]
  },
  {
   "cell_type": "markdown",
   "metadata": {},
   "source": [
    "### Warning: Be careful about slicing and broadcasting"
   ]
  },
  {
   "cell_type": "code",
   "execution_count": 21,
   "metadata": {
    "ExecuteTime": {
     "end_time": "2019-01-11T19:58:42.767365Z",
     "start_time": "2019-01-11T19:58:42.762378Z"
    }
   },
   "outputs": [
    {
     "data": {
      "text/plain": [
       "(4,)"
      ]
     },
     "execution_count": 21,
     "metadata": {},
     "output_type": "execute_result"
    }
   ],
   "source": [
    "friend_matrix[:,0].shape"
   ]
  },
  {
   "cell_type": "code",
   "execution_count": 22,
   "metadata": {
    "ExecuteTime": {
     "end_time": "2019-01-11T19:58:46.405428Z",
     "start_time": "2019-01-11T19:58:46.397335Z"
    }
   },
   "outputs": [
    {
     "ename": "ValueError",
     "evalue": "operands could not be broadcast together with shapes (4,2) (4,) ",
     "output_type": "error",
     "traceback": [
      "\u001b[0;31m---------------------------------------------------------------------------\u001b[0m",
      "\u001b[0;31mValueError\u001b[0m                                Traceback (most recent call last)",
      "\u001b[0;32m<ipython-input-22-a7e943ec5f29>\u001b[0m in \u001b[0;36m<module>\u001b[0;34m()\u001b[0m\n\u001b[1;32m      1\u001b[0m \u001b[0;34m\u001b[0m\u001b[0m\n\u001b[1;32m      2\u001b[0m \u001b[0mfriend_matrix\u001b[0m\u001b[0;34m\u001b[0m\u001b[0;34m\u001b[0m\u001b[0m\n\u001b[0;32m----> 3\u001b[0;31m \u001b[0mfriend_matrix\u001b[0m\u001b[0;34m*\u001b[0m\u001b[0mfriend_matrix\u001b[0m\u001b[0;34m[\u001b[0m\u001b[0;34m:\u001b[0m\u001b[0;34m,\u001b[0m\u001b[0;36m0\u001b[0m\u001b[0;34m]\u001b[0m\u001b[0;34m\u001b[0m\u001b[0;34m\u001b[0m\u001b[0m\n\u001b[0m",
      "\u001b[0;31mValueError\u001b[0m: operands could not be broadcast together with shapes (4,2) (4,) "
     ]
    }
   ],
   "source": [
    "\n",
    "friend_matrix\n",
    "friend_matrix*friend_matrix[:,0]"
   ]
  },
  {
   "cell_type": "markdown",
   "metadata": {},
   "source": [
    "### Note: You may deal with this on your hw"
   ]
  },
  {
   "cell_type": "code",
   "execution_count": 26,
   "metadata": {
    "ExecuteTime": {
     "end_time": "2019-01-11T19:59:17.324168Z",
     "start_time": "2019-01-11T19:59:17.318641Z"
    }
   },
   "outputs": [
    {
     "data": {
      "text/plain": [
       "array([[  5184,  12240],\n",
       "       [  5329,  14600],\n",
       "       [ 76176, 174432],\n",
       "       [  5776,  13680]])"
      ]
     },
     "execution_count": 26,
     "metadata": {},
     "output_type": "execute_result"
    }
   ],
   "source": [
    "#How would we fix this?\n",
    "friend_matrix[:,0][:,None]*friend_matrix"
   ]
  },
  {
   "cell_type": "markdown",
   "metadata": {},
   "source": [
    "### Another way:"
   ]
  },
  {
   "cell_type": "code",
   "execution_count": 31,
   "metadata": {
    "ExecuteTime": {
     "end_time": "2019-01-11T20:00:17.772377Z",
     "start_time": "2019-01-11T20:00:17.767425Z"
    }
   },
   "outputs": [
    {
     "data": {
      "text/plain": [
       "array([[ 72],\n",
       "       [ 73],\n",
       "       [276],\n",
       "       [ 76]])"
      ]
     },
     "execution_count": 31,
     "metadata": {},
     "output_type": "execute_result"
    }
   ],
   "source": [
    "friend_matrix[:,0:1]"
   ]
  },
  {
   "cell_type": "code",
   "execution_count": 32,
   "metadata": {
    "ExecuteTime": {
     "end_time": "2019-01-11T20:00:23.171222Z",
     "start_time": "2019-01-11T20:00:23.166038Z"
    }
   },
   "outputs": [
    {
     "data": {
      "text/plain": [
       "(4, 1)"
      ]
     },
     "execution_count": 32,
     "metadata": {},
     "output_type": "execute_result"
    }
   ],
   "source": [
    "#This keeps it in the proper format\n",
    "friend_matrix[:,0:1].shape"
   ]
  },
  {
   "cell_type": "code",
   "execution_count": null,
   "metadata": {},
   "outputs": [],
   "source": [
    "friend_matrix[:,1:]"
   ]
  },
  {
   "cell_type": "markdown",
   "metadata": {},
   "source": [
    "### The `<STEP>` argument in slicing"
   ]
  },
  {
   "cell_type": "markdown",
   "metadata": {},
   "source": [
    "## How would we select every other column?"
   ]
  },
  {
   "cell_type": "code",
   "execution_count": 33,
   "metadata": {
    "ExecuteTime": {
     "end_time": "2019-01-11T20:00:47.844149Z",
     "start_time": "2019-01-11T20:00:47.838450Z"
    }
   },
   "outputs": [
    {
     "data": {
      "text/plain": [
       "array([[ 72],\n",
       "       [ 73],\n",
       "       [276],\n",
       "       [ 76]])"
      ]
     },
     "execution_count": 33,
     "metadata": {},
     "output_type": "execute_result"
    }
   ],
   "source": [
    "friend_matrix[:,::2]"
   ]
  },
  {
   "cell_type": "markdown",
   "metadata": {},
   "source": [
    "## How would we reverse the order of the columns?"
   ]
  },
  {
   "cell_type": "code",
   "execution_count": 34,
   "metadata": {
    "ExecuteTime": {
     "end_time": "2019-01-11T20:01:02.734605Z",
     "start_time": "2019-01-11T20:01:02.729554Z"
    }
   },
   "outputs": [
    {
     "data": {
      "text/plain": [
       "array([[170,  72],\n",
       "       [200,  73],\n",
       "       [632, 276],\n",
       "       [180,  76]])"
      ]
     },
     "execution_count": 34,
     "metadata": {},
     "output_type": "execute_result"
    }
   ],
   "source": [
    "friend_matrix[:,::-1]"
   ]
  },
  {
   "cell_type": "markdown",
   "metadata": {},
   "source": [
    "# 2: Logical Indexing"
   ]
  },
  {
   "cell_type": "code",
   "execution_count": 35,
   "metadata": {
    "ExecuteTime": {
     "end_time": "2019-01-11T20:01:47.997289Z",
     "start_time": "2019-01-11T20:01:47.992556Z"
    }
   },
   "outputs": [
    {
     "data": {
      "text/plain": [
       "array([[ 72, 170],\n",
       "       [ 73, 200],\n",
       "       [276, 632],\n",
       "       [ 76, 180]])"
      ]
     },
     "execution_count": 35,
     "metadata": {},
     "output_type": "execute_result"
    }
   ],
   "source": [
    "friend_matrix"
   ]
  },
  {
   "cell_type": "code",
   "execution_count": 36,
   "metadata": {
    "ExecuteTime": {
     "end_time": "2019-01-11T20:02:04.398277Z",
     "start_time": "2019-01-11T20:02:04.392952Z"
    }
   },
   "outputs": [
    {
     "data": {
      "text/plain": [
       "array([ 72, 170, 200, 276, 632,  76, 180])"
      ]
     },
     "execution_count": 36,
     "metadata": {},
     "output_type": "execute_result"
    }
   ],
   "source": [
    "#How would we select the even elements?\n",
    "#Same as before\n",
    "friend_matrix[friend_matrix%2==0]"
   ]
  },
  {
   "cell_type": "code",
   "execution_count": null,
   "metadata": {},
   "outputs": [],
   "source": [
    "#Returns a 1-d array"
   ]
  },
  {
   "cell_type": "markdown",
   "metadata": {},
   "source": [
    "### Note: You can chain together with & or | in the same way"
   ]
  },
  {
   "cell_type": "markdown",
   "metadata": {},
   "source": [
    "### Logical Indexing on Certain Dimensions"
   ]
  },
  {
   "cell_type": "code",
   "execution_count": 37,
   "metadata": {
    "ExecuteTime": {
     "end_time": "2019-01-11T20:02:42.780970Z",
     "start_time": "2019-01-11T20:02:42.775010Z"
    }
   },
   "outputs": [
    {
     "data": {
      "text/plain": [
       "array([[ 72, 170],\n",
       "       [ 73, 200],\n",
       "       [276, 632],\n",
       "       [ 76, 180]])"
      ]
     },
     "execution_count": 37,
     "metadata": {},
     "output_type": "execute_result"
    }
   ],
   "source": [
    "friend_matrix"
   ]
  },
  {
   "cell_type": "code",
   "execution_count": null,
   "metadata": {},
   "outputs": [],
   "source": [
    "#How might we select rows where height is greater than 72?"
   ]
  },
  {
   "cell_type": "code",
   "execution_count": 39,
   "metadata": {
    "ExecuteTime": {
     "end_time": "2019-01-11T20:03:46.465743Z",
     "start_time": "2019-01-11T20:03:46.460727Z"
    }
   },
   "outputs": [
    {
     "data": {
      "text/plain": [
       "array([False,  True,  True,  True])"
      ]
     },
     "execution_count": 39,
     "metadata": {},
     "output_type": "execute_result"
    }
   ],
   "source": [
    "#First, how would we check that rows have height greater than 72?\n",
    "friend_matrix[:,0]>72"
   ]
  },
  {
   "cell_type": "code",
   "execution_count": null,
   "metadata": {},
   "outputs": [],
   "source": [
    "#1: Select heights\n",
    "\n",
    "\n",
    "\n",
    "\n",
    "\n",
    "\n",
    "\n",
    "\n",
    "\n",
    "\n",
    "\n",
    "\n",
    "\n",
    "\n",
    "\n",
    "friend_matrix[:,0]"
   ]
  },
  {
   "cell_type": "code",
   "execution_count": 40,
   "metadata": {
    "ExecuteTime": {
     "end_time": "2019-01-11T20:04:06.181627Z",
     "start_time": "2019-01-11T20:04:06.175975Z"
    }
   },
   "outputs": [
    {
     "data": {
      "text/plain": [
       "array([False,  True,  True,  True])"
      ]
     },
     "execution_count": 40,
     "metadata": {},
     "output_type": "execute_result"
    }
   ],
   "source": [
    "#2: Check if greater than 72\n",
    "\n",
    "\n",
    "\n",
    "\n",
    "\n",
    "\n",
    "\n",
    "\n",
    "\n",
    "\n",
    "\n",
    "\n",
    "friend_matrix[:,0]>72"
   ]
  },
  {
   "cell_type": "code",
   "execution_count": 41,
   "metadata": {
    "ExecuteTime": {
     "end_time": "2019-01-11T20:05:10.082592Z",
     "start_time": "2019-01-11T20:05:10.076917Z"
    }
   },
   "outputs": [
    {
     "data": {
      "text/plain": [
       "array([[ 73, 200],\n",
       "       [276, 632],\n",
       "       [ 76, 180]])"
      ]
     },
     "execution_count": 41,
     "metadata": {},
     "output_type": "execute_result"
    }
   ],
   "source": [
    "#3: Exactly what you'd usually do to select certain rows\n",
    "\n",
    "friend_matrix[friend_matrix[:,0]>72,:]\n",
    "\n",
    "\n",
    "\n",
    "\n",
    "\n",
    "\n",
    "\n",
    "\n",
    "#friend_matrix[friend_matrix[:,0]>72]"
   ]
  },
  {
   "cell_type": "code",
   "execution_count": null,
   "metadata": {},
   "outputs": [],
   "source": [
    "#How to select columns that contain a number divisible by 5?"
   ]
  },
  {
   "cell_type": "code",
   "execution_count": 48,
   "metadata": {
    "ExecuteTime": {
     "end_time": "2019-01-11T20:09:58.917116Z",
     "start_time": "2019-01-11T20:09:58.911794Z"
    }
   },
   "outputs": [
    {
     "data": {
      "text/plain": [
       "array([False,  True])"
      ]
     },
     "execution_count": 48,
     "metadata": {},
     "output_type": "execute_result"
    }
   ],
   "source": [
    "#1: Select the columns that have a number divisible by 5\n",
    "#Hint: use np.any()\n",
    "(friend_matrix%5==0).any(0)"
   ]
  },
  {
   "cell_type": "code",
   "execution_count": 44,
   "metadata": {
    "ExecuteTime": {
     "end_time": "2019-01-11T20:07:56.836199Z",
     "start_time": "2019-01-11T20:07:56.831680Z"
    }
   },
   "outputs": [
    {
     "data": {
      "text/plain": [
       "array([[170],\n",
       "       [200],\n",
       "       [632],\n",
       "       [180]])"
      ]
     },
     "execution_count": 44,
     "metadata": {},
     "output_type": "execute_result"
    }
   ],
   "source": [
    "#2: Exactly what you'd usually do to select certain columns\n",
    "friend_matrix[:,(friend_matrix%5==0).any(0)]"
   ]
  },
  {
   "cell_type": "markdown",
   "metadata": {},
   "source": [
    "### Note: You can use logicial indexing on multiple dimensions at once"
   ]
  },
  {
   "cell_type": "code",
   "execution_count": 45,
   "metadata": {
    "ExecuteTime": {
     "end_time": "2019-01-11T20:08:06.130526Z",
     "start_time": "2019-01-11T20:08:06.125916Z"
    }
   },
   "outputs": [
    {
     "data": {
      "text/plain": [
       "array([[ 72, 170],\n",
       "       [ 73, 200],\n",
       "       [276, 632],\n",
       "       [ 76, 180]])"
      ]
     },
     "execution_count": 45,
     "metadata": {},
     "output_type": "execute_result"
    }
   ],
   "source": [
    "friend_matrix"
   ]
  },
  {
   "cell_type": "code",
   "execution_count": 46,
   "metadata": {
    "ExecuteTime": {
     "end_time": "2019-01-11T20:08:20.531046Z",
     "start_time": "2019-01-11T20:08:20.524952Z"
    }
   },
   "outputs": [
    {
     "data": {
      "text/plain": [
       "array([200, 632, 180])"
      ]
     },
     "execution_count": 46,
     "metadata": {},
     "output_type": "execute_result"
    }
   ],
   "source": [
    "#Lets select rows where height is greater than 72 and columns that have a number divisible by 5\n",
    "friend_matrix[friend_matrix[:,0]>72,(friend_matrix%5==0).any(0)]"
   ]
  },
  {
   "cell_type": "markdown",
   "metadata": {},
   "source": [
    "### Note: You can combine slicing with logical indexing"
   ]
  },
  {
   "cell_type": "code",
   "execution_count": 47,
   "metadata": {
    "ExecuteTime": {
     "end_time": "2019-01-11T20:09:19.302619Z",
     "start_time": "2019-01-11T20:09:19.296919Z"
    }
   },
   "outputs": [
    {
     "data": {
      "text/plain": [
       "array([[170],\n",
       "       [200]])"
      ]
     },
     "execution_count": 47,
     "metadata": {},
     "output_type": "execute_result"
    }
   ],
   "source": [
    "#Ex: Select first 2 rows from the columns that have a number divisible by 5?\n",
    "friend_matrix[:2,(friend_matrix%5==0).any(0)]"
   ]
  },
  {
   "cell_type": "markdown",
   "metadata": {},
   "source": [
    "### 3: Fancy Indexing\n",
    "\n",
    "Recall fancy indexing on a 1-d array\n",
    "\n",
    "Similar on n-d arrays, I never use it so feel free to play with it on your own"
   ]
  }
 ],
 "metadata": {
  "kernelspec": {
   "display_name": "Python 3",
   "language": "python",
   "name": "python3"
  },
  "language_info": {
   "codemirror_mode": {
    "name": "ipython",
    "version": 3
   },
   "file_extension": ".py",
   "mimetype": "text/x-python",
   "name": "python",
   "nbconvert_exporter": "python",
   "pygments_lexer": "ipython3",
   "version": "3.7.1"
  },
  "varInspector": {
   "cols": {
    "lenName": 16,
    "lenType": 16,
    "lenVar": 40
   },
   "kernels_config": {
    "python": {
     "delete_cmd_postfix": "",
     "delete_cmd_prefix": "del ",
     "library": "var_list.py",
     "varRefreshCmd": "print(var_dic_list())"
    },
    "r": {
     "delete_cmd_postfix": ") ",
     "delete_cmd_prefix": "rm(",
     "library": "var_list.r",
     "varRefreshCmd": "cat(var_dic_list()) "
    }
   },
   "types_to_exclude": [
    "module",
    "function",
    "builtin_function_or_method",
    "instance",
    "_Feature"
   ],
   "window_display": false
  }
 },
 "nbformat": 4,
 "nbformat_minor": 2
}
