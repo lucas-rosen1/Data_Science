{
 "cells": [
  {
   "cell_type": "markdown",
   "metadata": {},
   "source": [
    "# Setting up the AWS instance"
   ]
  },
  {
   "cell_type": "markdown",
   "metadata": {},
   "source": [
    "This notebook will show how to setup a free-tier AWS instance for cloud computing. \n",
    "\n",
    "There are many benefits to this approach:\n",
    "* We all work in the same linux environment. Don't have to worry about Mac vs PC issues.\n",
    "* Don't have to worry about local computer issues. You can run your instance on any computer.\n",
    "* Can run code while your computer is off/updating/you want to play fortnite.\n",
    "* If you later want to run more complicated models like Deep Neural Networks you can use this same approach, but with a paid-GPU'd instance if you do not own a powerful enough computer.\n",
    "\n",
    "There are also a few drawbacks:\n",
    "* At the whim of the internet. I would not code on a cloud instance if I was in Antartica, for example.\n",
    "* Free-tier instances have low storage and shoddy hardware. Will not be an issue for our purposes."
   ]
  },
  {
   "cell_type": "markdown",
   "metadata": {},
   "source": [
    "## Step 1: Create your AWS account\n",
    "Go here: https://portal.aws.amazon.com/billing/signup?redirect_url=https%3A%2F%2Faws.amazon.com%2Fregistration-confirmation#/start\n",
    "\n",
    "You should see this:\n",
    "<img src=\"images/class_1/1.png\" style=\"width: 400px;\">\n",
    "\n",
    "* Create your account info.\n",
    "* On the next screen select your account type as \"personal\" and enter info there.\n",
    "* You will then be prompted to enter payement info. You will need to use a credit/debit card here. However for our purposes you will need end up spending any money. In the worst case where you do exceed Amazons limits (if you have your machine running all the time) you end up spending something like $5 a month.\n",
    "* Confirm your identity.\n",
    "* On the next screen, select \"basic plan\"\n",
    "<img src=\"images/class_1/2.png\"  style=\"width: 400px;\">\n",
    "\n",
    "* You will recieve an email in a few minutes when your account is ready.\n"
   ]
  },
  {
   "cell_type": "markdown",
   "metadata": {},
   "source": [
    "## Step 2: Create your free-tier instance\n",
    "* Go here https://console.aws.amazon.com/?nc2=h_m_mc and sign in\n",
    "* Click \"launch a virtual machine\" at the bottom left of this screen\n",
    "<img src=\"images/class_1/3.png\"  style=\"width: 400px;\">\n",
    "\n",
    "* Scroll down until you see this: \n",
    "<img src=\"images/class_1/4.png\"  style=\"width: 400px;\">\n",
    "* Hit select on the right side.\n",
    "Note: As you can see we are using the latest version of Ubuntu, one of the most popular linux distros and the one I personally use. For more info on ubuntu see here: https://www.ubuntu.com/\n",
    "\n",
    "* Click \"Next: configure instance details\" on the bottom right corner of the screen.\n",
    "* Click \"Next: add storage\" on the bottom right corner of the screen.\n",
    "Here we will add as much storage as Amazon will let us.\n",
    "* Change Size (GiB) to 30. This is the maximum we can have for free.\n",
    "<img src=\"images/class_1/5.png\"  style=\"width: 400px;\">\n",
    "* Click \"Next: add tags\"\n",
    "* Click \"Next: Configure Security Group\"\n",
    "We will now add rules that allow us to access our notebooks via internet. You'll understand what this means eventually.\n",
    "* Click add rule at the bottom left of the screen.\n",
    "* Change port range to 8888 and Source to 0.0.0.0/0\n",
    "* It should now look like this:\n",
    "<img src=\"images/class_1/6.png\"  style=\"width: 400px;\">\n",
    "* Click \"Review and Launch\" at the bottom right.\n",
    "* Click \"Launch\" at the bottom right.\n",
    "\n",
    "* You will now be prompted for a key pair. Where it says \"Choosing an existing key pair\" change that field to say \"Create a new key pair.\"\n",
    "* Give it a name. I named mine \"my_key\". My screen looks like this\n",
    "<img src=\"images/class_1/7.png\"  style=\"width: 400px;\">\n",
    "\n",
    "* Click \"Download Key Pair\" and download.\n",
    "* Click \"Launch Instances\"\n",
    "\n",
    "Your instance is now launched. It will be ready in a few minutes."
   ]
  },
  {
   "cell_type": "markdown",
   "metadata": {},
   "source": [
    "## Step 3: Accessing the instance"
   ]
  },
  {
   "cell_type": "code",
   "execution_count": null,
   "metadata": {},
   "outputs": [],
   "source": []
  }
 ],
 "metadata": {
  "kernelspec": {
   "display_name": "Python [conda env:trews]",
   "language": "python",
   "name": "conda-env-trews-py"
  },
  "language_info": {
   "codemirror_mode": {
    "name": "ipython",
    "version": 3
   },
   "file_extension": ".py",
   "mimetype": "text/x-python",
   "name": "python",
   "nbconvert_exporter": "python",
   "pygments_lexer": "ipython3",
   "version": "3.7.0"
  }
 },
 "nbformat": 4,
 "nbformat_minor": 2
}
