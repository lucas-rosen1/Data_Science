{
 "cells": [
  {
   "cell_type": "markdown",
   "metadata": {},
   "source": [
    "# Setting up the AWS instance"
   ]
  },
  {
   "cell_type": "markdown",
   "metadata": {},
   "source": [
    "This notebook will show how to setup a free-tier AWS instance for cloud computing. \n",
    "\n",
    "There are many benefits to this approach:\n",
    "* We all work in the same linux environment. Don't have to worry about Mac vs PC issues.\n",
    "* Don't have to worry about local computer issues. You can run your instance on any computer.\n",
    "* Can run code while your computer is off/updating/you want to play fortnite.\n",
    "* If you later want to run more complicated models like Deep Neural Networks you can use this same approach, but with a paid-GPU'd instance if you do not own a powerful enough computer.\n",
    "\n",
    "There are also a few drawbacks:\n",
    "* At the whim of the internet. I would not code on a cloud instance if I was in Antartica, for example.\n",
    "* Free-tier instances have low storage and shoddy hardware. Will not be an issue for our purposes."
   ]
  },
  {
   "cell_type": "markdown",
   "metadata": {},
   "source": [
    "## Step 1: Create your AWS account\n",
    "Go here: https://portal.aws.amazon.com/billing/signup?redirect_url=https%3A%2F%2Faws.amazon.com%2Fregistration-confirmation#/start\n",
    "\n",
    "You should see this:\n",
    "<img src=\"images/class_1/1.png\" style=\"width: 400px;\">\n",
    "\n",
    "* Create your account info.\n",
    "* On the next screen select your account type as \"personal\" and enter info there.\n",
    "* You will then be prompted to enter payement info. You will need to use a credit/debit card here. However for our purposes you will need end up spending any money. In the worst case where you do exceed Amazons limits (if you have your machine running all the time) you end up spending something like $5 a month.\n",
    "* Confirm your identity.\n",
    "* On the next screen, select \"basic plan\"\n",
    "<img src=\"images/class_1/2.png\"  style=\"width: 400px;\">\n",
    "\n",
    "* You will recieve an email in a few minutes when your account is ready.\n"
   ]
  },
  {
   "cell_type": "markdown",
   "metadata": {},
   "source": [
    "## Step 2: Create your free-tier instance\n",
    "* Go here https://console.aws.amazon.com/?nc2=h_m_mc and sign in\n",
    "* Click \"launch a virtual machine\" at the bottom left of this screen\n",
    "<img src=\"images/class_1/3.png\"  style=\"width: 400px;\">\n",
    "\n",
    "* Scroll down until you see this: \n",
    "<img src=\"images/class_1/4.png\"  style=\"width: 400px;\">\n",
    "* Hit select on the right side.\n",
    "Note: As you can see we are using the latest version of Ubuntu, one of the most popular linux distros and the one I personally use. For more info on ubuntu see here: https://www.ubuntu.com/\n",
    "\n",
    "* Click \"Next: configure instance details\" on the bottom right corner of the screen.\n",
    "* Click \"Next: add storage\" on the bottom right corner of the screen.\n",
    "Here we will add as much storage as Amazon will let us.\n",
    "* Change Size (GiB) to 30. This is the maximum we can have for free.\n",
    "<img src=\"images/class_1/5.png\"  style=\"width: 400px;\">\n",
    "* Click \"Next: add tags\"\n",
    "* Click \"Next: Configure Security Group\"\n",
    "We will now add rules that allow us to access our notebooks via internet. You'll understand what this means eventually.\n",
    "* Click add rule at the bottom left of the screen.\n",
    "* Change port range to 8888 and Source to 0.0.0.0/0\n",
    "* It should now look like this:\n",
    "<img src=\"images/class_1/6.png\"  style=\"width: 400px;\">\n",
    "* Click \"Review and Launch\" at the bottom right.\n",
    "* Click \"Launch\" at the bottom right.\n",
    "\n",
    "* You will now be prompted for a key pair. Where it says \"Choosing an existing key pair\" change that field to say \"Create a new key pair.\"\n",
    "* Give it a name. I named mine \"my_key\". My screen looks like this\n",
    "<img src=\"images/class_1/7.png\"  style=\"width: 400px;\">\n",
    "\n",
    "* Click \"Download Key Pair\" and download.\n",
    "* Click \"Launch Instances\"\n",
    "\n",
    "Your instance is now launched. It will be ready in a few minutes.\n",
    "\n",
    "Congratulations, you now know AWS! There is a lot more than can be done with AWS that even I don't know. Google around to find out. If there is extra time, I may do a lecture on AWS in the 3rd week."
   ]
  },
  {
   "cell_type": "markdown",
   "metadata": {},
   "source": [
    "## Step 3: Accessing the instance"
   ]
  },
  {
   "cell_type": "markdown",
   "metadata": {},
   "source": [
    "If you already have a favorite way to SSH into a remote server with a key then you can skip this part\n",
    "\n",
    "* Install PuTTY\n",
    "    * Windows/Linux: https://www.putty.org/\n",
    "    * Mac OSX: https://www.ssh.com/ssh/putty/mac/\n",
    "    \n",
    "* Open PuTTYgen\n",
    "* Under actions, hit \"Load\" and load in the key you downloaded previously, you'll need to allow finder/explorer to see \"All Files\"\n",
    "* Hit \"Save Private Key\"\n",
    "* Don't worry about a password\n",
    "* Give it a name and save it somewhere you'll remember\n",
    "* Close PuTTYgen\n",
    "\n",
    "* Open the EC2 Dashboard: https://console.aws.amazon.com/ec2/\n",
    "* Click Instances on the Left Side\n",
    "<img src=\"images/class_1/p1.png\"  style=\"width: 400px;\">\n",
    "\n",
    "* Copy the Public DNS (The highlighted text in the photo below):\n",
    "<img src=\"images/class_1/p2.png\"  style=\"width: 500px;\">\n",
    "\n",
    "\n",
    "* Open PuTTY\n",
    "* Under host name put in ubuntu@< \"ENTER  YOUR DNS HERE\" >\n",
    "<img src=\"images/class_1/p3.png\"  style=\"width: 500px;\">\n",
    "\n",
    "* On the left side of the PuTTY window hit the \"+\" next to \"SSH\" and then hit \"AUTH\" under \"SSH\"\n",
    "<img src=\"images/class_1/p4.png\"  style=\"width: 500px;\">\n",
    "\n",
    "* Hit \"Browse\" Near the middle-bottom right of the window and find your key you generated using PuTTYGen\n",
    "\n",
    "* Scroll up on Category and go back to \"Session\"\n",
    "<img src=\"images/class_1/p5.png\"  style=\"width: 500px;\">\n",
    "\n",
    "* Now, we will save this session. On this screen, in the textbook under saved session given this a name. I'll go with AWS, then hit \"Save\"\n",
    "<img src=\"images/class_1/p6.png\"  style=\"width: 500px;\">\n",
    "\n",
    "* Now hit \"Open\" at the bottom\n",
    "* You should see this:\n",
    "\n",
    "<img src=\"images/class_1/p7.png\"  style=\"width: 500px;\">\n",
    "\n",
    "* Lets update our software as the first thing we do\n",
    "* Type in `sudo apt-get update` and enter it into the console\n",
    "* Type in `sudo apt-get upgrade` and type `y` when prompted\n",
    "* If you end up on a purple screen hit \"Enter\" (Return on Mac)\n",
    "* When done we need to restart our instance. Type `sudo reboot` and close PuTTY\n",
    "* We will now need to wait a couple of minutes."
   ]
  },
  {
   "cell_type": "markdown",
   "metadata": {},
   "source": [
    "## Step 4: Installing Conda and Jupyter\n",
    "\n",
    "* Go back into PuTTY and double click \"AWS\" under \"Saved Sessions\"\n",
    "* If you get connection refused this is because you're still rebooting. Close PuTTY, wait a minute and try again.\n",
    "* Now you should be back in.\n",
    "* We now need to install conda, a special version of python made for data science.\n",
    "* Lets download the Conda Installer file. Linux has a command `wget` to download files from the internet.\n",
    "* Type `wget https://repo.continuum.io/archive/Anaconda3-2018.12-Linux-x86_64.sh` into your console.\n",
    "* Note: You can use shift+insert to paste into PuTTY\n",
    "* Once downloaded type `bash Anaconda3-2018.12-Linux-x86_64.sh` into the console.\n",
    "* Go through the installation \n",
    "    * make sure to accept the liscence terms\n",
    "    * The default location is fine \n",
    "    * Allow the installer to intialize Anaconda into your .bashrc\n",
    "    * Do not install VSCode\n",
    "* Reboot your instance again with `sudo reboot`\n",
    "* Wait a few minutes and open again with PuTTY.\n",
    "* When you type `conda` into the you should see a manual page\n",
    "* If that is not true, reinstall conda\n",
    "* You can now remove the conda installation file. Type `rm Anaconda3-2018.12-Linux-x86_64.sh`\n",
    "\n",
    "\n",
    "* Do steps 10-12 in this https://medium.com/@alexjsanchez/python-3-notebooks-on-aws-ec2-in-15-mostly-easy-steps-2ec5e662c6c6\n",
    "* WARNING: IN STEP 12 PASTE THIS INSTEAD OF WHAT THE ARTICLE SAYS\n",
    "\n",
    "```\n",
    "c = get_config()\n",
    "\n",
    "# Kernel config\n",
    "c.IPKernelApp.pylab = 'inline'  # if you want plotting support always in your notebook`\n",
    "\n",
    "# Notebook config\n",
    "c.NotebookApp.certfile = u'/home/ubuntu/certs/mycert.pem' #location of your certificate file\n",
    "c.NotebookApp.ip = '0.0.0.0'\n",
    "c.NotebookApp.open_browser = False  #so that the ipython notebook does not opens up a browser by default\n",
    "c.NotebookApp.password = u'sha1:262....your hash here.........65f'  #edit this with the SHA hash that you generated after typing in Step 9\n",
    "# This is the port we opened in Step 3.\n",
    "c.NotebookApp.port = 8888\n",
    "```\n",
    "\n",
    "* Type `cd`\n",
    "* Type `echo \"alias rjupyter='sudo /home/ubuntu/anaconda3/bin/jupyter notebook --allow-root'\" >> .bashrc`\n",
    "* Type `. .bashrc`"
   ]
  },
  {
   "cell_type": "markdown",
   "metadata": {},
   "source": [
    "## STEP 5: Opening the Jupyter Notebook\n",
    "* type `rjupyter` in your console\n",
    "* remember you Public DNS from before?\n",
    "<img src=\"images/class_1/p2.png\"  style=\"width: 500px;\">\n",
    "* Go to a web browser and navigate to `https://< DNS HERE >:8888`\n",
    "* For example I go to `https://ec2-18-220-88-12.us-east-2.compute.amazonaws.com:8888/`\n",
    "    * I would reccomend bookmarking this page\n",
    "* You should see this or something like this\n",
    "<img src=\"images/class_1/p9.png\"  style=\"width: 500px;\">\n",
    "* Hit \"Advanced\" and then add the exception\n",
    "* You now should see this\n",
    "<img src=\"images/class_1/p9.png\"  style=\"width: 500px;\">\n",
    "* Log in with the password you create before\n",
    "<img src=\"images/class_1/p10.png\"  style=\"width: 500px;\">\n",
    "\n",
    "You now in!\n",
    "\n",
    "We will soon discuss all the things you can do. Jupyter is both a file management environment and code environment."
   ]
  },
  {
   "cell_type": "markdown",
   "metadata": {},
   "source": [
    "## Step 6: Closing the Notebook\n",
    "* Close the window on your webbrowser\n",
    "* In your putty console enter `Ctrl-c`\n",
    "* Then type `y`"
   ]
  },
  {
   "cell_type": "markdown",
   "metadata": {},
   "source": [
    "# Final Note: Our IP Address Can Change\n",
    "* I'll demonstrate this"
   ]
  },
  {
   "cell_type": "code",
   "execution_count": null,
   "metadata": {},
   "outputs": [],
   "source": []
  }
 ],
 "metadata": {
  "kernelspec": {
   "display_name": "Python [conda env:trews]",
   "language": "python",
   "name": "conda-env-trews-py"
  },
  "language_info": {
   "codemirror_mode": {
    "name": "ipython",
    "version": 3
   },
   "file_extension": ".py",
   "mimetype": "text/x-python",
   "name": "python",
   "nbconvert_exporter": "python",
   "pygments_lexer": "ipython3",
   "version": "3.7.0"
  }
 },
 "nbformat": 4,
 "nbformat_minor": 2
}
