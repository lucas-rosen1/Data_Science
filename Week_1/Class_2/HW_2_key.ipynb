{
 "cells": [
  {
   "cell_type": "code",
   "execution_count": 1,
   "metadata": {
    "ExecuteTime": {
     "end_time": "2019-01-14T04:52:46.296994Z",
     "start_time": "2019-01-14T04:52:46.234083Z"
    }
   },
   "outputs": [],
   "source": [
    "import numpy as np"
   ]
  },
  {
   "cell_type": "markdown",
   "metadata": {},
   "source": [
    "## HW_2"
   ]
  },
  {
   "cell_type": "markdown",
   "metadata": {},
   "source": [
    "#### Exercises (5 Exercises)\n",
    "In each of these exercises I will ask you to remove the loop(s) from the code.\n",
    "\n",
    "#### Note: Use numpys built in function to build your initial range arrays"
   ]
  },
  {
   "cell_type": "code",
   "execution_count": 2,
   "metadata": {
    "ExecuteTime": {
     "end_time": "2019-01-14T04:52:46.303514Z",
     "start_time": "2019-01-14T04:52:46.298978Z"
    }
   },
   "outputs": [
    {
     "name": "stdout",
     "output_type": "stream",
     "text": [
      "[0, 1, 2, 3, 4, 5, 6, 7, 8, 9]\n",
      "[0, 1, 4, 9, 16, 25, 36, 49, 64, 81]\n"
     ]
    }
   ],
   "source": [
    "#Exercise 1\n",
    "#WITH LOOPS\n",
    "arr = list(range(10))\n",
    "print(arr)\n",
    "for i in range(len(arr)):\n",
    "    arr[i]**=2\n",
    "print(arr)"
   ]
  },
  {
   "cell_type": "code",
   "execution_count": 3,
   "metadata": {
    "ExecuteTime": {
     "end_time": "2019-01-14T04:52:46.308620Z",
     "start_time": "2019-01-14T04:52:46.305457Z"
    }
   },
   "outputs": [
    {
     "name": "stdout",
     "output_type": "stream",
     "text": [
      "[ 0  1  4  9 16 25 36 49 64 81]\n"
     ]
    }
   ],
   "source": [
    "#Exercise 1\n",
    "#WITHOUT LOOPS\n",
    "arr = np.arange(10)\n",
    "arr**=2\n",
    "print(arr)"
   ]
  },
  {
   "cell_type": "code",
   "execution_count": 4,
   "metadata": {
    "ExecuteTime": {
     "end_time": "2019-01-14T04:52:46.314550Z",
     "start_time": "2019-01-14T04:52:46.310748Z"
    }
   },
   "outputs": [
    {
     "name": "stdout",
     "output_type": "stream",
     "text": [
      "[True, True, True, False, True, True, True, True, True, True]\n"
     ]
    }
   ],
   "source": [
    "#Exercise 2\n",
    "#WITH LOOPS\n",
    "arr = list(range(10))\n",
    "bool_arr = []\n",
    "for ele in arr:\n",
    "    bool_arr.append(ele != 3)\n",
    "print(bool_arr)"
   ]
  },
  {
   "cell_type": "code",
   "execution_count": 5,
   "metadata": {
    "ExecuteTime": {
     "end_time": "2019-01-14T04:52:46.320293Z",
     "start_time": "2019-01-14T04:52:46.316819Z"
    }
   },
   "outputs": [
    {
     "name": "stdout",
     "output_type": "stream",
     "text": [
      "[ True  True  True False  True  True  True  True  True  True]\n"
     ]
    }
   ],
   "source": [
    "#Exercise 2\n",
    "#WITHOUT LOOPS\n",
    "arr = np.arange(10)\n",
    "bool_arr = arr != 3\n",
    "print(bool_arr)"
   ]
  },
  {
   "cell_type": "code",
   "execution_count": 6,
   "metadata": {
    "ExecuteTime": {
     "end_time": "2019-01-14T04:52:46.325457Z",
     "start_time": "2019-01-14T04:52:46.321899Z"
    }
   },
   "outputs": [
    {
     "name": "stdout",
     "output_type": "stream",
     "text": [
      "[0, 1, 2, 3, 4, 5, 6, 7, 8, 9]\n",
      "[5, 6, 7, 8, 9]\n"
     ]
    }
   ],
   "source": [
    "#Exercise 3\n",
    "#WITH LOOPS\n",
    "arr = list(range(10))\n",
    "print(arr)\n",
    "new_arr = []\n",
    "for ele in arr:\n",
    "    if ele>=5:\n",
    "        new_arr.append(ele)\n",
    "print(new_arr)"
   ]
  },
  {
   "cell_type": "code",
   "execution_count": 7,
   "metadata": {
    "ExecuteTime": {
     "end_time": "2019-01-14T04:52:46.330248Z",
     "start_time": "2019-01-14T04:52:46.327231Z"
    }
   },
   "outputs": [
    {
     "name": "stdout",
     "output_type": "stream",
     "text": [
      "[6 7 8 9]\n"
     ]
    }
   ],
   "source": [
    "#Exercise 3\n",
    "#WITHOUT LOOPS\n",
    "#NOTE: DO NOT simply do something of the form new_arr = np.arange(5,10)\n",
    "arr = np.arange(10)\n",
    "new_arr = arr[arr>5]\n",
    "print(new_arr)"
   ]
  },
  {
   "cell_type": "code",
   "execution_count": 8,
   "metadata": {
    "ExecuteTime": {
     "end_time": "2019-01-14T04:52:46.335353Z",
     "start_time": "2019-01-14T04:52:46.331959Z"
    }
   },
   "outputs": [
    {
     "name": "stdout",
     "output_type": "stream",
     "text": [
      "[0, 1, 2, 3, 4, 5, 6, 7, 8, 9]\n",
      "20\n"
     ]
    }
   ],
   "source": [
    "#Exercise 4\n",
    "#WITH LOOPS\n",
    "arr = list(range(10))\n",
    "print(arr)\n",
    "tot = 0\n",
    "num_els = 0\n",
    "for ele in arr:\n",
    "    if ele%2==0:\n",
    "        tot+=ele\n",
    "print(tot)"
   ]
  },
  {
   "cell_type": "code",
   "execution_count": 9,
   "metadata": {
    "ExecuteTime": {
     "end_time": "2019-01-14T04:52:46.340081Z",
     "start_time": "2019-01-14T04:52:46.337237Z"
    }
   },
   "outputs": [
    {
     "name": "stdout",
     "output_type": "stream",
     "text": [
      "20\n"
     ]
    }
   ],
   "source": [
    "#Exercise 4\n",
    "#WITHOUT LOOPS\n",
    "arr = np.arange(10)\n",
    "tot = arr[arr%2==0].sum()\n",
    "print(tot)"
   ]
  },
  {
   "cell_type": "code",
   "execution_count": 10,
   "metadata": {
    "ExecuteTime": {
     "end_time": "2019-01-14T04:52:46.346776Z",
     "start_time": "2019-01-14T04:52:46.342028Z"
    }
   },
   "outputs": [
    {
     "name": "stdout",
     "output_type": "stream",
     "text": [
      "[0, 1, 2, 3, 4, 5, 6, 7, 8, 9]\n",
      "3.0\n"
     ]
    }
   ],
   "source": [
    "#Exercise 5\n",
    "#WITH LOOPS\n",
    "arr = list(range(10))\n",
    "print(arr)\n",
    "tot = 0\n",
    "num_els = 0\n",
    "for ele in arr:\n",
    "    if ele%2==0 and ele%3==0:\n",
    "        tot+=ele\n",
    "        num_els+=1\n",
    "print(tot/num_els)"
   ]
  },
  {
   "cell_type": "code",
   "execution_count": 11,
   "metadata": {
    "ExecuteTime": {
     "end_time": "2019-01-14T04:52:46.352647Z",
     "start_time": "2019-01-14T04:52:46.348638Z"
    }
   },
   "outputs": [
    {
     "name": "stdout",
     "output_type": "stream",
     "text": [
      "[0 1 2 3 4 5 6 7 8 9]\n",
      "3.0\n"
     ]
    }
   ],
   "source": [
    "#Exercise 5\n",
    "#WITHOUT LOOPS\n",
    "#NOTE: No division will be needed\n",
    "arr = np.arange(10)\n",
    "print(arr)\n",
    "print(arr[(arr%2==0) & (arr%3==0)].mean())"
   ]
  },
  {
   "cell_type": "markdown",
   "metadata": {},
   "source": [
    "### Bonus\n",
    "Write the convexification procedure from class"
   ]
  },
  {
   "cell_type": "code",
   "execution_count": 12,
   "metadata": {
    "ExecuteTime": {
     "end_time": "2019-01-14T04:52:46.359319Z",
     "start_time": "2019-01-14T04:52:46.354974Z"
    }
   },
   "outputs": [],
   "source": [
    "import numpy as np\n",
    "import numpy.linalg as la\n",
    "\n",
    "def convexification(H):\n",
    "    beta = 1e6\n",
    "    \n",
    "    #WRITE CODE HERE\n",
    "    if np.all(H==0):\n",
    "        eps = 1\n",
    "    else:\n",
    "        eps = la.norm(H)/beta\n",
    "    \n",
    "    L, V = la.eig(H)\n",
    "    L_bar = np.abs(L)\n",
    "    L_bar[L_bar<eps]=eps\n",
    "    L_bar_mat = np.diag(L_bar)\n",
    "    B = V@L_bar_mat@V.T\n",
    "    return B"
   ]
  },
  {
   "cell_type": "code",
   "execution_count": 13,
   "metadata": {
    "ExecuteTime": {
     "end_time": "2019-01-14T04:52:46.364401Z",
     "start_time": "2019-01-14T04:52:46.361378Z"
    }
   },
   "outputs": [],
   "source": [
    "#You can test your code for syntax errors on 'H_sym'\n",
    "H = np.random.randint(-2000,2000,size=(100,100))\n",
    "H_sym = (H + H.T)/2"
   ]
  },
  {
   "cell_type": "code",
   "execution_count": 14,
   "metadata": {
    "ExecuteTime": {
     "end_time": "2019-01-14T04:52:46.378949Z",
     "start_time": "2019-01-14T04:52:46.366330Z"
    }
   },
   "outputs": [
    {
     "data": {
      "text/plain": [
       "array([[-2,  0,  0,  0],\n",
       "       [ 0, -1,  0,  0],\n",
       "       [ 0,  0,  0,  0],\n",
       "       [ 0,  0,  0,  1]])"
      ]
     },
     "execution_count": 14,
     "metadata": {},
     "output_type": "execute_result"
    }
   ],
   "source": [
    "#Test this code\n",
    "test_H = np.diag(np.arange(-2,2))\n",
    "test_H"
   ]
  },
  {
   "cell_type": "code",
   "execution_count": 15,
   "metadata": {
    "ExecuteTime": {
     "end_time": "2019-01-14T04:52:46.416378Z",
     "start_time": "2019-01-14T04:52:46.380807Z"
    }
   },
   "outputs": [
    {
     "data": {
      "text/plain": [
       "array([[2.00000000e+00, 0.00000000e+00, 0.00000000e+00, 0.00000000e+00],\n",
       "       [0.00000000e+00, 1.00000000e+00, 0.00000000e+00, 0.00000000e+00],\n",
       "       [0.00000000e+00, 0.00000000e+00, 2.44948974e-06, 0.00000000e+00],\n",
       "       [0.00000000e+00, 0.00000000e+00, 0.00000000e+00, 1.00000000e+00]])"
      ]
     },
     "execution_count": 15,
     "metadata": {},
     "output_type": "execute_result"
    }
   ],
   "source": [
    "#This is the answer\n",
    "convexification(test_H)"
   ]
  }
 ],
 "metadata": {
  "kernelspec": {
   "display_name": "Python 3",
   "language": "python",
   "name": "python3"
  },
  "language_info": {
   "codemirror_mode": {
    "name": "ipython",
    "version": 3
   },
   "file_extension": ".py",
   "mimetype": "text/x-python",
   "name": "python",
   "nbconvert_exporter": "python",
   "pygments_lexer": "ipython3",
   "version": "3.7.1"
  },
  "varInspector": {
   "cols": {
    "lenName": 16,
    "lenType": 16,
    "lenVar": 40
   },
   "kernels_config": {
    "python": {
     "delete_cmd_postfix": "",
     "delete_cmd_prefix": "del ",
     "library": "var_list.py",
     "varRefreshCmd": "print(var_dic_list())"
    },
    "r": {
     "delete_cmd_postfix": ") ",
     "delete_cmd_prefix": "rm(",
     "library": "var_list.r",
     "varRefreshCmd": "cat(var_dic_list()) "
    }
   },
   "types_to_exclude": [
    "module",
    "function",
    "builtin_function_or_method",
    "instance",
    "_Feature"
   ],
   "window_display": false
  }
 },
 "nbformat": 4,
 "nbformat_minor": 2
}
