{
 "cells": [
  {
   "cell_type": "code",
   "execution_count": null,
   "metadata": {},
   "outputs": [],
   "source": [
    "import numpy as np"
   ]
  },
  {
   "cell_type": "markdown",
   "metadata": {},
   "source": [
    "## HW_2"
   ]
  },
  {
   "cell_type": "markdown",
   "metadata": {},
   "source": [
    "#### Exercises (5 Exercises) - 2 points total\n",
    "In each of these exercises I will ask you to remove the loop(s) from the code.\n",
    "\n",
    "#### Note: Use numpys built in function to build your initial range arrays"
   ]
  },
  {
   "cell_type": "code",
   "execution_count": null,
   "metadata": {},
   "outputs": [],
   "source": [
    "#Exercise 1\n",
    "#WITH LOOPS\n",
    "arr = list(range(10))\n",
    "print(arr)\n",
    "for i in range(len(arr)):\n",
    "    arr[i]**=2\n",
    "print(arr)"
   ]
  },
  {
   "cell_type": "code",
   "execution_count": null,
   "metadata": {},
   "outputs": [],
   "source": [
    "#Exercise 1\n",
    "#WITHOUT LOOPS\n"
   ]
  },
  {
   "cell_type": "code",
   "execution_count": null,
   "metadata": {},
   "outputs": [],
   "source": [
    "#Exercise 2\n",
    "#WITH LOOPS\n",
    "arr = list(range(10))\n",
    "bool_arr = []\n",
    "for ele in arr:\n",
    "    bool_arr.append(ele != 3)\n",
    "print(bool_arr)"
   ]
  },
  {
   "cell_type": "code",
   "execution_count": null,
   "metadata": {},
   "outputs": [],
   "source": [
    "#Exercise 2\n",
    "#WITHOUT LOOPS\n"
   ]
  },
  {
   "cell_type": "code",
   "execution_count": null,
   "metadata": {},
   "outputs": [],
   "source": [
    "#Exercise 3\n",
    "#WITH LOOPS\n",
    "arr = list(range(10))\n",
    "print(arr)\n",
    "new_arr = []\n",
    "for ele in arr:\n",
    "    if ele>=5:\n",
    "        new_arr.append(ele)\n",
    "print(new_arr)"
   ]
  },
  {
   "cell_type": "code",
   "execution_count": null,
   "metadata": {},
   "outputs": [],
   "source": [
    "#Exercise 3\n",
    "#WITHOUT LOOPS\n",
    "#NOTE: DO NOT simply do something of the form new_arr = np.arange(5,10)\n"
   ]
  },
  {
   "cell_type": "code",
   "execution_count": null,
   "metadata": {},
   "outputs": [],
   "source": [
    "#Exercise 4\n",
    "#WITH LOOPS\n",
    "arr = list(range(10))\n",
    "print(arr)\n",
    "tot = 0\n",
    "num_els = 0\n",
    "for ele in arr:\n",
    "    if ele%2==0:\n",
    "        tot+=ele\n",
    "print(tot)"
   ]
  },
  {
   "cell_type": "code",
   "execution_count": null,
   "metadata": {},
   "outputs": [],
   "source": [
    "#Exercise 4\n",
    "#WITHOUT LOOPS\n"
   ]
  },
  {
   "cell_type": "code",
   "execution_count": null,
   "metadata": {},
   "outputs": [],
   "source": [
    "#Exercise 5\n",
    "#WITH LOOPS\n",
    "arr = list(range(10))\n",
    "print(arr)\n",
    "tot = 0\n",
    "num_els = 0\n",
    "for ele in arr:\n",
    "    if ele%2==0 and ele%3==0:\n",
    "        tot+=ele\n",
    "        num_els+=1\n",
    "print(tot/num_els)"
   ]
  },
  {
   "cell_type": "code",
   "execution_count": null,
   "metadata": {},
   "outputs": [],
   "source": [
    "#Exercise 5\n",
    "#WITHOUT LOOPS\n",
    "#NOTE: No division will be needed\n"
   ]
  },
  {
   "cell_type": "markdown",
   "metadata": {},
   "source": [
    "### Bonus - 2 points total\n",
    "Write the convexification procedure from class"
   ]
  },
  {
   "cell_type": "code",
   "execution_count": null,
   "metadata": {},
   "outputs": [],
   "source": [
    "import numpy as np\n",
    "import numpy.linalg as la\n",
    "\n",
    "def convexification(H):\n",
    "    beta = 1e6\n",
    "    \n",
    "    #WRITE CODE HERE\n",
    "    \n",
    "    \n",
    "    return B"
   ]
  },
  {
   "cell_type": "code",
   "execution_count": null,
   "metadata": {},
   "outputs": [],
   "source": [
    "#You can test your code for syntax errors on 'H_sym'\n",
    "H = np.random.randint(-2000,2000,size=(100,100))\n",
    "H_sym = (H + H.T)/2"
   ]
  }
 ],
 "metadata": {
  "kernelspec": {
   "display_name": "Python 3",
   "language": "python",
   "name": "python3"
  },
  "language_info": {
   "codemirror_mode": {
    "name": "ipython",
    "version": 3
   },
   "file_extension": ".py",
   "mimetype": "text/x-python",
   "name": "python",
   "nbconvert_exporter": "python",
   "pygments_lexer": "ipython3",
   "version": "3.7.1"
  },
  "varInspector": {
   "cols": {
    "lenName": 16,
    "lenType": 16,
    "lenVar": 40
   },
   "kernels_config": {
    "python": {
     "delete_cmd_postfix": "",
     "delete_cmd_prefix": "del ",
     "library": "var_list.py",
     "varRefreshCmd": "print(var_dic_list())"
    },
    "r": {
     "delete_cmd_postfix": ") ",
     "delete_cmd_prefix": "rm(",
     "library": "var_list.r",
     "varRefreshCmd": "cat(var_dic_list()) "
    }
   },
   "types_to_exclude": [
    "module",
    "function",
    "builtin_function_or_method",
    "instance",
    "_Feature"
   ],
   "window_display": false
  }
 },
 "nbformat": 4,
 "nbformat_minor": 2
}
